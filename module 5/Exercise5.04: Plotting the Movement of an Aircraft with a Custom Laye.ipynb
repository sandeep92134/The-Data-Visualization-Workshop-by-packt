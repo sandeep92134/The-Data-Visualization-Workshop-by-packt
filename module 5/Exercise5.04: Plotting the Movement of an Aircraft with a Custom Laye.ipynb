{
  "nbformat": 4,
  "nbformat_minor": 0,
  "metadata": {
    "kernelspec": {
      "display_name": "Python 3",
      "language": "python",
      "name": "python3"
    },
    "language_info": {
      "codemirror_mode": {
        "name": "ipython",
        "version": 3
      },
      "file_extension": ".py",
      "mimetype": "text/x-python",
      "name": "python",
      "nbconvert_exporter": "python",
      "pygments_lexer": "ipython3",
      "version": "3.7.2"
    },
    "colab": {
      "name": "Exercise5.04.ipynb",
      "provenance": [],
      "include_colab_link": true
    }
  },
  "cells": [
    {
      "cell_type": "markdown",
      "metadata": {
        "id": "view-in-github",
        "colab_type": "text"
      },
      "source": [
        "<a href=\"https://colab.research.google.com/github/sandeep92134/The-Data-Visualization-Workshop-by-packt/blob/master/module%205/Exercise5.04%3A%20Plotting%20the%20Movement%20of%20an%20Aircraft%20with%20a%20Custom%20Laye.ipynb\" target=\"_parent\"><img src=\"https://colab.research.google.com/assets/colab-badge.svg\" alt=\"Open In Colab\"/></a>"
      ]
    },
    {
      "cell_type": "markdown",
      "metadata": {
        "id": "PbcupvNIeN9b"
      },
      "source": [
        "## Exercise 5.04: Plotting the Movement of an Aircraft with a Custom Layer"
      ]
    },
    {
      "cell_type": "markdown",
      "metadata": {
        "id": "NH8-fZoaeN9m"
      },
      "source": [
        "In this exercise, we will take a look at how to create custom layers that allow you to not only display geo-spatial data but also animate your datapoints over time.  \n",
        "We'll get a deeper understanding of how geoplotlib works and how layers are created and drawn.\n",
        "\n",
        "Our dataset does not only contain spatial but also temporal information which enables us to plot flights over time on our map.   \n",
        "There is an example on how to do this with taxis in the examples folder of geoplotlib.   \n",
        "https://github.com/andrea-cuttone/geoplotlib/blob/master/examples/taxi.py\n",
        "\n",
        "**Note:**   \n",
        "The dataset can be found here:   \n",
        "https://datamillnorth.org/dataset/flight-tracking"
      ]
    },
    {
      "cell_type": "markdown",
      "metadata": {
        "id": "M7cGgqvHeN9o"
      },
      "source": [
        "#### Loading the dataset"
      ]
    },
    {
      "cell_type": "markdown",
      "metadata": {
        "id": "ffolWgJ9eN9p"
      },
      "source": [
        "This time our dataset contains flight data recorded from different machines.   \n",
        "Each entry is assigned to a unique plane through a `hex_ident`.   \n",
        "Each location is related to a specific timestamp that consists of a `date` and a `time`."
      ]
    },
    {
      "cell_type": "code",
      "metadata": {
        "id": "kV9IVoiyeN9q"
      },
      "source": [
        "# importing the necessary dependencies\n",
        "import pandas as pd"
      ],
      "execution_count": 1,
      "outputs": []
    },
    {
      "cell_type": "code",
      "metadata": {
        "id": "VpdPiCCVeN9r"
      },
      "source": [
        "# loading the dataset from the csv file\n",
        "dataset = pd.read_csv('https://raw.githubusercontent.com/sandeep92134/The-Data-Visualization-Workshop-by-packt/master/module%205/datasets/flight_tracking.csv')"
      ],
      "execution_count": 2,
      "outputs": []
    },
    {
      "cell_type": "code",
      "metadata": {
        "colab": {
          "base_uri": "https://localhost:8080/",
          "height": 204
        },
        "id": "0tMHGTBFeN9r",
        "outputId": "70159fa1-f012-44e8-aed9-ea87aed37419"
      },
      "source": [
        "# displaying the first 5 rows of the dataset\n",
        "dataset.head()"
      ],
      "execution_count": 3,
      "outputs": [
        {
          "output_type": "execute_result",
          "data": {
            "text/html": [
              "<div>\n",
              "<style scoped>\n",
              "    .dataframe tbody tr th:only-of-type {\n",
              "        vertical-align: middle;\n",
              "    }\n",
              "\n",
              "    .dataframe tbody tr th {\n",
              "        vertical-align: top;\n",
              "    }\n",
              "\n",
              "    .dataframe thead th {\n",
              "        text-align: right;\n",
              "    }\n",
              "</style>\n",
              "<table border=\"1\" class=\"dataframe\">\n",
              "  <thead>\n",
              "    <tr style=\"text-align: right;\">\n",
              "      <th></th>\n",
              "      <th>hex_ident</th>\n",
              "      <th>altitude(feet)</th>\n",
              "      <th>latitude</th>\n",
              "      <th>longitude</th>\n",
              "      <th>date</th>\n",
              "      <th>time</th>\n",
              "      <th>angle</th>\n",
              "      <th>distance(nauticalmile)</th>\n",
              "      <th>squawk</th>\n",
              "      <th>ground_speed(knotph)</th>\n",
              "      <th>track</th>\n",
              "      <th>callsign</th>\n",
              "    </tr>\n",
              "  </thead>\n",
              "  <tbody>\n",
              "    <tr>\n",
              "      <th>0</th>\n",
              "      <td>40631C</td>\n",
              "      <td>14525</td>\n",
              "      <td>53.65947</td>\n",
              "      <td>-1.43819</td>\n",
              "      <td>2017/09/11</td>\n",
              "      <td>17:02:06.418</td>\n",
              "      <td>-120.77</td>\n",
              "      <td>11.27</td>\n",
              "      <td>6276.0</td>\n",
              "      <td>299.0</td>\n",
              "      <td>283.0</td>\n",
              "      <td>NaN</td>\n",
              "    </tr>\n",
              "    <tr>\n",
              "      <th>1</th>\n",
              "      <td>40631C</td>\n",
              "      <td>14525</td>\n",
              "      <td>53.65956</td>\n",
              "      <td>-1.43921</td>\n",
              "      <td>2017/09/11</td>\n",
              "      <td>17:02:06.875</td>\n",
              "      <td>-120.64</td>\n",
              "      <td>11.30</td>\n",
              "      <td>6276.0</td>\n",
              "      <td>299.0</td>\n",
              "      <td>283.0</td>\n",
              "      <td>NaN</td>\n",
              "    </tr>\n",
              "    <tr>\n",
              "      <th>2</th>\n",
              "      <td>40631C</td>\n",
              "      <td>14500</td>\n",
              "      <td>53.65979</td>\n",
              "      <td>-1.44066</td>\n",
              "      <td>2017/09/11</td>\n",
              "      <td>17:02:07.342</td>\n",
              "      <td>-120.43</td>\n",
              "      <td>11.32</td>\n",
              "      <td>6276.0</td>\n",
              "      <td>299.0</td>\n",
              "      <td>283.0</td>\n",
              "      <td>EZY63BT</td>\n",
              "    </tr>\n",
              "    <tr>\n",
              "      <th>3</th>\n",
              "      <td>40631C</td>\n",
              "      <td>14475</td>\n",
              "      <td>53.66025</td>\n",
              "      <td>-1.44447</td>\n",
              "      <td>2017/09/11</td>\n",
              "      <td>17:02:09.238</td>\n",
              "      <td>-119.94</td>\n",
              "      <td>11.40</td>\n",
              "      <td>6276.0</td>\n",
              "      <td>299.0</td>\n",
              "      <td>283.0</td>\n",
              "      <td>EZY63BT</td>\n",
              "    </tr>\n",
              "    <tr>\n",
              "      <th>4</th>\n",
              "      <td>40631C</td>\n",
              "      <td>14475</td>\n",
              "      <td>53.66044</td>\n",
              "      <td>-1.44591</td>\n",
              "      <td>2017/09/11</td>\n",
              "      <td>17:02:09.825</td>\n",
              "      <td>-119.75</td>\n",
              "      <td>11.43</td>\n",
              "      <td>6276.0</td>\n",
              "      <td>299.0</td>\n",
              "      <td>283.0</td>\n",
              "      <td>EZY63BT</td>\n",
              "    </tr>\n",
              "  </tbody>\n",
              "</table>\n",
              "</div>"
            ],
            "text/plain": [
              "  hex_ident  altitude(feet)  latitude  ...  ground_speed(knotph)  track  callsign\n",
              "0    40631C           14525  53.65947  ...                 299.0  283.0       NaN\n",
              "1    40631C           14525  53.65956  ...                 299.0  283.0       NaN\n",
              "2    40631C           14500  53.65979  ...                 299.0  283.0  EZY63BT \n",
              "3    40631C           14475  53.66025  ...                 299.0  283.0  EZY63BT \n",
              "4    40631C           14475  53.66044  ...                 299.0  283.0  EZY63BT \n",
              "\n",
              "[5 rows x 12 columns]"
            ]
          },
          "metadata": {
            "tags": []
          },
          "execution_count": 3
        }
      ]
    },
    {
      "cell_type": "markdown",
      "metadata": {
        "id": "z7FioToFeN9t"
      },
      "source": [
        "Rename the latitude and longitude columns to lat and lon by using the rename method provided by pandas."
      ]
    },
    {
      "cell_type": "code",
      "metadata": {
        "id": "8TtFnmJyeN9u"
      },
      "source": [
        "# renaming columns latitude to lat and longitude to lon\n",
        "dataset = dataset.rename(index=str, columns={\"latitude\": \"lat\", \"longitude\": \"lon\"})"
      ],
      "execution_count": 4,
      "outputs": []
    },
    {
      "cell_type": "markdown",
      "metadata": {
        "id": "_EJ3H5aGeN9v"
      },
      "source": [
        "**Note:**   \n",
        "Remember that geoplotlib needs columns that are named `lat` and `lon`. You will encounter an error if that is not the case."
      ]
    },
    {
      "cell_type": "code",
      "metadata": {
        "colab": {
          "base_uri": "https://localhost:8080/",
          "height": 204
        },
        "id": "oN0i8hcVeN9v",
        "outputId": "f00a4a29-1398-44da-ca9d-136eaefa8802"
      },
      "source": [
        "# displaying the first 5 rows of the dataset\n",
        "dataset.head()"
      ],
      "execution_count": 5,
      "outputs": [
        {
          "output_type": "execute_result",
          "data": {
            "text/html": [
              "<div>\n",
              "<style scoped>\n",
              "    .dataframe tbody tr th:only-of-type {\n",
              "        vertical-align: middle;\n",
              "    }\n",
              "\n",
              "    .dataframe tbody tr th {\n",
              "        vertical-align: top;\n",
              "    }\n",
              "\n",
              "    .dataframe thead th {\n",
              "        text-align: right;\n",
              "    }\n",
              "</style>\n",
              "<table border=\"1\" class=\"dataframe\">\n",
              "  <thead>\n",
              "    <tr style=\"text-align: right;\">\n",
              "      <th></th>\n",
              "      <th>hex_ident</th>\n",
              "      <th>altitude(feet)</th>\n",
              "      <th>lat</th>\n",
              "      <th>lon</th>\n",
              "      <th>date</th>\n",
              "      <th>time</th>\n",
              "      <th>angle</th>\n",
              "      <th>distance(nauticalmile)</th>\n",
              "      <th>squawk</th>\n",
              "      <th>ground_speed(knotph)</th>\n",
              "      <th>track</th>\n",
              "      <th>callsign</th>\n",
              "    </tr>\n",
              "  </thead>\n",
              "  <tbody>\n",
              "    <tr>\n",
              "      <th>0</th>\n",
              "      <td>40631C</td>\n",
              "      <td>14525</td>\n",
              "      <td>53.65947</td>\n",
              "      <td>-1.43819</td>\n",
              "      <td>2017/09/11</td>\n",
              "      <td>17:02:06.418</td>\n",
              "      <td>-120.77</td>\n",
              "      <td>11.27</td>\n",
              "      <td>6276.0</td>\n",
              "      <td>299.0</td>\n",
              "      <td>283.0</td>\n",
              "      <td>NaN</td>\n",
              "    </tr>\n",
              "    <tr>\n",
              "      <th>1</th>\n",
              "      <td>40631C</td>\n",
              "      <td>14525</td>\n",
              "      <td>53.65956</td>\n",
              "      <td>-1.43921</td>\n",
              "      <td>2017/09/11</td>\n",
              "      <td>17:02:06.875</td>\n",
              "      <td>-120.64</td>\n",
              "      <td>11.30</td>\n",
              "      <td>6276.0</td>\n",
              "      <td>299.0</td>\n",
              "      <td>283.0</td>\n",
              "      <td>NaN</td>\n",
              "    </tr>\n",
              "    <tr>\n",
              "      <th>2</th>\n",
              "      <td>40631C</td>\n",
              "      <td>14500</td>\n",
              "      <td>53.65979</td>\n",
              "      <td>-1.44066</td>\n",
              "      <td>2017/09/11</td>\n",
              "      <td>17:02:07.342</td>\n",
              "      <td>-120.43</td>\n",
              "      <td>11.32</td>\n",
              "      <td>6276.0</td>\n",
              "      <td>299.0</td>\n",
              "      <td>283.0</td>\n",
              "      <td>EZY63BT</td>\n",
              "    </tr>\n",
              "    <tr>\n",
              "      <th>3</th>\n",
              "      <td>40631C</td>\n",
              "      <td>14475</td>\n",
              "      <td>53.66025</td>\n",
              "      <td>-1.44447</td>\n",
              "      <td>2017/09/11</td>\n",
              "      <td>17:02:09.238</td>\n",
              "      <td>-119.94</td>\n",
              "      <td>11.40</td>\n",
              "      <td>6276.0</td>\n",
              "      <td>299.0</td>\n",
              "      <td>283.0</td>\n",
              "      <td>EZY63BT</td>\n",
              "    </tr>\n",
              "    <tr>\n",
              "      <th>4</th>\n",
              "      <td>40631C</td>\n",
              "      <td>14475</td>\n",
              "      <td>53.66044</td>\n",
              "      <td>-1.44591</td>\n",
              "      <td>2017/09/11</td>\n",
              "      <td>17:02:09.825</td>\n",
              "      <td>-119.75</td>\n",
              "      <td>11.43</td>\n",
              "      <td>6276.0</td>\n",
              "      <td>299.0</td>\n",
              "      <td>283.0</td>\n",
              "      <td>EZY63BT</td>\n",
              "    </tr>\n",
              "  </tbody>\n",
              "</table>\n",
              "</div>"
            ],
            "text/plain": [
              "  hex_ident  altitude(feet)       lat  ...  ground_speed(knotph)  track  callsign\n",
              "0    40631C           14525  53.65947  ...                 299.0  283.0       NaN\n",
              "1    40631C           14525  53.65956  ...                 299.0  283.0       NaN\n",
              "2    40631C           14500  53.65979  ...                 299.0  283.0  EZY63BT \n",
              "3    40631C           14475  53.66025  ...                 299.0  283.0  EZY63BT \n",
              "4    40631C           14475  53.66044  ...                 299.0  283.0  EZY63BT \n",
              "\n",
              "[5 rows x 12 columns]"
            ]
          },
          "metadata": {
            "tags": []
          },
          "execution_count": 5
        }
      ]
    },
    {
      "cell_type": "markdown",
      "metadata": {
        "id": "AxHvrT2aeN9w"
      },
      "source": [
        "---"
      ]
    },
    {
      "cell_type": "markdown",
      "metadata": {
        "id": "csnfOXXDeN9x"
      },
      "source": [
        "#### Adding an unix timestamp"
      ]
    },
    {
      "cell_type": "markdown",
      "metadata": {
        "id": "OAquPtbUeN9x"
      },
      "source": [
        "The easiest way to work with and handle time is to use a unix timestamp.   \n",
        "In previous activities, we've already seen how to create a new column in our dataset by applying a function to it.   \n",
        "We are using the datatime library to parse the date and time columns of our dataset and use it to create a unix timestamp.\n",
        "\n",
        "Combine date and time into a timestamp, using the, already provided, to_epoch method."
      ]
    },
    {
      "cell_type": "code",
      "metadata": {
        "id": "4ks8mFqueN9y"
      },
      "source": [
        "# method to convert date and time to an unix timestamp\n",
        "from datetime import datetime\n",
        "\n",
        "def to_epoch(date, time):\n",
        "    try:\n",
        "        timestamp = round(datetime.strptime('{} {}'.format(date, time), '%Y/%m/%d %H:%M:%S.%f').timestamp())\n",
        "        return timestamp\n",
        "    except ValueError:\n",
        "        return round(datetime.strptime('2017/09/11 17:02:06.418', '%Y/%m/%d %H:%M:%S.%f').timestamp())"
      ],
      "execution_count": 6,
      "outputs": []
    },
    {
      "cell_type": "markdown",
      "metadata": {
        "id": "3kIQ3CCWeN9y"
      },
      "source": [
        "Use to_epoch and the apply method provided by the pandas DataFrame to create a new column called timestamp that holds the unix timestamp."
      ]
    },
    {
      "cell_type": "code",
      "metadata": {
        "id": "WY6-avzZeN9z"
      },
      "source": [
        "# creating a new column called timestamp with the to_epoch method applied\n",
        "dataset['timestamp'] = dataset.apply(lambda x: to_epoch(x['date'], x['time']), axis=1)"
      ],
      "execution_count": 7,
      "outputs": []
    },
    {
      "cell_type": "code",
      "metadata": {
        "colab": {
          "base_uri": "https://localhost:8080/",
          "height": 204
        },
        "id": "VDsDUMFseN9z",
        "outputId": "4c6fe8be-3f43-42e6-afe3-ce843b79c7ae"
      },
      "source": [
        "# displaying the first 5 rows of the dataset\n",
        "dataset.head()"
      ],
      "execution_count": 8,
      "outputs": [
        {
          "output_type": "execute_result",
          "data": {
            "text/html": [
              "<div>\n",
              "<style scoped>\n",
              "    .dataframe tbody tr th:only-of-type {\n",
              "        vertical-align: middle;\n",
              "    }\n",
              "\n",
              "    .dataframe tbody tr th {\n",
              "        vertical-align: top;\n",
              "    }\n",
              "\n",
              "    .dataframe thead th {\n",
              "        text-align: right;\n",
              "    }\n",
              "</style>\n",
              "<table border=\"1\" class=\"dataframe\">\n",
              "  <thead>\n",
              "    <tr style=\"text-align: right;\">\n",
              "      <th></th>\n",
              "      <th>hex_ident</th>\n",
              "      <th>altitude(feet)</th>\n",
              "      <th>lat</th>\n",
              "      <th>lon</th>\n",
              "      <th>date</th>\n",
              "      <th>time</th>\n",
              "      <th>angle</th>\n",
              "      <th>distance(nauticalmile)</th>\n",
              "      <th>squawk</th>\n",
              "      <th>ground_speed(knotph)</th>\n",
              "      <th>track</th>\n",
              "      <th>callsign</th>\n",
              "      <th>timestamp</th>\n",
              "    </tr>\n",
              "  </thead>\n",
              "  <tbody>\n",
              "    <tr>\n",
              "      <th>0</th>\n",
              "      <td>40631C</td>\n",
              "      <td>14525</td>\n",
              "      <td>53.65947</td>\n",
              "      <td>-1.43819</td>\n",
              "      <td>2017/09/11</td>\n",
              "      <td>17:02:06.418</td>\n",
              "      <td>-120.77</td>\n",
              "      <td>11.27</td>\n",
              "      <td>6276.0</td>\n",
              "      <td>299.0</td>\n",
              "      <td>283.0</td>\n",
              "      <td>NaN</td>\n",
              "      <td>1505149326</td>\n",
              "    </tr>\n",
              "    <tr>\n",
              "      <th>1</th>\n",
              "      <td>40631C</td>\n",
              "      <td>14525</td>\n",
              "      <td>53.65956</td>\n",
              "      <td>-1.43921</td>\n",
              "      <td>2017/09/11</td>\n",
              "      <td>17:02:06.875</td>\n",
              "      <td>-120.64</td>\n",
              "      <td>11.30</td>\n",
              "      <td>6276.0</td>\n",
              "      <td>299.0</td>\n",
              "      <td>283.0</td>\n",
              "      <td>NaN</td>\n",
              "      <td>1505149327</td>\n",
              "    </tr>\n",
              "    <tr>\n",
              "      <th>2</th>\n",
              "      <td>40631C</td>\n",
              "      <td>14500</td>\n",
              "      <td>53.65979</td>\n",
              "      <td>-1.44066</td>\n",
              "      <td>2017/09/11</td>\n",
              "      <td>17:02:07.342</td>\n",
              "      <td>-120.43</td>\n",
              "      <td>11.32</td>\n",
              "      <td>6276.0</td>\n",
              "      <td>299.0</td>\n",
              "      <td>283.0</td>\n",
              "      <td>EZY63BT</td>\n",
              "      <td>1505149327</td>\n",
              "    </tr>\n",
              "    <tr>\n",
              "      <th>3</th>\n",
              "      <td>40631C</td>\n",
              "      <td>14475</td>\n",
              "      <td>53.66025</td>\n",
              "      <td>-1.44447</td>\n",
              "      <td>2017/09/11</td>\n",
              "      <td>17:02:09.238</td>\n",
              "      <td>-119.94</td>\n",
              "      <td>11.40</td>\n",
              "      <td>6276.0</td>\n",
              "      <td>299.0</td>\n",
              "      <td>283.0</td>\n",
              "      <td>EZY63BT</td>\n",
              "      <td>1505149329</td>\n",
              "    </tr>\n",
              "    <tr>\n",
              "      <th>4</th>\n",
              "      <td>40631C</td>\n",
              "      <td>14475</td>\n",
              "      <td>53.66044</td>\n",
              "      <td>-1.44591</td>\n",
              "      <td>2017/09/11</td>\n",
              "      <td>17:02:09.825</td>\n",
              "      <td>-119.75</td>\n",
              "      <td>11.43</td>\n",
              "      <td>6276.0</td>\n",
              "      <td>299.0</td>\n",
              "      <td>283.0</td>\n",
              "      <td>EZY63BT</td>\n",
              "      <td>1505149330</td>\n",
              "    </tr>\n",
              "  </tbody>\n",
              "</table>\n",
              "</div>"
            ],
            "text/plain": [
              "  hex_ident  altitude(feet)       lat  ...  track  callsign   timestamp\n",
              "0    40631C           14525  53.65947  ...  283.0       NaN  1505149326\n",
              "1    40631C           14525  53.65956  ...  283.0       NaN  1505149327\n",
              "2    40631C           14500  53.65979  ...  283.0  EZY63BT   1505149327\n",
              "3    40631C           14475  53.66025  ...  283.0  EZY63BT   1505149329\n",
              "4    40631C           14475  53.66044  ...  283.0  EZY63BT   1505149330\n",
              "\n",
              "[5 rows x 13 columns]"
            ]
          },
          "metadata": {
            "tags": []
          },
          "execution_count": 8
        }
      ]
    },
    {
      "cell_type": "markdown",
      "metadata": {
        "id": "lvxcC4FoeN90"
      },
      "source": [
        "**Note:**   \n",
        "We round up the miliseconds in our `to_epoch` method since epoch is the number of seconds (not miliseconds) that have passes since January 1st 1970.   \n",
        "Of course we loose some precision here, but we want to focus on creating our own custom layer instead of wasting a lot of time with our dataset."
      ]
    },
    {
      "cell_type": "markdown",
      "metadata": {
        "id": "zrdcuVroeN90"
      },
      "source": [
        "---"
      ]
    },
    {
      "cell_type": "markdown",
      "metadata": {
        "id": "K5VxKJofeN91"
      },
      "source": [
        "#### Writing our custom layer"
      ]
    },
    {
      "cell_type": "markdown",
      "metadata": {
        "id": "JKSlvVnReN91"
      },
      "source": [
        "After preparing our dataset, we can now start writing our custom layer.   \n",
        "As mentioned at the beginning of this activity, it will be based on the taxi example of geoplotlib.   \n",
        "\n",
        "We want to have a layer `TrackLayer` that takes an argument, dataset, which contains `lat` and `lon` data in combination with a `timestamp`.   \n",
        "Given this data, we want to plot each point for each timestamp on the map, creating a tail behind the newest position of the plane.\n",
        "The geoplotlib colorbrewer is used to give each plane a color based on their unique `hex_ident`.   \n",
        "The view (bounding box) of our visualization will be set to the city Leeds and a text information with the current timestamp is displayed in the upper right corner."
      ]
    },
    {
      "cell_type": "code",
      "metadata": {
        "id": "IBRgDCS9eN92"
      },
      "source": [
        "# custom layer creation\n",
        "import geoplotlib\n",
        "from geoplotlib.layers import BaseLayer\n",
        "from geoplotlib.core import BatchPainter\n",
        "from geoplotlib.colors import colorbrewer\n",
        "from geoplotlib.utils import epoch_to_str, BoundingBox\n",
        "\n",
        "class TrackLayer(BaseLayer):\n",
        "\n",
        "    def __init__(self, dataset, bbox=BoundingBox.WORLD):\n",
        "        self.data = dataset\n",
        "        self.cmap = colorbrewer(self.data['hex_ident'], alpha=200)\n",
        "        self.time = self.data['timestamp'].min()\n",
        "        self.painter = BatchPainter()\n",
        "        self.view = bbox\n",
        "\n",
        "\n",
        "    def draw(self, proj, mouse_x, mouse_y, ui_manager):\n",
        "        self.painter = BatchPainter()\n",
        "        df = self.data.where((self.data['timestamp'] > self.time) & (self.data['timestamp'] <= self.time + 180))\n",
        "\n",
        "        for element in set(df['hex_ident']):\n",
        "            grp = df.where(df['hex_ident'] == element)\n",
        "            self.painter.set_color(self.cmap[element])\n",
        "            x, y = proj.lonlat_to_screen(grp['lon'], grp['lat'])\n",
        "            self.painter.points(x, y, 15, rounded=True)\n",
        "\n",
        "        self.time += 1\n",
        "\n",
        "        if self.time > self.data['timestamp'].max():\n",
        "            self.time = self.data['timestamp'].min()\n",
        "\n",
        "        self.painter.batch_draw()\n",
        "        ui_manager.info('Current timestamp: {}'.format(epoch_to_str(self.time)))\n",
        "        \n",
        "    # bounding box that gets used when layer is created\n",
        "    def bbox(self):\n",
        "        return self.view"
      ],
      "execution_count": null,
      "outputs": []
    },
    {
      "cell_type": "markdown",
      "metadata": {
        "id": "jTWfGH7xeN92"
      },
      "source": [
        "---"
      ]
    },
    {
      "cell_type": "markdown",
      "metadata": {
        "id": "px5GfuqHeN93"
      },
      "source": [
        "#### Visualization with of the custom layer"
      ]
    },
    {
      "cell_type": "markdown",
      "metadata": {
        "id": "qxg2i3bdeN93"
      },
      "source": [
        "After creating the custom layer, using it is as simple as using any other layer in geoplotlib.   \n",
        "We can use the `add_layer` method and pass in our custom layer class with the parameters needed."
      ]
    },
    {
      "cell_type": "markdown",
      "metadata": {
        "id": "HrIXYqCyeN94"
      },
      "source": [
        "Our data is focused on the UK and specifically Leeds.   \n",
        "So we want to adjust our bounding box to exactly this area."
      ]
    },
    {
      "cell_type": "code",
      "metadata": {
        "id": "u0BWvDnseN95"
      },
      "source": [
        "# bounding box for our view on leeds\n",
        "from geoplotlib.utils import BoundingBox\n",
        "\n",
        "leeds_bbox = BoundingBox(north=53.8074, west=-3, south=53.7074 , east=0)"
      ],
      "execution_count": null,
      "outputs": []
    },
    {
      "cell_type": "markdown",
      "metadata": {
        "id": "xEme0lk4eN96"
      },
      "source": [
        "Use Geoplotlib to convert any pandas DataFrame into a DataAccessObject."
      ]
    },
    {
      "cell_type": "code",
      "metadata": {
        "id": "_QDq-ITveN96"
      },
      "source": [
        "# displaying our custom layer using add_layer\n",
        "from geoplotlib.utils import DataAccessObject\n",
        "\n",
        "data = DataAccessObject(dataset)\n",
        "\n",
        "geoplotlib.add_layer(TrackLayer(data, bbox=leeds_bbox))\n",
        "geoplotlib.show()"
      ],
      "execution_count": null,
      "outputs": []
    },
    {
      "cell_type": "markdown",
      "metadata": {
        "id": "TFnF3asqeN97"
      },
      "source": [
        "**Note:**   \n",
        "In order to avoid any errors associated with the library, we have to convert our pandas dataframe to a geoplotlib DataAccessObject.   \n",
        "The creator of geoplotlib provides a handy interface for this conversion."
      ]
    },
    {
      "cell_type": "markdown",
      "metadata": {
        "id": "voQGQoY4eN97"
      },
      "source": [
        "When looking at the upper right hand corner, we can clearly see the temporal aspect of this visualization.   \n",
        "The first observation we make is that our data is really sparse, we sometimes only have a single data point for a plane, seldomly a whole path is drawn.   \n",
        "\n",
        "Even though it is so sparse, we can already get a feeling about where the planes are flying most.\n",
        "\n",
        "**Note:**   \n",
        "If you're interested in what else can be achieved with this custom layer approach, there are more examples in the geoplotlib repository.   \n",
        "- https://github.com/andrea-cuttone/geoplotlib/blob/master/examples/follow_camera.py\n",
        "- https://github.com/andrea-cuttone/geoplotlib/blob/master/examples/quadtree.py\n",
        "- https://github.com/andrea-cuttone/geoplotlib/blob/master/examples/kmeans.py"
      ]
    }
  ]
}