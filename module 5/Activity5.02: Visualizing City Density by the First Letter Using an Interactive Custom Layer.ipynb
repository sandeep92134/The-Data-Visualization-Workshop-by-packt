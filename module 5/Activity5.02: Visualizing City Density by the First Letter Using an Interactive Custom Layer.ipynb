{
  "nbformat": 4,
  "nbformat_minor": 0,
  "metadata": {
    "kernelspec": {
      "display_name": "Python 3",
      "language": "python",
      "name": "python3"
    },
    "language_info": {
      "codemirror_mode": {
        "name": "ipython",
        "version": 3
      },
      "file_extension": ".py",
      "mimetype": "text/x-python",
      "name": "python",
      "nbconvert_exporter": "python",
      "pygments_lexer": "ipython3",
      "version": "3.7.2"
    },
    "colab": {
      "name": "Activity5.02.ipynb",
      "provenance": [],
      "include_colab_link": true
    }
  },
  "cells": [
    {
      "cell_type": "markdown",
      "metadata": {
        "id": "view-in-github",
        "colab_type": "text"
      },
      "source": [
        "<a href=\"https://colab.research.google.com/github/sandeep92134/The-Data-Visualization-Workshop-by-packt/blob/master/module%205/Activity5.02%3A%20Visualizing%20City%20Density%20by%20the%20First%20Letter%20Using%20an%20Interactive%20Custom%20Layer.ipynb\" target=\"_parent\"><img src=\"https://colab.research.google.com/assets/colab-badge.svg\" alt=\"Open In Colab\"/></a>"
      ]
    },
    {
      "cell_type": "markdown",
      "metadata": {
        "id": "UIzZqD7Bhh76"
      },
      "source": [
        "## Activity 5.02: Visualizing City Density by the First Letter Using an Interactive Custom Layer"
      ]
    },
    {
      "cell_type": "markdown",
      "metadata": {
        "id": "_ryHzuPShh8G"
      },
      "source": [
        "In this last activity for geoplotlib, you'll combine all methodologies learned in the previous exercises and activity create an interactive visualization that displays the cities that start with a given letter, by simply pushing the left and right arrow keys on your keyboard.\n",
        "\n",
        "Since we use the same setup to create custom layers as the library does, you will be able to understand the library implementations of most of the layers provided by geoplotlib after this activity: https://github.com/andrea-cuttone/geoplotlib/blob/master/geoplotlib/layers.py.\n",
        "\n",
        "Before we can start, however, we need to import our dataset.   \n",
        "For this activity, we'll work with geo-spatial data that contains all cities with their coordinates and their population.\n",
        "\n",
        "**Note:**   \n",
        "This time the dataset is not yet added into the data folder. You have to download it from here:   \n",
        "https://www.kaggle.com/max-mind/world-cities-database#worldcitiespop.csv"
      ]
    },
    {
      "cell_type": "markdown",
      "metadata": {
        "id": "mEezaNDchh8H"
      },
      "source": [
        "#### Loading the dataset"
      ]
    },
    {
      "cell_type": "code",
      "metadata": {
        "id": "vrVtal86hh8I"
      },
      "source": [
        "# importing the necessary dependencies\n",
        "import numpy as np\n",
        "import pandas as pd\n",
        "import geoplotlib"
      ],
      "execution_count": null,
      "outputs": []
    },
    {
      "cell_type": "markdown",
      "metadata": {
        "id": "x4NxmOZjhh8J"
      },
      "source": [
        "Again, provide the `dtype` argument to tell pandas that the `'Region'` column has the dtype `np.str`."
      ]
    },
    {
      "cell_type": "code",
      "metadata": {
        "id": "LI5ZWvyChh8K"
      },
      "source": [
        "# loading the Dataset (make sure to have the dataset downloaded)\n",
        "dataset = pd.read_csv('https://raw.githubusercontent.com/sandeep92134/The-Data-Visualization-Workshop-by-packt/master/module%205/datasets/world_population.csv', dtype={'Region': np.str})"
      ],
      "execution_count": null,
      "outputs": []
    },
    {
      "cell_type": "markdown",
      "metadata": {
        "id": "5ZTDyBFdhh8L"
      },
      "source": [
        "**Note:**   \n",
        "If we import our dataset without defining the dtype of column *Region* as String, we will get a warning telling out the it has a mixed datatype.   \n",
        "We can get rid of this warning by explicitly defining the type of the values in this column by using the `dtype` parameter.   \n",
        "`dtype={'Region': np.str}`"
      ]
    },
    {
      "cell_type": "code",
      "metadata": {
        "id": "GrrIrznchh8L",
        "outputId": "c7533761-d7b3-4cdc-fb7f-2ef8e5585654"
      },
      "source": [
        "# looking at the first 5 rows of the dataset\n",
        "dataset.head()"
      ],
      "execution_count": null,
      "outputs": [
        {
          "output_type": "execute_result",
          "data": {
            "text/html": [
              "<div>\n",
              "<style scoped>\n",
              "    .dataframe tbody tr th:only-of-type {\n",
              "        vertical-align: middle;\n",
              "    }\n",
              "\n",
              "    .dataframe tbody tr th {\n",
              "        vertical-align: top;\n",
              "    }\n",
              "\n",
              "    .dataframe thead th {\n",
              "        text-align: right;\n",
              "    }\n",
              "</style>\n",
              "<table border=\"1\" class=\"dataframe\">\n",
              "  <thead>\n",
              "    <tr style=\"text-align: right;\">\n",
              "      <th></th>\n",
              "      <th>Country</th>\n",
              "      <th>City</th>\n",
              "      <th>AccentCity</th>\n",
              "      <th>Region</th>\n",
              "      <th>Population</th>\n",
              "      <th>Latitude</th>\n",
              "      <th>Longitude</th>\n",
              "    </tr>\n",
              "  </thead>\n",
              "  <tbody>\n",
              "    <tr>\n",
              "      <th>0</th>\n",
              "      <td>ad</td>\n",
              "      <td>aixas</td>\n",
              "      <td>Aixàs</td>\n",
              "      <td>06</td>\n",
              "      <td>NaN</td>\n",
              "      <td>42.483333</td>\n",
              "      <td>1.466667</td>\n",
              "    </tr>\n",
              "    <tr>\n",
              "      <th>1</th>\n",
              "      <td>ad</td>\n",
              "      <td>aixirivali</td>\n",
              "      <td>Aixirivali</td>\n",
              "      <td>06</td>\n",
              "      <td>NaN</td>\n",
              "      <td>42.466667</td>\n",
              "      <td>1.500000</td>\n",
              "    </tr>\n",
              "    <tr>\n",
              "      <th>2</th>\n",
              "      <td>ad</td>\n",
              "      <td>aixirivall</td>\n",
              "      <td>Aixirivall</td>\n",
              "      <td>06</td>\n",
              "      <td>NaN</td>\n",
              "      <td>42.466667</td>\n",
              "      <td>1.500000</td>\n",
              "    </tr>\n",
              "    <tr>\n",
              "      <th>3</th>\n",
              "      <td>ad</td>\n",
              "      <td>aixirvall</td>\n",
              "      <td>Aixirvall</td>\n",
              "      <td>06</td>\n",
              "      <td>NaN</td>\n",
              "      <td>42.466667</td>\n",
              "      <td>1.500000</td>\n",
              "    </tr>\n",
              "    <tr>\n",
              "      <th>4</th>\n",
              "      <td>ad</td>\n",
              "      <td>aixovall</td>\n",
              "      <td>Aixovall</td>\n",
              "      <td>06</td>\n",
              "      <td>NaN</td>\n",
              "      <td>42.466667</td>\n",
              "      <td>1.483333</td>\n",
              "    </tr>\n",
              "  </tbody>\n",
              "</table>\n",
              "</div>"
            ],
            "text/plain": [
              "  Country        City  AccentCity Region  Population   Latitude  Longitude\n",
              "0      ad       aixas       Aixàs     06         NaN  42.483333   1.466667\n",
              "1      ad  aixirivali  Aixirivali     06         NaN  42.466667   1.500000\n",
              "2      ad  aixirivall  Aixirivall     06         NaN  42.466667   1.500000\n",
              "3      ad   aixirvall   Aixirvall     06         NaN  42.466667   1.500000\n",
              "4      ad    aixovall    Aixovall     06         NaN  42.466667   1.483333"
            ]
          },
          "metadata": {
            "tags": []
          },
          "execution_count": 3
        }
      ]
    },
    {
      "cell_type": "markdown",
      "metadata": {
        "id": "IDAkYvJLhh8N"
      },
      "source": [
        "---"
      ]
    },
    {
      "cell_type": "markdown",
      "metadata": {
        "id": "oHJpso6dhh8O"
      },
      "source": [
        "#### Mapping `Latitude` and `Longitude` to `lat` and `lon`"
      ]
    },
    {
      "cell_type": "markdown",
      "metadata": {
        "id": "gGW98c59hh8P"
      },
      "source": [
        "As we have learned in Activity5.02, the thing we have to do is prepare our dataset to be usable by geoplotlib by assigning two new columns, `lat` and `lon`.\n",
        "\n",
        "Map the `Latitude` and `Longitude` columns into `lat` and `lon` columns which are used by geoplotlib."
      ]
    },
    {
      "cell_type": "code",
      "metadata": {
        "id": "cfgCCvdghh8P"
      },
      "source": [
        "# mapping Latitude to lat and Longitude to lon\n",
        "dataset['lat'] = dataset['Latitude']\n",
        "dataset['lon'] = dataset['Longitude']"
      ],
      "execution_count": null,
      "outputs": []
    },
    {
      "cell_type": "markdown",
      "metadata": {
        "id": "9dsoQz6ohh8Q"
      },
      "source": [
        "---"
      ]
    },
    {
      "cell_type": "markdown",
      "metadata": {
        "id": "dCv9ArdIhh8Q"
      },
      "source": [
        "#### Filtering our dataset for cities in Europe"
      ]
    },
    {
      "cell_type": "markdown",
      "metadata": {
        "id": "1xTgGgqkhh8R"
      },
      "source": [
        "We want to focus our attention on the european countries and their cities.   \n",
        "A list of all european countries are given below."
      ]
    },
    {
      "cell_type": "code",
      "metadata": {
        "id": "TyONLAwBhh8R"
      },
      "source": [
        "# 2 letter country codes of europe without russia\n",
        "europe_country_codes = ['al', 'ad', 'at', 'by', 'be', 'ba', 'bg', 'hr', 'cy', 'cz', 'dk', 'ee', 'fo', 'fi', 'fr', 'de'\n",
        "                        , 'gi', 'gr', 'hu', 'is', 'ie', 'im', 'it', 'xk', 'lv', 'li', 'lt', 'lu', 'mk', 'mt', 'md', 'mc'\n",
        "                        , 'me', 'nl', 'no', 'pl', 'pt', 'ro', 'sm', 'rs', 'sk', 'si', 'es', 'se', 'ch', 'ua', 'gb'\n",
        "                        , 'va']"
      ],
      "execution_count": null,
      "outputs": []
    },
    {
      "cell_type": "markdown",
      "metadata": {
        "id": "1hV963Lnhh8S"
      },
      "source": [
        "Given this list, we want to use filtering to get a dataset that only contains european cities.   \n",
        "The filtering works exactly how we learned it in the data wrangling chapter.\n",
        "\n",
        "Use the `europe_country_codes` to filter down our dataset by using the `isin()` method as a condition for our DataFrame.   "
      ]
    },
    {
      "cell_type": "code",
      "metadata": {
        "id": "GpJ8lyfbhh8S"
      },
      "source": [
        "# filtering the dataset for countries in europe\n",
        "europe_dataset = dataset[dataset['Country'].isin(europe_country_codes)]"
      ],
      "execution_count": null,
      "outputs": []
    },
    {
      "cell_type": "markdown",
      "metadata": {
        "id": "L4zG2fUthh8T"
      },
      "source": [
        "Print both, the length of our whole dataset and the filtered down dataset."
      ]
    },
    {
      "cell_type": "code",
      "metadata": {
        "id": "DmEfdDKlhh8T",
        "outputId": "95cf278c-bc4a-4a3b-895a-0377aa9592b1"
      },
      "source": [
        "# printing the length of both datasets\n",
        "print('Whole World data', len(dataset))\n",
        "print('Europe data', len(europe_dataset))"
      ],
      "execution_count": null,
      "outputs": [
        {
          "output_type": "stream",
          "text": [
            "Whole World data 3173958\n",
            "Europe data 682348\n"
          ],
          "name": "stdout"
        }
      ]
    },
    {
      "cell_type": "markdown",
      "metadata": {
        "id": "3tL-778thh8U"
      },
      "source": [
        "---"
      ]
    },
    {
      "cell_type": "markdown",
      "metadata": {
        "id": "Zo6oBRqJhh8U"
      },
      "source": [
        "#### Oberserving cities that start with a Z"
      ]
    },
    {
      "cell_type": "markdown",
      "metadata": {
        "id": "5Kx7Krbghh8V"
      },
      "source": [
        "As a preparation for our interactive visualization, we want to do a test run with cities that start with the letter Z.\n",
        "\n",
        "Filter down our europe dataset by using `europe_dataset['AccentCity'].str.startswith('Z')` as a filter condition.   \n",
        "Print out the number of cities starting with Z and the first 5 rows of our filtered dataset."
      ]
    },
    {
      "cell_type": "code",
      "metadata": {
        "id": "ARw9BQnXhh8V",
        "outputId": "71bc2253-6197-4111-f9c3-9695605408c2"
      },
      "source": [
        "# plotting the whole dataset with dots\n",
        "cities_starting_z = europe_dataset[europe_dataset['AccentCity'].str.startswith('Z')]\n",
        "\n",
        "print('Cities starting with Z:', len(cities_starting_z))\n",
        "cities_starting_z.head()"
      ],
      "execution_count": null,
      "outputs": [
        {
          "output_type": "stream",
          "text": [
            "Cities starting with Z: 13218\n"
          ],
          "name": "stdout"
        },
        {
          "output_type": "execute_result",
          "data": {
            "text/html": [
              "<div>\n",
              "<style scoped>\n",
              "    .dataframe tbody tr th:only-of-type {\n",
              "        vertical-align: middle;\n",
              "    }\n",
              "\n",
              "    .dataframe tbody tr th {\n",
              "        vertical-align: top;\n",
              "    }\n",
              "\n",
              "    .dataframe thead th {\n",
              "        text-align: right;\n",
              "    }\n",
              "</style>\n",
              "<table border=\"1\" class=\"dataframe\">\n",
              "  <thead>\n",
              "    <tr style=\"text-align: right;\">\n",
              "      <th></th>\n",
              "      <th>Country</th>\n",
              "      <th>City</th>\n",
              "      <th>AccentCity</th>\n",
              "      <th>Region</th>\n",
              "      <th>Population</th>\n",
              "      <th>Latitude</th>\n",
              "      <th>Longitude</th>\n",
              "      <th>lat</th>\n",
              "      <th>lon</th>\n",
              "    </tr>\n",
              "  </thead>\n",
              "  <tbody>\n",
              "    <tr>\n",
              "      <th>104206</th>\n",
              "      <td>al</td>\n",
              "      <td>zaane</td>\n",
              "      <td>ZÄane</td>\n",
              "      <td>44</td>\n",
              "      <td>NaN</td>\n",
              "      <td>40.932778</td>\n",
              "      <td>19.783056</td>\n",
              "      <td>40.932778</td>\n",
              "      <td>19.783056</td>\n",
              "    </tr>\n",
              "    <tr>\n",
              "      <th>104207</th>\n",
              "      <td>al</td>\n",
              "      <td>zabarzani</td>\n",
              "      <td>Zabarzani</td>\n",
              "      <td>40</td>\n",
              "      <td>NaN</td>\n",
              "      <td>40.427778</td>\n",
              "      <td>20.269167</td>\n",
              "      <td>40.427778</td>\n",
              "      <td>20.269167</td>\n",
              "    </tr>\n",
              "    <tr>\n",
              "      <th>104208</th>\n",
              "      <td>al</td>\n",
              "      <td>zabarzan</td>\n",
              "      <td>Zabarzan</td>\n",
              "      <td>40</td>\n",
              "      <td>NaN</td>\n",
              "      <td>40.427778</td>\n",
              "      <td>20.269167</td>\n",
              "      <td>40.427778</td>\n",
              "      <td>20.269167</td>\n",
              "    </tr>\n",
              "    <tr>\n",
              "      <th>104209</th>\n",
              "      <td>al</td>\n",
              "      <td>zaberzane</td>\n",
              "      <td>Zabërzanë</td>\n",
              "      <td>40</td>\n",
              "      <td>NaN</td>\n",
              "      <td>40.427778</td>\n",
              "      <td>20.269167</td>\n",
              "      <td>40.427778</td>\n",
              "      <td>20.269167</td>\n",
              "    </tr>\n",
              "    <tr>\n",
              "      <th>104210</th>\n",
              "      <td>al</td>\n",
              "      <td>zaberzan i siperm</td>\n",
              "      <td>Zaberzan i Sipërm</td>\n",
              "      <td>40</td>\n",
              "      <td>NaN</td>\n",
              "      <td>40.427778</td>\n",
              "      <td>20.269167</td>\n",
              "      <td>40.427778</td>\n",
              "      <td>20.269167</td>\n",
              "    </tr>\n",
              "  </tbody>\n",
              "</table>\n",
              "</div>"
            ],
            "text/plain": [
              "       Country               City         AccentCity Region  Population  \\\n",
              "104206      al             zaane             ZÄane     44         NaN   \n",
              "104207      al          zabarzani          Zabarzani     40         NaN   \n",
              "104208      al           zabarzan           Zabarzan     40         NaN   \n",
              "104209      al          zaberzane          Zabërzanë     40         NaN   \n",
              "104210      al  zaberzan i siperm  Zaberzan i Sipërm     40         NaN   \n",
              "\n",
              "         Latitude  Longitude        lat        lon  \n",
              "104206  40.932778  19.783056  40.932778  19.783056  \n",
              "104207  40.427778  20.269167  40.427778  20.269167  \n",
              "104208  40.427778  20.269167  40.427778  20.269167  \n",
              "104209  40.427778  20.269167  40.427778  20.269167  \n",
              "104210  40.427778  20.269167  40.427778  20.269167  "
            ]
          },
          "metadata": {
            "tags": []
          },
          "execution_count": 8
        }
      ]
    },
    {
      "cell_type": "markdown",
      "metadata": {
        "id": "t-6rxTs2hh8W"
      },
      "source": [
        "We want to take a quick look at the cities with Z dataset using a DotDensity plot and also get some information about the cities using the previously seen `f_tooltip` argument. In order to use the `f_tooltip` we need to wrap our dataset in `DataAccessObject`.\n",
        "\n",
        "Create a new `DataAccessObject` from our cities with Z dataset and visualize it with the dot plot.   \n",
        "Use a tooltip that outputs the Country and City name separated by a `-` (e.g. Ch - Zürich). "
      ]
    },
    {
      "cell_type": "code",
      "metadata": {
        "id": "ouXk25MUhh8W"
      },
      "source": [
        "# using dot density to plot a point for each city\n",
        "from geoplotlib.utils import DataAccessObject\n",
        "\n",
        "geoplotlib_data = DataAccessObject(cities_starting_z)\n",
        "geoplotlib.dot(geoplotlib_data, f_tooltip=lambda d: '{} - {}'.format(d['Country'].upper(), d['City']).title())\n",
        "geoplotlib.show()"
      ],
      "execution_count": null,
      "outputs": []
    },
    {
      "cell_type": "markdown",
      "metadata": {
        "id": "szQcvp6Uhh8X"
      },
      "source": [
        "As a second step, we want to use a voronoi plot to display the density of cities with the letter Z.\n",
        "\n",
        "Create a new voronoi plot using a color map of `Reds_r`, max area of `1e5` and alpha value of `50` so we can still see the mapping peeking through."
      ]
    },
    {
      "cell_type": "code",
      "metadata": {
        "id": "1wRoJHJShh8Y"
      },
      "source": [
        "# displaying the density of cities stating with z using a voronoi plot \n",
        "geoplotlib.voronoi(cities_starting_z, cmap='Reds_r', max_area=1e5, alpha=50)\n",
        "geoplotlib.show()"
      ],
      "execution_count": null,
      "outputs": []
    },
    {
      "cell_type": "markdown",
      "metadata": {
        "id": "eWk1HlOFhh8Y"
      },
      "source": [
        "Here we can see that city names with Z are more popular in the eastern europen countries."
      ]
    },
    {
      "cell_type": "markdown",
      "metadata": {
        "id": "HUovL6fShh8Y"
      },
      "source": [
        "#### Creating our interactive custom layer"
      ]
    },
    {
      "cell_type": "markdown",
      "metadata": {
        "id": "Z7iXLlzUhh8Z"
      },
      "source": [
        "We now want to create an interactive visualization that displays each city, as a dot, that starts with the currently selected first letter. The by default selected letter will be `A`.   \n",
        "We need a way to iterate through the letters using the left and right arrow.   \n",
        "As described in the introduction section of custom layers, we can make use of the `on_key_release` method that is specifically designed for this.\n",
        "\n",
        "In order to create our custom layer:\n",
        "- Filter the dataset (`self.data`) in the `invalidate` method using the current letter gotten from the start_letters array using indexing (`self.start_letter`)\n",
        "- Create a new `BatchPainter()` and project the `lon` and `lat` values to `x` and `y` values.\n",
        "- Use the BatchPainter to paint the points on the map with a size of 2.\n",
        "\n",
        "- Call the `batch_draw()` method in the `draw` method and use the `ui_manager` to add an `info` dialog to the screen telling the user which start letter is currently used.\n",
        "\n",
        "- Check which key is pressed using pyglet (`pyglet.window.key.RIGHT`). If right or left is pressed, increment or decrement the start_letter value of the FilterLayer class accordingly. (Use modulo to allow rotation which should happen when A->Z or Z->A)\n",
        "- Make sure to `return True` in the `on_key_release` mehtod if you changed the `start_letter` to trigger a re-draw of the points.\n",
        "\n",
        "> Note: Make use of the previous activity and the examples at https://github.com/andrea-cuttone/geoplotlib/tree/master/examples"
      ]
    },
    {
      "cell_type": "code",
      "metadata": {
        "id": "PNPzjLYGhh8Z"
      },
      "source": [
        "# custom layer creation\n",
        "import pyglet\n",
        "import geoplotlib\n",
        "from geoplotlib.layers import BaseLayer\n",
        "from geoplotlib.core import BatchPainter\n",
        "from geoplotlib.utils import BoundingBox\n",
        "\n",
        "start_letters = ['A', 'B', 'C', 'D', 'E', 'F', 'G', 'H', 'I', 'H', 'K', 'L'\n",
        "                , 'M', 'N', 'O', 'P', 'Q', 'R', 'S', 'T', 'U', 'V', 'W'\n",
        "                , 'X', 'Y', 'Z']\n",
        "\n",
        "class FilterLayer (BaseLayer):\n",
        "    def __init__(self, dataset, bbox=BoundingBox.WORLD):\n",
        "        self.data = dataset\n",
        "        self.start_letter = 0\n",
        "        self.view = bbox\n",
        "        \n",
        "    def invalidate(self, proj):\n",
        "        start_letter_data =  self.data[self.data['AccentCity'].str.startswith(start_letters[self.start_letter])]\n",
        "            \n",
        "        self.painter = BatchPainter()\n",
        "        x, y = proj.lonlat_to_screen(start_letter_data['lon'], start_letter_data['lat'])\n",
        "        self.painter.points(x, y, 2)\n",
        "        \n",
        "    def draw(self, proj, mouse_x, mouse_y, ui_manager):  \n",
        "        self.painter.batch_draw()\n",
        "        ui_manager.info('Displaying cities starting with {}'.format(start_letters[self.start_letter]))\n",
        "        \n",
        "    def on_key_release(self, key, modifiers):\n",
        "        if key == pyglet.window.key.RIGHT:\n",
        "            self.start_letter = (self.start_letter + 1) % len(start_letters)\n",
        "            return True\n",
        "        elif key == pyglet.window.key.LEFT:\n",
        "            self.start_letter = (self.start_letter - 1) % len(start_letters)\n",
        "            return True\n",
        "            \n",
        "        return False\n",
        "        \n",
        "    # bounding box that gets used when layer is created\n",
        "    def bbox(self):\n",
        "        return self.view"
      ],
      "execution_count": null,
      "outputs": []
    },
    {
      "cell_type": "markdown",
      "metadata": {
        "id": "SnZ5W2Jihh8b"
      },
      "source": [
        "Once you've created the custom layer we only need to call the `add_layer()` method of geoplotlib, providing our custom layer with the given BoundingBox of europe."
      ]
    },
    {
      "cell_type": "code",
      "metadata": {
        "id": "FsHbwLJihh8b"
      },
      "source": [
        "# using Delaunay triangulation to find the most dense aree\n",
        "europe_bbox = BoundingBox(north=68.574309, west=-25.298424, south=34.266013, east=47.387123)\n",
        "\n",
        "geoplotlib.add_layer(FilterLayer(europe_dataset, europe_bbox))\n",
        "geoplotlib.show()"
      ],
      "execution_count": null,
      "outputs": []
    }
  ]
}