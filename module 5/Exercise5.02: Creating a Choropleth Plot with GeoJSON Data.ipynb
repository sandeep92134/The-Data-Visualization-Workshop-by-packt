{
  "nbformat": 4,
  "nbformat_minor": 0,
  "metadata": {
    "kernelspec": {
      "display_name": "Python 3",
      "language": "python",
      "name": "python3"
    },
    "language_info": {
      "codemirror_mode": {
        "name": "ipython",
        "version": 3
      },
      "file_extension": ".py",
      "mimetype": "text/x-python",
      "name": "python",
      "nbconvert_exporter": "python",
      "pygments_lexer": "ipython3",
      "version": "3.7.2"
    },
    "colab": {
      "name": "Exercise5.02.ipynb",
      "provenance": [],
      "include_colab_link": true
    }
  },
  "cells": [
    {
      "cell_type": "markdown",
      "metadata": {
        "id": "view-in-github",
        "colab_type": "text"
      },
      "source": [
        "<a href=\"https://colab.research.google.com/github/sandeep92134/The-Data-Visualization-Workshop-by-packt/blob/master/module%205/Exercise5.02%3A%20Creating%20a%20Choropleth%20Plot%20with%20GeoJSON%20Data.ipynb\" target=\"_parent\"><img src=\"https://colab.research.google.com/assets/colab-badge.svg\" alt=\"Open In Colab\"/></a>"
      ]
    },
    {
      "cell_type": "markdown",
      "metadata": {
        "id": "dn4gaGn6Xrv-"
      },
      "source": [
        "## Exercise 5.02: Creating a Choropleth Plot with GeoJSON Data"
      ]
    },
    {
      "cell_type": "markdown",
      "metadata": {
        "id": "NKygXLrVXrwK"
      },
      "source": [
        "In this exercise, we not only want work with geojson data, but also see how we can create a choropleth visualization.   \n",
        "They are espacially useful to display statistical variables in shaded areas. In our case the areas will be the outlines of the states of the USA."
      ]
    },
    {
      "cell_type": "markdown",
      "metadata": {
        "id": "h29XOhZBXrwM"
      },
      "source": [
        "The GeoJSON format is used to encode a variety of data structures like Points, Lines, and Polygons with focus on geographical visualization.\n",
        "The format has a defined structure that each valid file has to follow.\n",
        "\n",
        "```json\n",
        "{\n",
        "  \"type\": \"Feature\",\n",
        "  \"properties\": {\n",
        "    \"name\": \"Dinagat Islands\"\n",
        "  },\n",
        "  \"geometry\": {\n",
        "    \"type\": \"Point\",\n",
        "    \"coordinates\": [125.6, 10.1]\n",
        "  }\n",
        "}\n",
        "```\n",
        "\n",
        "Each object with additional properties, like e.g. an id or name attribute, are Features.\n",
        "Properties simply allow for additional information to be added to the feature.\n",
        "The geometry attribute holds information about the type of feature we are working with, e.g. a Point, and its specific coordinates. \n",
        "The coordinates define the positions for the “waypoints” of the given type. Those coordinates define the shape of the element to be displayed by the plotting library.\n",
        "\n",
        "---"
      ]
    },
    {
      "cell_type": "markdown",
      "metadata": {
        "id": "ycND7f9TXrwN"
      },
      "source": [
        "#### Loading the dataset"
      ]
    },
    {
      "cell_type": "markdown",
      "metadata": {
        "id": "8HIUy4u_XrwO"
      },
      "source": [
        "Our dataset contains the points that define the different states and a census area value that represents the amount of census areas per state.   \n",
        "Since the geojson method of geoplotlib works by providing a file path to the geojson file, we don't have to do any importing and loading of the data.   \n",
        "\n",
        "\n",
        "We still want to load the dataset and look at the structure of the geojson file."
      ]
    },
    {
      "cell_type": "code",
      "metadata": {
        "id": "nhtpg1koXtm7"
      },
      "source": [
        "pip install geoplotlib"
      ],
      "execution_count": null,
      "outputs": []
    },
    {
      "cell_type": "code",
      "metadata": {
        "id": "52psCyf0XrwO"
      },
      "source": [
        "# importing the necessary dependencies\n",
        "import json\n",
        "import geoplotlib\n",
        "from geoplotlib.colors import ColorMap\n",
        "from geoplotlib.utils import BoundingBox"
      ],
      "execution_count": null,
      "outputs": []
    },
    {
      "cell_type": "markdown",
      "metadata": {
        "id": "O8ERUgBSXrwQ"
      },
      "source": [
        "Read the dataset as json object and display the fourth entry to understand the structure."
      ]
    },
    {
      "cell_type": "code",
      "metadata": {
        "id": "F1gMQ4PDXrwQ",
        "outputId": "49f89b3e-459c-4016-a0de-e9a24185bc4a"
      },
      "source": [
        "# displaying the fourth entry of the states dataset\n",
        "with open('https://raw.githubusercontent.com/sandeep92134/The-Data-Visualization-Workshop-by-packt/master/module%205/datasets/us_states.json') as data:\n",
        "    dataset = json.load(data)\n",
        "    \n",
        "    fourth_state = dataset.get('features')[3]\n",
        "    \n",
        "    # only showing one coordinate instead of all points\n",
        "    fourth_state['geometry']['coordinates'] = fourth_state['geometry']['coordinates'][0][0]\n",
        "    print(json.dumps(fourth_state, indent=4))"
      ],
      "execution_count": null,
      "outputs": [
        {
          "output_type": "stream",
          "text": [
            "{\n",
            "    \"type\": \"Feature\",\n",
            "    \"properties\": {\n",
            "        \"GEO_ID\": \"0400000US05\",\n",
            "        \"STATE\": \"05\",\n",
            "        \"NAME\": \"Arkansas\",\n",
            "        \"LSAD\": \"\",\n",
            "        \"CENSUSAREA\": 52035.477\n",
            "    },\n",
            "    \"geometry\": {\n",
            "        \"type\": \"Polygon\",\n",
            "        \"coordinates\": [\n",
            "            -94.042964,\n",
            "            33.019219\n",
            "        ]\n",
            "    }\n",
            "}\n"
          ],
          "name": "stdout"
        }
      ]
    },
    {
      "cell_type": "markdown",
      "metadata": {
        "id": "Wzi3FD4rXrwS"
      },
      "source": [
        "Our dataset contains a few properties. Only the state name `NAME`, and the number of consensus areas `CENSUSAREA` are important for us in this exercise.\n",
        "\n",
        "A consensus area is a small area with a minimum of 65 households that is defined for the purpose of taking a census for data acquisition."
      ]
    },
    {
      "cell_type": "markdown",
      "metadata": {
        "id": "SmK7GVyJXrwT"
      },
      "source": [
        "Extract the names of all the states of the US from the dataset.\n",
        "- Print the amount of states in the dataset\n",
        "- Print all the states as a list"
      ]
    },
    {
      "cell_type": "code",
      "metadata": {
        "id": "jDKTqvPvXrwU",
        "outputId": "73be7b1f-3fd7-47c1-9de5-e091b27a59e2"
      },
      "source": [
        "# listing the states in the dataset\n",
        "with open('https://raw.githubusercontent.com/sandeep92134/The-Data-Visualization-Workshop-by-packt/master/module%205/datasets/us_states.json') as data:\n",
        "    dataset = json.load(data)\n",
        "    \n",
        "    states = [feature['properties']['NAME'] for feature in dataset.get('features')]\n",
        "    print('Number of states:', len(states))\n",
        "    print(states)"
      ],
      "execution_count": null,
      "outputs": [
        {
          "output_type": "stream",
          "text": [
            "Number of states: 52\n",
            "['Alabama', 'Alaska', 'Arizona', 'Arkansas', 'California', 'Colorado', 'Connecticut', 'Delaware', 'District of Columbia', 'Florida', 'Georgia', 'Hawaii', 'Idaho', 'Illinois', 'Indiana', 'Iowa', 'Kansas', 'Kentucky', 'Louisiana', 'Maine', 'Maryland', 'Massachusetts', 'Michigan', 'Minnesota', 'Mississippi', 'Missouri', 'Montana', 'Nebraska', 'Nevada', 'New Hampshire', 'New Jersey', 'New Mexico', 'New York', 'North Carolina', 'North Dakota', 'Ohio', 'Oklahoma', 'Oregon', 'Pennsylvania', 'Rhode Island', 'South Carolina', 'South Dakota', 'Tennessee', 'Texas', 'Utah', 'Vermont', 'Virginia', 'Washington', 'West Virginia', 'Wisconsin', 'Wyoming', 'Puerto Rico']\n"
          ],
          "name": "stdout"
        }
      ]
    },
    {
      "cell_type": "markdown",
      "metadata": {
        "id": "Sfl4QvdKXrwV"
      },
      "source": [
        "---"
      ]
    },
    {
      "cell_type": "markdown",
      "metadata": {
        "id": "x927-YMVXrwV"
      },
      "source": [
        "#### Creating a Choropleth with geojson data"
      ]
    },
    {
      "cell_type": "markdown",
      "metadata": {
        "id": "v0-RmLJIXrwV"
      },
      "source": [
        "Create a geojson plot using the `geojson()` method of geoplotlib."
      ]
    },
    {
      "cell_type": "code",
      "metadata": {
        "id": "UyLm9RzcXrwW"
      },
      "source": [
        "# plotting outline of the united states\n",
        "geoplotlib.geojson('https://raw.githubusercontent.com/sandeep92134/The-Data-Visualization-Workshop-by-packt/master/module%205/datasets/us_states.json')\n",
        "geoplotlib.show()"
      ],
      "execution_count": null,
      "outputs": []
    },
    {
      "cell_type": "markdown",
      "metadata": {
        "id": "FiJWJWywXrwW"
      },
      "source": [
        "The visualization above does not give us any kind of information about the states, it simply displays the outlines of them.    \n",
        "When using choropleth plots, the shading of given areas is the important feature, in this case we'll use the census areas value as statistical value to determine the color value of shading.\n",
        "\n",
        "Therefore we have to create a mapping function that converts the numerical value into a color.\n",
        "\n",
        "**Note:**   \n",
        "If you're stuck, please take a look at the example provided by the library to understand how to create a custom color mapping.   \n",
        "https://github.com/andrea-cuttone/geoplotlib/blob/master/examples/choropleth.py"
      ]
    },
    {
      "cell_type": "code",
      "metadata": {
        "id": "l0W6DcZIXrwX"
      },
      "source": [
        "# converting the obesity into a color\n",
        "cmap = ColorMap('Reds', alpha=255, levels=10)\n",
        "\n",
        "def get_color(properties):\n",
        "    return cmap.to_color(properties['CENSUSAREA'], maxvalue=300_000,scale='lin')"
      ],
      "execution_count": null,
      "outputs": []
    },
    {
      "cell_type": "markdown",
      "metadata": {
        "id": "Fv3GZGijXrwX"
      },
      "source": [
        "Use the `us_states.json` file in the data folder to visualize the different states."
      ]
    },
    {
      "cell_type": "markdown",
      "metadata": {
        "id": "tLFroRkfXrwY"
      },
      "source": [
        "- Provide the color mapping to our color parameter and set the fill parameter to True.\n",
        "- In addition to that draw a black outline for each state. Use the color argument and provide the RGBA value for black. \n",
        "- Use the USA constant of the BoundingBox class to set the bounding box"
      ]
    },
    {
      "cell_type": "code",
      "metadata": {
        "id": "ATOcXlm-XrwY"
      },
      "source": [
        "# plotting the shaded states and adding another layer which plots the state outlines in white\n",
        "# our BoundingBox should focus the USA\n",
        "geoplotlib.geojson('https://raw.githubusercontent.com/sandeep92134/The-Data-Visualization-Workshop-by-packt/master/module%205/datasets/us_states.json', fill=True, color=get_color)\n",
        "geoplotlib.geojson('https://raw.githubusercontent.com/sandeep92134/The-Data-Visualization-Workshop-by-packt/master/module%205/datasets/us_states.json', fill=False, color=[0, 0, 0, 255])\n",
        "\n",
        "geoplotlib.set_bbox(BoundingBox.USA)\n",
        "geoplotlib.show()"
      ],
      "execution_count": null,
      "outputs": []
    },
    {
      "cell_type": "markdown",
      "metadata": {
        "id": "F6LVDS5RXrwZ"
      },
      "source": [
        "**Note:**   \n",
        "In the introduction we mentioned that geoplotlib works with a layer based system.   \n",
        "This means that we can simply stack the same or different layers on top like in the example above. "
      ]
    },
    {
      "cell_type": "markdown",
      "metadata": {
        "id": "fFdmBJmeXrwZ"
      },
      "source": [
        "Give the user some more information for this plot, use the f_tooltip argument to provide a tooltip displaying the name and census area value of the currently hovered state."
      ]
    },
    {
      "cell_type": "code",
      "metadata": {
        "id": "B9WhZfcbXrwa"
      },
      "source": [
        "# adding the f_tooltip that\n",
        "geoplotlib.geojson('https://raw.githubusercontent.com/sandeep92134/The-Data-Visualization-Workshop-by-packt/master/module%205/datasets/us_states.json', fill=True, color=get_color, f_tooltip=lambda properties: properties['NAME'] + ' - Census Areas: ' + str(properties['CENSUSAREA']))\n",
        "geoplotlib.geojson('https://raw.githubusercontent.com/sandeep92134/The-Data-Visualization-Workshop-by-packt/master/module%205/datasets/us_states.json', fill=False, color=[0, 0, 0, 255])\n",
        "\n",
        "geoplotlib.set_bbox(BoundingBox.USA)\n",
        "geoplotlib.show()"
      ],
      "execution_count": null,
      "outputs": []
    }
  ]
}