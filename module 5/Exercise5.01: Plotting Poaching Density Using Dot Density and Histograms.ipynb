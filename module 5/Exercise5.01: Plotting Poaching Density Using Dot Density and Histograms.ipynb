{
  "nbformat": 4,
  "nbformat_minor": 0,
  "metadata": {
    "kernelspec": {
      "display_name": "Python 3",
      "language": "python",
      "name": "python3"
    },
    "language_info": {
      "codemirror_mode": {
        "name": "ipython",
        "version": 3
      },
      "file_extension": ".py",
      "mimetype": "text/x-python",
      "name": "python",
      "nbconvert_exporter": "python",
      "pygments_lexer": "ipython3",
      "version": "3.7.2"
    },
    "colab": {
      "name": "Exercise5.01.ipynb",
      "provenance": [],
      "include_colab_link": true
    }
  },
  "cells": [
    {
      "cell_type": "markdown",
      "metadata": {
        "id": "view-in-github",
        "colab_type": "text"
      },
      "source": [
        "<a href=\"https://colab.research.google.com/github/sandeep92134/The-Data-Visualization-Workshop-by-packt/blob/master/module%205/Exercise5.01%3A%20Plotting%20Poaching%20Density%20Using%20Dot%20Density%20and%20Histograms.ipynb\" target=\"_parent\"><img src=\"https://colab.research.google.com/assets/colab-badge.svg\" alt=\"Open In Colab\"/></a>"
      ]
    },
    {
      "cell_type": "markdown",
      "metadata": {
        "id": "pi2ow1W5SY0I"
      },
      "source": [
        "## Exercise 5.01: Plotting Poaching Density Using Dot Density and Histograms"
      ]
    },
    {
      "cell_type": "markdown",
      "metadata": {
        "id": "OAQKxIxcSY0N"
      },
      "source": [
        "In this first exercise we want to see the simplictiy of geoplotlib in its fullest.   \n",
        "Loading data and displaying it with pre-defined plots is really simple but already enables us to get incredible insights into our datasets.   \n",
        "\n",
        "We'll be looking at a dataset containing all poaching points in RUNAPA. It can be downloaded here: https://opendata.socrata.com/Education/All-Poaching-Points/96zb-vb4w   \n",
        "Please note that it's a rather small dataset. We'll be looking at bigger ones in further activites."
      ]
    },
    {
      "cell_type": "markdown",
      "metadata": {
        "id": "2vj4vFGbSY0N"
      },
      "source": [
        "#### Loading our dataset"
      ]
    },
    {
      "cell_type": "code",
      "metadata": {
        "id": "FRUZmU8iSY0N"
      },
      "source": [
        "# importing the necessary dependencies\n",
        "import geoplotlib\n",
        "from geoplotlib.utils import read_csv"
      ],
      "execution_count": null,
      "outputs": []
    },
    {
      "cell_type": "code",
      "metadata": {
        "id": "tCAcs9BkSY0O"
      },
      "source": [
        "# loading the Dataset with geoplotlib\n",
        "dataset = read_csv('https://raw.githubusercontent.com/sandeep92134/The-Data-Visualization-Workshop-by-packt/master/module%205/poaching_points_cleaned.csv')"
      ],
      "execution_count": null,
      "outputs": []
    },
    {
      "cell_type": "code",
      "metadata": {
        "id": "oTzNCq-USY0O",
        "outputId": "d0fc59d6-d672-4019-a5e6-d21ff0a8b607"
      },
      "source": [
        "# looking at the dataset structure\n",
        "dataset"
      ],
      "execution_count": null,
      "outputs": [
        {
          "output_type": "execute_result",
          "data": {
            "text/plain": [
              "DataAccessObject(['id_report', 'date_report', 'description', 'created_date', 'lat', 'lon'] x 268)"
            ]
          },
          "metadata": {
            "tags": []
          },
          "execution_count": 9
        }
      ]
    },
    {
      "cell_type": "markdown",
      "metadata": {
        "id": "e8h6BcrRSY0P"
      },
      "source": [
        "**Note:**   \n",
        "Geoplotlib has a built-in way to load datasets which is really convenient if you don't want to import additional libraries like Pandas.   \n",
        "Note that geoplotlib is compatible with Pandas dataframes, too. So if you need to do some pre-processing with the data it might make sense to use Pandas right away."
      ]
    },
    {
      "cell_type": "code",
      "metadata": {
        "id": "AQx97LnDSY0P",
        "outputId": "9df0d95b-5e0a-4d72-e3e1-88164793335c"
      },
      "source": [
        "import pandas as pd\n",
        "\n",
        "pd_dataset = pd.read_csv('https://raw.githubusercontent.com/sandeep92134/The-Data-Visualization-Workshop-by-packt/master/module%205/poaching_points_cleaned.csv')\n",
        "pd_dataset.head()"
      ],
      "execution_count": null,
      "outputs": [
        {
          "output_type": "execute_result",
          "data": {
            "text/html": [
              "<div>\n",
              "<style scoped>\n",
              "    .dataframe tbody tr th:only-of-type {\n",
              "        vertical-align: middle;\n",
              "    }\n",
              "\n",
              "    .dataframe tbody tr th {\n",
              "        vertical-align: top;\n",
              "    }\n",
              "\n",
              "    .dataframe thead th {\n",
              "        text-align: right;\n",
              "    }\n",
              "</style>\n",
              "<table border=\"1\" class=\"dataframe\">\n",
              "  <thead>\n",
              "    <tr style=\"text-align: right;\">\n",
              "      <th></th>\n",
              "      <th>id_report</th>\n",
              "      <th>date_report</th>\n",
              "      <th>description</th>\n",
              "      <th>created_date</th>\n",
              "      <th>lat</th>\n",
              "      <th>lon</th>\n",
              "    </tr>\n",
              "  </thead>\n",
              "  <tbody>\n",
              "    <tr>\n",
              "      <th>0</th>\n",
              "      <td>138</td>\n",
              "      <td>01/01/2005 12:00:00 AM</td>\n",
              "      <td>Poaching incident</td>\n",
              "      <td>2005/01/01 12:00:00 AM</td>\n",
              "      <td>-7.049359</td>\n",
              "      <td>34.841440</td>\n",
              "    </tr>\n",
              "    <tr>\n",
              "      <th>1</th>\n",
              "      <td>4</td>\n",
              "      <td>01/20/2005 12:00:00 AM</td>\n",
              "      <td>Poaching incident</td>\n",
              "      <td>2005/01/20 12:00:00 AM</td>\n",
              "      <td>-7.650840</td>\n",
              "      <td>34.480010</td>\n",
              "    </tr>\n",
              "    <tr>\n",
              "      <th>2</th>\n",
              "      <td>43</td>\n",
              "      <td>01/20/2005 12:00:00 AM</td>\n",
              "      <td>Poaching incident</td>\n",
              "      <td>2005/02/20 12:00:00 AM</td>\n",
              "      <td>-7.843202</td>\n",
              "      <td>34.005704</td>\n",
              "    </tr>\n",
              "    <tr>\n",
              "      <th>3</th>\n",
              "      <td>98</td>\n",
              "      <td>01/20/2005 12:00:00 AM</td>\n",
              "      <td>Poaching incident</td>\n",
              "      <td>2005/02/21 12:00:00 AM</td>\n",
              "      <td>-7.745846</td>\n",
              "      <td>33.948526</td>\n",
              "    </tr>\n",
              "    <tr>\n",
              "      <th>4</th>\n",
              "      <td>141</td>\n",
              "      <td>01/20/2005 12:00:00 AM</td>\n",
              "      <td>Poaching incident</td>\n",
              "      <td>2005/02/22 12:00:00 AM</td>\n",
              "      <td>-7.876673</td>\n",
              "      <td>33.690167</td>\n",
              "    </tr>\n",
              "  </tbody>\n",
              "</table>\n",
              "</div>"
            ],
            "text/plain": [
              "   id_report             date_report        description  \\\n",
              "0        138  01/01/2005 12:00:00 AM  Poaching incident   \n",
              "1          4  01/20/2005 12:00:00 AM  Poaching incident   \n",
              "2         43  01/20/2005 12:00:00 AM  Poaching incident   \n",
              "3         98  01/20/2005 12:00:00 AM  Poaching incident   \n",
              "4        141  01/20/2005 12:00:00 AM  Poaching incident   \n",
              "\n",
              "             created_date       lat        lon  \n",
              "0  2005/01/01 12:00:00 AM -7.049359  34.841440  \n",
              "1  2005/01/20 12:00:00 AM -7.650840  34.480010  \n",
              "2  2005/02/20 12:00:00 AM -7.843202  34.005704  \n",
              "3  2005/02/21 12:00:00 AM -7.745846  33.948526  \n",
              "4  2005/02/22 12:00:00 AM -7.876673  33.690167  "
            ]
          },
          "metadata": {
            "tags": []
          },
          "execution_count": 11
        }
      ]
    },
    {
      "cell_type": "markdown",
      "metadata": {
        "id": "f6AG6e_gSY0P"
      },
      "source": [
        "---"
      ]
    },
    {
      "cell_type": "markdown",
      "metadata": {
        "id": "_F5SBJRaSY0Q"
      },
      "source": [
        "#### Simple plots with geoplotlib"
      ]
    },
    {
      "cell_type": "markdown",
      "metadata": {
        "id": "7jjXN9WHSY0Q"
      },
      "source": [
        "For now we want to only focus on columns `lat` and `lon` since those are the column names geoplotlib will look out for when calling its plotting methods.   \n",
        "Right now, when only looking at the stub of data displayed with `dataset.head()` we see some numbers displayed. However we are not able to visually map them to some specific area on the globe.   \n",
        "\n",
        "We want to get some insights into our data, rather than looking at the values themselves.   \n",
        "Create a simple DotDensity plot using the built-in geoplotlib method `dot()`."
      ]
    },
    {
      "cell_type": "code",
      "metadata": {
        "id": "CnRkslf9SY0Q"
      },
      "source": [
        "# plotting our dataset with points\n",
        "geoplotlib.dot(dataset)\n",
        "geoplotlib.show()"
      ],
      "execution_count": null,
      "outputs": []
    },
    {
      "cell_type": "markdown",
      "metadata": {
        "id": "BjyllDoeSY0Q"
      },
      "source": [
        "**Note:**   \n",
        "Here we can see the automatic selection of the bounding box for what will be shown.   \n",
        "We'll take a look at how to change the default bounding box with the `BoundingBox` class of geoplotlib later on.\n",
        "\n",
        "To better visualize the density, use the `hist()` method to create a Histogram Layer. "
      ]
    },
    {
      "cell_type": "code",
      "metadata": {
        "id": "NSgT7NYdSY0Q"
      },
      "source": [
        "# plotting our dataset as a histogram\n",
        "geoplotlib.hist(dataset, binsize=20)\n",
        "geoplotlib.show()"
      ],
      "execution_count": null,
      "outputs": []
    },
    {
      "cell_type": "markdown",
      "metadata": {
        "id": "avzjJZtRSY0R"
      },
      "source": [
        "Histogram plots will gives us a better understanding about the distribution of density of our dataset.   \n",
        "Looking at the above plot, we can see that there are some \"hotspot\".\n",
        "\n",
        "Create a Voronoi plot using the same dataset. Use a color map (`cmap`) of `'Blues_r'` and define the `max_are` to be `1e5`."
      ]
    },
    {
      "cell_type": "code",
      "metadata": {
        "id": "TrCKm7K-SY0R"
      },
      "source": [
        "# plotting a voronoi map\n",
        "geoplotlib.voronoi(dataset, cmap='Blues_r', max_area=1e5, alpha=255)\n",
        "geoplotlib.show()"
      ],
      "execution_count": null,
      "outputs": []
    },
    {
      "cell_type": "markdown",
      "metadata": {
        "id": "kUqVK32LSY0R"
      },
      "source": [
        "Looking at either the histogram or voronoi visualizations gives us a better understanding of not only the areas in which poaching is present but also shows us that there are areas where it's more likely to be poached in.   \n",
        "\n",
        "Insights, also, are about finding out the right questions to ask to understand your subject better.   \n",
        "One of the questions that come to mind when looking at the given dataset is, what this rather big area without recorded poaches tells us about the kind of animals present there. "
      ]
    }
  ]
}