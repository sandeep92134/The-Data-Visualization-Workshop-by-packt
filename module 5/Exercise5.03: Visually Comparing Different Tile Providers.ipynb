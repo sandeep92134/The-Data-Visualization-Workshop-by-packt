{
  "nbformat": 4,
  "nbformat_minor": 0,
  "metadata": {
    "kernelspec": {
      "display_name": "Python 3",
      "language": "python",
      "name": "python3"
    },
    "language_info": {
      "codemirror_mode": {
        "name": "ipython",
        "version": 3
      },
      "file_extension": ".py",
      "mimetype": "text/x-python",
      "name": "python",
      "nbconvert_exporter": "python",
      "pygments_lexer": "ipython3",
      "version": "3.7.2"
    },
    "colab": {
      "name": "Exercise5.03.ipynb",
      "provenance": [],
      "include_colab_link": true
    }
  },
  "cells": [
    {
      "cell_type": "markdown",
      "metadata": {
        "id": "view-in-github",
        "colab_type": "text"
      },
      "source": [
        "<a href=\"https://colab.research.google.com/github/sandeep92134/The-Data-Visualization-Workshop-by-packt/blob/master/module%205/Exercise5.03%3A%20Visually%20Comparing%20Different%20Tile%20Providers.ipynb\" target=\"_parent\"><img src=\"https://colab.research.google.com/assets/colab-badge.svg\" alt=\"Open In Colab\"/></a>"
      ]
    },
    {
      "cell_type": "markdown",
      "metadata": {
        "id": "mrp1MfagZoZN"
      },
      "source": [
        "## Exercise 5.03: Visually Comparing Different Tile Providers"
      ]
    },
    {
      "cell_type": "markdown",
      "metadata": {
        "id": "5Sl7QYBsZoZb"
      },
      "source": [
        "Geoplotlib offers the possibility to switch between several providers of map tiles.   \n",
        "This means we can try out different map tile styles that fit our visualization.   \n",
        "\n",
        "In this exercise we'll take a look at how easily tile providers can be swapped."
      ]
    },
    {
      "cell_type": "markdown",
      "metadata": {
        "id": "Yzml9k4HZoZd"
      },
      "source": [
        "#### Loading our dataset"
      ]
    },
    {
      "cell_type": "markdown",
      "metadata": {
        "id": "64LuExRZZoZe"
      },
      "source": [
        "**Note:**   \n",
        "Since geoplotlib is layer based, we can also look at the map without any layers applied.   \n",
        "In this exercise we'll focus on the tiles themselves without plotting any data points."
      ]
    },
    {
      "cell_type": "code",
      "metadata": {
        "id": "iY1Cp3uZZq92"
      },
      "source": [
        "pip install geoplotlib"
      ],
      "execution_count": null,
      "outputs": []
    },
    {
      "cell_type": "code",
      "metadata": {
        "id": "aY0bqtDjZoZf"
      },
      "source": [
        "# importing the necessary dependencies\n",
        "import geoplotlib"
      ],
      "execution_count": null,
      "outputs": []
    },
    {
      "cell_type": "markdown",
      "metadata": {
        "id": "e3tDnRLRZoZg"
      },
      "source": [
        "---"
      ]
    },
    {
      "cell_type": "markdown",
      "metadata": {
        "id": "eRL4CmS7ZoZh"
      },
      "source": [
        "Geoplotlib uses map tiles from the **CartoDB Positron** by default.   \n",
        "However you can use any OpenStreetMap tile server by using the `tiles_provider` method.\n",
        "\n",
        "Only display the map tiles without adding any plotting layer on top."
      ]
    },
    {
      "cell_type": "code",
      "metadata": {
        "id": "FVtETbwJZoZi"
      },
      "source": [
        "# displaying the map with the default tile provider\n",
        "geoplotlib.show()"
      ],
      "execution_count": null,
      "outputs": []
    },
    {
      "cell_type": "markdown",
      "metadata": {
        "id": "dZ2EIVJUZoZi"
      },
      "source": [
        "Other examples of popular free tile providers are:\n",
        "- [Stamen Watercolor](http://maps.stamen.com/watercolor/#12/37.7706/-122.3782) => `watercolor`\n",
        "- [Stamen Toner](http://maps.stamen.com/toner/#12/37.7706/-122.3782) => `toner`\n",
        "- [Stamen Toner Lite](http://maps.stamen.com/toner-lite/#12/37.7706/-122.3782) => `toner-lite`\n",
        "- [DarkMatter](https://carto.com/location-data-services/basemaps/) => `darkmatter`\n",
        "\n",
        "Geoplotlib already provides the mapping for some of the most common tile providers.   \n",
        "By providing the name of the tile provider into the `tiles_provider` method, we can quickly switch between different styles.\n",
        "\n",
        "Use the tiles_provider method and provide the `darkmatter` tiles."
      ]
    },
    {
      "cell_type": "code",
      "metadata": {
        "id": "OWVgaQSOZoZj"
      },
      "source": [
        "# using map tiles from the dark matter tile provider\n",
        "geoplotlib.tiles_provider('darkmatter')\n",
        "geoplotlib.show()"
      ],
      "execution_count": null,
      "outputs": []
    },
    {
      "cell_type": "markdown",
      "metadata": {
        "id": "meVCir5jZoZk"
      },
      "source": [
        "In some cases the already provided tiles are not the right ones or take away too much of the users attention from the data displayed.   \n",
        "In this case we can also provide an object containing the tile provider information.   \n",
        "\n",
        "More free tile providers for OpenStreetMap can be found here:   \n",
        "https://wiki.openstreetmap.org/wiki/Tile_servers\n",
        "\n",
        "Use the attribution element of the tiles_provider argument object (the entity passed to the method) to provide a custom attribution."
      ]
    },
    {
      "cell_type": "code",
      "metadata": {
        "id": "2i2TowgmZoZk"
      },
      "source": [
        "# using custom object to set up tile provider\n",
        "geoplotlib.tiles_provider({\n",
        "    'url': lambda zoom, xtile, ytile: 'http://a.tile.openstreetmap.fr/hot/%d/%d/%d.png' % (zoom, xtile, ytile),\n",
        "    'tiles_dir': 'custom_tiles',\n",
        "    'attribution': 'Custom Tiles Provider - Humanitarian map style'\n",
        "})\n",
        "geoplotlib.show()"
      ],
      "execution_count": null,
      "outputs": []
    },
    {
      "cell_type": "markdown",
      "metadata": {
        "id": "oVUlVf06ZoZl"
      },
      "source": [
        "**Note:**   \n",
        "Choosing the right tiles that complement your visualization can push your visualizations to the next level and add an artistic element.   \n",
        "Just make sure to keep the data in focus without giving too much of the users attention to the map itself."
      ]
    }
  ]
}