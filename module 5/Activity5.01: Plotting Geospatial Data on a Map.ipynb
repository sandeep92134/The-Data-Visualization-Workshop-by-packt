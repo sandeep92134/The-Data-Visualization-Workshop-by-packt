{
  "nbformat": 4,
  "nbformat_minor": 0,
  "metadata": {
    "kernelspec": {
      "display_name": "Python 3",
      "language": "python",
      "name": "python3"
    },
    "language_info": {
      "codemirror_mode": {
        "name": "ipython",
        "version": 3
      },
      "file_extension": ".py",
      "mimetype": "text/x-python",
      "name": "python",
      "nbconvert_exporter": "python",
      "pygments_lexer": "ipython3",
      "version": "3.7.2"
    },
    "colab": {
      "name": "Activity5.01.ipynb",
      "provenance": [],
      "include_colab_link": true
    }
  },
  "cells": [
    {
      "cell_type": "markdown",
      "metadata": {
        "id": "view-in-github",
        "colab_type": "text"
      },
      "source": [
        "<a href=\"https://colab.research.google.com/github/sandeep92134/The-Data-Visualization-Workshop-by-packt/blob/master/module%205/Activity5.01%3A%20Plotting%20Geospatial%20Data%20on%20a%20Map.ipynb\" target=\"_parent\"><img src=\"https://colab.research.google.com/assets/colab-badge.svg\" alt=\"Open In Colab\"/></a>"
      ]
    },
    {
      "cell_type": "markdown",
      "metadata": {
        "id": "VX0bmY5Cf2GU"
      },
      "source": [
        "## Activity 5.01: Plotting Geospatial Data on a Map"
      ]
    },
    {
      "cell_type": "markdown",
      "metadata": {
        "id": "bG-9VfPTf2Gf"
      },
      "source": [
        "In this first activity for geoplotlib, you'll combine methodologies learned in the previous exercise and use theoretical knowledge from previous lessons.   \n",
        "Besides from wrangling data you need to find the area with given attributes.   \n",
        "\n",
        "Before we can start, however, we need to import our dataset.   \n",
        "For this activity, we'll work with geo-spatial data that contains all cities with their coordinates and their population.\n",
        "\n",
        "**Note:**   \n",
        "This time the dataset is not yet added into the data folder. You have to download it from here:   \n",
        "https://www.kaggle.com/max-mind/world-cities-database#worldcitiespop.csv"
      ]
    },
    {
      "cell_type": "markdown",
      "metadata": {
        "id": "_Gxeq-_Hf2Gh"
      },
      "source": [
        "#### Loading the dataset"
      ]
    },
    {
      "cell_type": "code",
      "metadata": {
        "id": "SrWHmvT6f2Gi"
      },
      "source": [
        "# importing the necessary dependencies\n",
        "import numpy as np\n",
        "import pandas as pd\n",
        "import geoplotlib"
      ],
      "execution_count": null,
      "outputs": []
    },
    {
      "cell_type": "code",
      "metadata": {
        "id": "6oZeXlR1f2Gj"
      },
      "source": [
        "# loading the Dataset (make sure to have the dataset downloaded)\n",
        "dataset = pd.read_csv('https://raw.githubusercontent.com/sandeep92134/The-Data-Visualization-Workshop-by-packt/master/module%205/datasets/world_population.csv', dtype={'Region': np.str})"
      ],
      "execution_count": null,
      "outputs": []
    },
    {
      "cell_type": "markdown",
      "metadata": {
        "id": "UWmauhICf2Gk"
      },
      "source": [
        "**Note:**   \n",
        "If we import our dataset without defining the dtype of column *Region* as String, we will get a warning telling out the it has a mixed datatype.   \n",
        "We can get rid of this warning by explicitly defining the type of the values in this column by using the `dtype` parameter.   \n",
        "`dtype={'Region': np.str}`"
      ]
    },
    {
      "cell_type": "code",
      "metadata": {
        "id": "3PrQEvlIf2Gk",
        "outputId": "3f490e2b-3c73-4737-c957-1235d5ec4ffc"
      },
      "source": [
        "# looking at the data types of each column\n",
        "dataset.dtypes"
      ],
      "execution_count": null,
      "outputs": [
        {
          "output_type": "execute_result",
          "data": {
            "text/plain": [
              "Country        object\n",
              "City           object\n",
              "AccentCity     object\n",
              "Region         object\n",
              "Population    float64\n",
              "Latitude      float64\n",
              "Longitude     float64\n",
              "dtype: object"
            ]
          },
          "metadata": {
            "tags": []
          },
          "execution_count": 3
        }
      ]
    },
    {
      "cell_type": "markdown",
      "metadata": {
        "id": "jLBSjSdCf2Gm"
      },
      "source": [
        "**Note:**   \n",
        "Here we can see the dtypes of each column.   \n",
        "Since the String type is no primitive datatype, it's displayed as `object` here."
      ]
    },
    {
      "cell_type": "code",
      "metadata": {
        "id": "kFo1L24Vf2Gn",
        "outputId": "73a7afce-f220-4106-f8ce-f1a484635f23"
      },
      "source": [
        "# showing the first 5 entries of the dataset\n",
        "dataset.head()"
      ],
      "execution_count": null,
      "outputs": [
        {
          "output_type": "execute_result",
          "data": {
            "text/html": [
              "<div>\n",
              "<style scoped>\n",
              "    .dataframe tbody tr th:only-of-type {\n",
              "        vertical-align: middle;\n",
              "    }\n",
              "\n",
              "    .dataframe tbody tr th {\n",
              "        vertical-align: top;\n",
              "    }\n",
              "\n",
              "    .dataframe thead th {\n",
              "        text-align: right;\n",
              "    }\n",
              "</style>\n",
              "<table border=\"1\" class=\"dataframe\">\n",
              "  <thead>\n",
              "    <tr style=\"text-align: right;\">\n",
              "      <th></th>\n",
              "      <th>Country</th>\n",
              "      <th>City</th>\n",
              "      <th>AccentCity</th>\n",
              "      <th>Region</th>\n",
              "      <th>Population</th>\n",
              "      <th>Latitude</th>\n",
              "      <th>Longitude</th>\n",
              "    </tr>\n",
              "  </thead>\n",
              "  <tbody>\n",
              "    <tr>\n",
              "      <th>0</th>\n",
              "      <td>ad</td>\n",
              "      <td>aixas</td>\n",
              "      <td>Aixàs</td>\n",
              "      <td>06</td>\n",
              "      <td>NaN</td>\n",
              "      <td>42.483333</td>\n",
              "      <td>1.466667</td>\n",
              "    </tr>\n",
              "    <tr>\n",
              "      <th>1</th>\n",
              "      <td>ad</td>\n",
              "      <td>aixirivali</td>\n",
              "      <td>Aixirivali</td>\n",
              "      <td>06</td>\n",
              "      <td>NaN</td>\n",
              "      <td>42.466667</td>\n",
              "      <td>1.500000</td>\n",
              "    </tr>\n",
              "    <tr>\n",
              "      <th>2</th>\n",
              "      <td>ad</td>\n",
              "      <td>aixirivall</td>\n",
              "      <td>Aixirivall</td>\n",
              "      <td>06</td>\n",
              "      <td>NaN</td>\n",
              "      <td>42.466667</td>\n",
              "      <td>1.500000</td>\n",
              "    </tr>\n",
              "    <tr>\n",
              "      <th>3</th>\n",
              "      <td>ad</td>\n",
              "      <td>aixirvall</td>\n",
              "      <td>Aixirvall</td>\n",
              "      <td>06</td>\n",
              "      <td>NaN</td>\n",
              "      <td>42.466667</td>\n",
              "      <td>1.500000</td>\n",
              "    </tr>\n",
              "    <tr>\n",
              "      <th>4</th>\n",
              "      <td>ad</td>\n",
              "      <td>aixovall</td>\n",
              "      <td>Aixovall</td>\n",
              "      <td>06</td>\n",
              "      <td>NaN</td>\n",
              "      <td>42.466667</td>\n",
              "      <td>1.483333</td>\n",
              "    </tr>\n",
              "  </tbody>\n",
              "</table>\n",
              "</div>"
            ],
            "text/plain": [
              "  Country        City  AccentCity Region  Population   Latitude  Longitude\n",
              "0      ad       aixas       Aixàs     06         NaN  42.483333   1.466667\n",
              "1      ad  aixirivali  Aixirivali     06         NaN  42.466667   1.500000\n",
              "2      ad  aixirivall  Aixirivall     06         NaN  42.466667   1.500000\n",
              "3      ad   aixirvall   Aixirvall     06         NaN  42.466667   1.500000\n",
              "4      ad    aixovall    Aixovall     06         NaN  42.466667   1.483333"
            ]
          },
          "metadata": {
            "tags": []
          },
          "execution_count": 4
        }
      ]
    },
    {
      "cell_type": "markdown",
      "metadata": {
        "id": "3KgDZDKsf2Go"
      },
      "source": [
        "---"
      ]
    },
    {
      "cell_type": "markdown",
      "metadata": {
        "id": "hNZHNwzjf2Go"
      },
      "source": [
        "#### Mapping `Latitude` and `Longitude` to `lat` and `lon`"
      ]
    },
    {
      "cell_type": "markdown",
      "metadata": {
        "id": "6dMRUS8Wf2Gp"
      },
      "source": [
        "Most datasets won't be in the format that you want to have. Some of them might have their latitude and longitude values hidden in a different column.   \n",
        "This is where the data wrangling skills of lesson 1 are needed.   \n",
        "\n",
        "For the given dataset, the transformations are easy, map the `Latitude` and `Longitude` columns into the `lat` and `lon` columns by using a simple assignment."
      ]
    },
    {
      "cell_type": "code",
      "metadata": {
        "id": "W4p1dVtrf2Gp"
      },
      "source": [
        "# mapping Latitude to lat and Longitude to lon\n",
        "dataset['lat'] = dataset['Latitude']\n",
        "dataset['lon'] = dataset['Longitude']"
      ],
      "execution_count": null,
      "outputs": []
    },
    {
      "cell_type": "markdown",
      "metadata": {
        "id": "Nvb4upNVf2Gq"
      },
      "source": [
        "**Note:**   \n",
        "Geoplotlibs methods expect dataset columns `lat` and `lon` for plotting. This means your dataframe has to be tranfsormed to resemble this structure.   "
      ]
    },
    {
      "cell_type": "markdown",
      "metadata": {
        "id": "V7L9ysJRf2Gq"
      },
      "source": [
        "---"
      ]
    },
    {
      "cell_type": "markdown",
      "metadata": {
        "id": "6SxyCd-Af2Gr"
      },
      "source": [
        "#### Understanding our data"
      ]
    },
    {
      "cell_type": "markdown",
      "metadata": {
        "id": "SvhCIqR9f2Gr"
      },
      "source": [
        "It's your first day at work, your boss hands you this dataset and wants you to dig into it and find the areas with the most adjacent cities that have a population of more than 100k.   \n",
        "He needs this information to figure out where to expand next.   \n",
        "\n",
        "To get a feeling for how many datapoints the dataset contains, plot the whole dataset using dots."
      ]
    },
    {
      "cell_type": "code",
      "metadata": {
        "id": "n28_C0F-f2Gs"
      },
      "source": [
        "# plotting the whole dataset with dots\n",
        "geoplotlib.dot(dataset)\n",
        "geoplotlib.show()"
      ],
      "execution_count": null,
      "outputs": []
    },
    {
      "cell_type": "markdown",
      "metadata": {
        "id": "MOPbic2kf2Gs"
      },
      "source": [
        "Other than seeing the density of our datapoints, we also need to get some information about how the data is distributed.\n",
        "\n",
        "Display the number of countries and the number of cities that our dataset holds"
      ]
    },
    {
      "cell_type": "code",
      "metadata": {
        "id": "Qp6BYd2Rf2Gt",
        "outputId": "3297db52-802b-45e1-9e81-f57759ed9064"
      },
      "source": [
        "# amount of countries and cities\n",
        "print(len(dataset.groupby(['Country'])), 'Countries')\n",
        "print(len(dataset), 'Cities')"
      ],
      "execution_count": null,
      "outputs": [
        {
          "output_type": "stream",
          "text": [
            "234 Countries\n",
            "3173958 Cities\n"
          ],
          "name": "stdout"
        }
      ]
    },
    {
      "cell_type": "markdown",
      "metadata": {
        "id": "-2bUj2qQf2Gt"
      },
      "source": [
        "Use the `size()` method, which returns a Series object, to see each grouped element on its own"
      ]
    },
    {
      "cell_type": "code",
      "metadata": {
        "id": "fjxDR3phf2Gu",
        "outputId": "95d449bf-ae56-44c2-e83d-b65940dfedb4"
      },
      "source": [
        "# amount of cities per country (first 20 entries)\n",
        "dataset.groupby(['Country']).size().head(20)"
      ],
      "execution_count": null,
      "outputs": [
        {
          "output_type": "execute_result",
          "data": {
            "text/plain": [
              "Country\n",
              "ad       92\n",
              "ae      446\n",
              "af    88749\n",
              "ag      183\n",
              "ai       42\n",
              "al    15123\n",
              "am     2890\n",
              "an      269\n",
              "ao    19560\n",
              "ar     8738\n",
              "at    14788\n",
              "au    10941\n",
              "aw      115\n",
              "az    11223\n",
              "ba    15999\n",
              "bb      536\n",
              "bd    26414\n",
              "be    16218\n",
              "bf    10468\n",
              "bg    20106\n",
              "dtype: int64"
            ]
          },
          "metadata": {
            "tags": []
          },
          "execution_count": 8
        }
      ]
    },
    {
      "cell_type": "markdown",
      "metadata": {
        "id": "vwPPFRQQf2Gu"
      },
      "source": [
        "Display the average amount of cities per country using the `agg` method of pandas."
      ]
    },
    {
      "cell_type": "code",
      "metadata": {
        "id": "HEtUWrUMf2Gv",
        "outputId": "9d470496-1491-4f1a-fc27-dc0dcead6292"
      },
      "source": [
        "# average num of cities per country\n",
        "dataset.groupby(['Country']).size().agg('mean')"
      ],
      "execution_count": null,
      "outputs": [
        {
          "output_type": "execute_result",
          "data": {
            "text/plain": [
              "13563.923076923076"
            ]
          },
          "metadata": {
            "tags": []
          },
          "execution_count": 9
        }
      ]
    },
    {
      "cell_type": "markdown",
      "metadata": {
        "id": "niKPf6hef2Gv"
      },
      "source": [
        "Since we are only interested in areas with densely placed cities and high population, we can filter out cities without a population. "
      ]
    },
    {
      "cell_type": "markdown",
      "metadata": {
        "id": "fJ15l53If2Gw"
      },
      "source": [
        "#### Reducing our data"
      ]
    },
    {
      "cell_type": "markdown",
      "metadata": {
        "id": "sJiZ1nYjf2Gw"
      },
      "source": [
        "Our dataset has more than 3Mio cities listed. Many of them are really small and can be ignored, given our objective for this activity.   \n",
        "We only want to look at those cities that have a value given for their population density.\n",
        "\n",
        "Reduce the amount of data we are working with by removing all cities that don't have a population value, meaning a population of 0 in this case.\n",
        "\n",
        "**Note:**   \n",
        "If you're having trouble filtering your dataset, you can always check back with the activities in lesson1."
      ]
    },
    {
      "cell_type": "code",
      "metadata": {
        "id": "sRK8F3A7f2Gx",
        "outputId": "d50c3f16-4f56-41dd-e4a8-c33b7bcca294"
      },
      "source": [
        "# filter for countries with a population entry (Population > 0)\n",
        "dataset_with_pop = dataset[(dataset['Population'] > 0)]\n",
        "\n",
        "print('Full dataset:', len(dataset))\n",
        "print('Cities with population information:', len(dataset_with_pop))"
      ],
      "execution_count": null,
      "outputs": [
        {
          "output_type": "stream",
          "text": [
            "Full dataset: 3173958\n",
            "Cities with population information: 47980\n"
          ],
          "name": "stdout"
        }
      ]
    },
    {
      "cell_type": "code",
      "metadata": {
        "id": "sOxHPK8pf2Gx",
        "outputId": "c3bd0996-374d-4ef8-bc04-cfd51751bea3"
      },
      "source": [
        "# displaying the first 5 items from dataset_with_pop\n",
        "dataset_with_pop.head()"
      ],
      "execution_count": null,
      "outputs": [
        {
          "output_type": "execute_result",
          "data": {
            "text/html": [
              "<div>\n",
              "<style scoped>\n",
              "    .dataframe tbody tr th:only-of-type {\n",
              "        vertical-align: middle;\n",
              "    }\n",
              "\n",
              "    .dataframe tbody tr th {\n",
              "        vertical-align: top;\n",
              "    }\n",
              "\n",
              "    .dataframe thead th {\n",
              "        text-align: right;\n",
              "    }\n",
              "</style>\n",
              "<table border=\"1\" class=\"dataframe\">\n",
              "  <thead>\n",
              "    <tr style=\"text-align: right;\">\n",
              "      <th></th>\n",
              "      <th>Country</th>\n",
              "      <th>City</th>\n",
              "      <th>AccentCity</th>\n",
              "      <th>Region</th>\n",
              "      <th>Population</th>\n",
              "      <th>Latitude</th>\n",
              "      <th>Longitude</th>\n",
              "      <th>lat</th>\n",
              "      <th>lon</th>\n",
              "    </tr>\n",
              "  </thead>\n",
              "  <tbody>\n",
              "    <tr>\n",
              "      <th>6</th>\n",
              "      <td>ad</td>\n",
              "      <td>andorra la vella</td>\n",
              "      <td>Andorra la Vella</td>\n",
              "      <td>07</td>\n",
              "      <td>20430.0</td>\n",
              "      <td>42.500000</td>\n",
              "      <td>1.516667</td>\n",
              "      <td>42.500000</td>\n",
              "      <td>1.516667</td>\n",
              "    </tr>\n",
              "    <tr>\n",
              "      <th>20</th>\n",
              "      <td>ad</td>\n",
              "      <td>canillo</td>\n",
              "      <td>Canillo</td>\n",
              "      <td>02</td>\n",
              "      <td>3292.0</td>\n",
              "      <td>42.566667</td>\n",
              "      <td>1.600000</td>\n",
              "      <td>42.566667</td>\n",
              "      <td>1.600000</td>\n",
              "    </tr>\n",
              "    <tr>\n",
              "      <th>32</th>\n",
              "      <td>ad</td>\n",
              "      <td>encamp</td>\n",
              "      <td>Encamp</td>\n",
              "      <td>03</td>\n",
              "      <td>11224.0</td>\n",
              "      <td>42.533333</td>\n",
              "      <td>1.583333</td>\n",
              "      <td>42.533333</td>\n",
              "      <td>1.583333</td>\n",
              "    </tr>\n",
              "    <tr>\n",
              "      <th>49</th>\n",
              "      <td>ad</td>\n",
              "      <td>la massana</td>\n",
              "      <td>La Massana</td>\n",
              "      <td>04</td>\n",
              "      <td>7211.0</td>\n",
              "      <td>42.550000</td>\n",
              "      <td>1.516667</td>\n",
              "      <td>42.550000</td>\n",
              "      <td>1.516667</td>\n",
              "    </tr>\n",
              "    <tr>\n",
              "      <th>53</th>\n",
              "      <td>ad</td>\n",
              "      <td>les escaldes</td>\n",
              "      <td>Les Escaldes</td>\n",
              "      <td>08</td>\n",
              "      <td>15854.0</td>\n",
              "      <td>42.500000</td>\n",
              "      <td>1.533333</td>\n",
              "      <td>42.500000</td>\n",
              "      <td>1.533333</td>\n",
              "    </tr>\n",
              "  </tbody>\n",
              "</table>\n",
              "</div>"
            ],
            "text/plain": [
              "   Country              City        AccentCity Region  Population   Latitude  \\\n",
              "6       ad  andorra la vella  Andorra la Vella     07     20430.0  42.500000   \n",
              "20      ad           canillo           Canillo     02      3292.0  42.566667   \n",
              "32      ad            encamp            Encamp     03     11224.0  42.533333   \n",
              "49      ad        la massana        La Massana     04      7211.0  42.550000   \n",
              "53      ad      les escaldes      Les Escaldes     08     15854.0  42.500000   \n",
              "\n",
              "    Longitude        lat       lon  \n",
              "6    1.516667  42.500000  1.516667  \n",
              "20   1.600000  42.566667  1.600000  \n",
              "32   1.583333  42.533333  1.583333  \n",
              "49   1.516667  42.550000  1.516667  \n",
              "53   1.533333  42.500000  1.533333  "
            ]
          },
          "metadata": {
            "tags": []
          },
          "execution_count": 11
        }
      ]
    },
    {
      "cell_type": "markdown",
      "metadata": {
        "id": "N0WVHIypf2Gy"
      },
      "source": [
        "Now, take a look at our reduced dataset with the help of a dot-density plot."
      ]
    },
    {
      "cell_type": "code",
      "metadata": {
        "id": "2dvwDFIpf2Gy"
      },
      "source": [
        "# showing all cities with a defined population with a dot density plot\n",
        "geoplotlib.dot(dataset_with_pop)\n",
        "geoplotlib.show()"
      ],
      "execution_count": null,
      "outputs": []
    },
    {
      "cell_type": "markdown",
      "metadata": {
        "id": "1YI2LFNOf2Gy"
      },
      "source": [
        "**Note:**   \n",
        "Not only the execution time of the visualization has been decreased but we already can see where the areas with more cities are.   \n",
        "\n",
        "Following the request from our boss, we shall only consider areas that have a high density of adjacent cities with a population of more than 100k.\n",
        "\n",
        "Filter the dataset to contain only cities with a population of more than 100k."
      ]
    },
    {
      "cell_type": "code",
      "metadata": {
        "id": "WbWqoUkPf2Gz",
        "outputId": "f24dffde-1667-4d72-fa69-734fdcdc59db"
      },
      "source": [
        "# dataset with cities with population of >= 100k\n",
        "dataset_100k = dataset_with_pop[(dataset_with_pop['Population'] >= 100000)]\n",
        "\n",
        "print('Cities with a population of 100k or more:', len(dataset_100k))"
      ],
      "execution_count": null,
      "outputs": [
        {
          "output_type": "stream",
          "text": [
            "Cities with a population of 100k or more: 3527\n"
          ],
          "name": "stdout"
        }
      ]
    },
    {
      "cell_type": "markdown",
      "metadata": {
        "id": "ANszDewpf2Gz"
      },
      "source": [
        "In addition to just plotting our 100k dataset, fix our viewport to a specific bounding box. \n",
        "Since our data is spread across the world, use the in-built `WORLD` constant of the `BoundingBox` class."
      ]
    },
    {
      "cell_type": "code",
      "metadata": {
        "id": "GKbCr95Gf2G0"
      },
      "source": [
        "# displaying all cities >= 100k population with a fixed bounding box (WORLD) in a dot density plot\n",
        "from geoplotlib.utils import BoundingBox\n",
        "\n",
        "geoplotlib.dot(dataset_100k)\n",
        "geoplotlib.set_bbox(BoundingBox.WORLD)\n",
        "geoplotlib.show()"
      ],
      "execution_count": null,
      "outputs": []
    },
    {
      "cell_type": "markdown",
      "metadata": {
        "id": "rLzVCbuDf2G0"
      },
      "source": [
        "**Note:**   \n",
        "In order to get the same view on our map every time, we can set the bounding box to the constant viewport declared in the geoplotlib library.   \n",
        "We can also instantiate the BoundingBox class with values for north, west, south, and east."
      ]
    },
    {
      "cell_type": "markdown",
      "metadata": {
        "id": "Ex6g5YGtf2G1"
      },
      "source": [
        "---"
      ]
    },
    {
      "cell_type": "markdown",
      "metadata": {
        "id": "6d2I6GTIf2G2"
      },
      "source": [
        "#### Finding the best area"
      ]
    },
    {
      "cell_type": "markdown",
      "metadata": {
        "id": "Nu2OYWVCf2G2"
      },
      "source": [
        "After reducing our data, we can now use more complex plots to filter down our data even more.   \n",
        "Thinking back to the first exercise, we've seen that histograms and voronoi plots can give us a quick visual representation of the density of data.\n",
        "\n",
        "Find the areas of these cities that are the most densely packed using a Voronoi plot.\n",
        "\n",
        "**Note:**   \n",
        "Try playing around with the different color maps of the plotting methods, sometimes using other colors does not only improve the visuals but also the amount of information you can take from the visualization."
      ]
    },
    {
      "cell_type": "code",
      "metadata": {
        "id": "1ny40ncbf2G2"
      },
      "source": [
        "# using filled voronoi to find dense areas\n",
        "geoplotlib.voronoi(dataset_100k, cmap='hot_r', max_area=1e3, alpha=255)\n",
        "geoplotlib.show()"
      ],
      "execution_count": null,
      "outputs": []
    },
    {
      "cell_type": "markdown",
      "metadata": {
        "id": "0Ug1r_o0f2G3"
      },
      "source": [
        "In the voronoi plot we can see tendencies.   \n",
        "Germany, Great Britain, Nigeria, India, Japan, Java, the East Coast of the USA, and Brasil stick out.   \n",
        "We can now again filter our data and only look at those countries to find the best suited.   "
      ]
    },
    {
      "cell_type": "markdown",
      "metadata": {
        "id": "Z4ywmDzaf2G3"
      },
      "source": [
        "---"
      ]
    },
    {
      "cell_type": "markdown",
      "metadata": {
        "id": "t4GIAweUf2G3"
      },
      "source": [
        "#### Final call"
      ]
    },
    {
      "cell_type": "markdown",
      "metadata": {
        "id": "myXPlvQhf2G4"
      },
      "source": [
        "After meeting with your boss, he tells you that we want to stick to Europe when it comes to expanding.   \n",
        "Filter your data for Germany and Great Britain only and decide which area is your final proposal."
      ]
    },
    {
      "cell_type": "code",
      "metadata": {
        "id": "-5np-yjYf2G4",
        "outputId": "6bd85c25-2f2c-4324-c62a-3bb90f56d9f1"
      },
      "source": [
        "# filter 100k dataset for cities in Germany and GB\n",
        "dataset_europe = dataset_100k[(dataset_100k['Country'] == 'de') | (dataset_100k['Country'] == 'gb')]\n",
        "\n",
        "print('Cities in Germany or GB with population >= 100k:', len(dataset_europe))"
      ],
      "execution_count": null,
      "outputs": [
        {
          "output_type": "stream",
          "text": [
            "Cities in Germany or GB with population >= 100k: 150\n"
          ],
          "name": "stdout"
        }
      ]
    },
    {
      "cell_type": "markdown",
      "metadata": {
        "id": "yi6d0mNgf2G5"
      },
      "source": [
        "Now use Delaunay triangulation to find the area with the most densely packed cities."
      ]
    },
    {
      "cell_type": "code",
      "metadata": {
        "id": "iVz_nTF2f2G5"
      },
      "source": [
        "# using Delaunay triangulation to find the most dense aree\n",
        "geoplotlib.delaunay(dataset_europe, cmap='hot_r')\n",
        "geoplotlib.show()"
      ],
      "execution_count": null,
      "outputs": []
    },
    {
      "cell_type": "markdown",
      "metadata": {
        "id": "hlX7wZIWf2G5"
      },
      "source": [
        "Looking at our delaunay visualization, we can quickly see that area around Cologne and Düsseldorf stick out.   \n",
        "With those insights, we can now get back to our boss and talk about what we found out."
      ]
    },
    {
      "cell_type": "markdown",
      "metadata": {
        "id": "1LEZapT-f2G6"
      },
      "source": [
        "**Note:**   \n",
        "As mentioned before, it's important to know which visualization type helps you achieve the best insights.   \n",
        "We e.g. could've simply used a dot density map in the final call which would have also given us an idea about where there are most cities.   \n",
        "However delaunay triangulation is a good approach here that makes details pop nearly instantly."
      ]
    }
  ]
}