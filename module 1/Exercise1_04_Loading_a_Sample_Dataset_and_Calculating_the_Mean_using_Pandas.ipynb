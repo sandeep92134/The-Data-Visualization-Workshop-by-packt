{
  "nbformat": 4,
  "nbformat_minor": 0,
  "metadata": {
    "kernelspec": {
      "display_name": "Python 3",
      "language": "python",
      "name": "python3"
    },
    "language_info": {
      "codemirror_mode": {
        "name": "ipython",
        "version": 3
      },
      "file_extension": ".py",
      "mimetype": "text/x-python",
      "name": "python",
      "nbconvert_exporter": "python",
      "pygments_lexer": "ipython3",
      "version": "3.8.5"
    },
    "colab": {
      "name": "Exercise1.04: Loading a Sample Dataset and Calculating the Mean using Pandas.ipynb",
      "provenance": [],
      "include_colab_link": true
    }
  },
  "cells": [
    {
      "cell_type": "markdown",
      "metadata": {
        "id": "view-in-github",
        "colab_type": "text"
      },
      "source": [
        "<a href=\"https://colab.research.google.com/github/sandeep92134/The-Data-Visualization-Workshop-by-packt/blob/master/module%201/Exercise1_04_Loading_a_Sample_Dataset_and_Calculating_the_Mean_using_Pandas.ipynb\" target=\"_parent\"><img src=\"https://colab.research.google.com/assets/colab-badge.svg\" alt=\"Open In Colab\"/></a>"
      ]
    },
    {
      "cell_type": "markdown",
      "metadata": {
        "id": "F4NZxINixN2r"
      },
      "source": [
        "## Exercise 1.04: Loading a Sample Dataset and Calculating the Mean"
      ]
    },
    {
      "cell_type": "markdown",
      "metadata": {
        "id": "vDyYHgraxN25"
      },
      "source": [
        "In this exercise, we will be loading the `world_population.csv` dataset and calculate the mean of some rows and columns.   \n",
        "Our dataset holds the yearly population density for each country. We can therefore use Pandas to get some really quick and easy insights."
      ]
    },
    {
      "cell_type": "markdown",
      "metadata": {
        "id": "EbpEW8u0xN26"
      },
      "source": [
        "#### Loading our dataset"
      ]
    },
    {
      "cell_type": "code",
      "metadata": {
        "id": "WFfCWDnYxN27"
      },
      "source": [
        "# importing the necessary dependencies\n",
        "import pandas as pd"
      ],
      "execution_count": 1,
      "outputs": []
    },
    {
      "cell_type": "code",
      "metadata": {
        "id": "iPFK7tEHyC_o"
      },
      "source": [
        "file_url = 'https://raw.githubusercontent.com/sandeep92134/The-Data-Visualization-Workshop-by-packt/master/module%201/world_population.csv'"
      ],
      "execution_count": 2,
      "outputs": []
    },
    {
      "cell_type": "code",
      "metadata": {
        "id": "1flvDmA3xN28"
      },
      "source": [
        "# loading the Dataset\n",
        "dataset = pd.read_csv(file_url, index_col=0)"
      ],
      "execution_count": 4,
      "outputs": []
    },
    {
      "cell_type": "markdown",
      "metadata": {
        "id": "tnrX8N27xN29"
      },
      "source": [
        "**Note:**   \n",
        "`index_col` enables you to use any column as index instead of the incrementing int column that gets added by default. In our case we want column 0, which is the country names, as indices."
      ]
    },
    {
      "cell_type": "code",
      "metadata": {
        "colab": {
          "base_uri": "https://localhost:8080/",
          "height": 629
        },
        "id": "kMzrX_pixN2-",
        "outputId": "4c260d46-7f23-4714-8295-2e968e422e9c"
      },
      "source": [
        "# looking at the dataset\n",
        "dataset.head()"
      ],
      "execution_count": 5,
      "outputs": [
        {
          "output_type": "execute_result",
          "data": {
            "text/html": [
              "<div>\n",
              "<style scoped>\n",
              "    .dataframe tbody tr th:only-of-type {\n",
              "        vertical-align: middle;\n",
              "    }\n",
              "\n",
              "    .dataframe tbody tr th {\n",
              "        vertical-align: top;\n",
              "    }\n",
              "\n",
              "    .dataframe thead th {\n",
              "        text-align: right;\n",
              "    }\n",
              "</style>\n",
              "<table border=\"1\" class=\"dataframe\">\n",
              "  <thead>\n",
              "    <tr style=\"text-align: right;\">\n",
              "      <th></th>\n",
              "      <th>Country Code</th>\n",
              "      <th>Indicator Name</th>\n",
              "      <th>Indicator Code</th>\n",
              "      <th>1960</th>\n",
              "      <th>1961</th>\n",
              "      <th>1962</th>\n",
              "      <th>1963</th>\n",
              "      <th>1964</th>\n",
              "      <th>1965</th>\n",
              "      <th>1966</th>\n",
              "      <th>1967</th>\n",
              "      <th>1968</th>\n",
              "      <th>1969</th>\n",
              "      <th>1970</th>\n",
              "      <th>1971</th>\n",
              "      <th>1972</th>\n",
              "      <th>1973</th>\n",
              "      <th>1974</th>\n",
              "      <th>1975</th>\n",
              "      <th>1976</th>\n",
              "      <th>1977</th>\n",
              "      <th>1978</th>\n",
              "      <th>1979</th>\n",
              "      <th>1980</th>\n",
              "      <th>1981</th>\n",
              "      <th>1982</th>\n",
              "      <th>1983</th>\n",
              "      <th>1984</th>\n",
              "      <th>1985</th>\n",
              "      <th>1986</th>\n",
              "      <th>1987</th>\n",
              "      <th>1988</th>\n",
              "      <th>1989</th>\n",
              "      <th>1990</th>\n",
              "      <th>1991</th>\n",
              "      <th>1992</th>\n",
              "      <th>1993</th>\n",
              "      <th>1994</th>\n",
              "      <th>1995</th>\n",
              "      <th>1996</th>\n",
              "      <th>1997</th>\n",
              "      <th>1998</th>\n",
              "      <th>1999</th>\n",
              "      <th>2000</th>\n",
              "      <th>2001</th>\n",
              "      <th>2002</th>\n",
              "      <th>2003</th>\n",
              "      <th>2004</th>\n",
              "      <th>2005</th>\n",
              "      <th>2006</th>\n",
              "      <th>2007</th>\n",
              "      <th>2008</th>\n",
              "      <th>2009</th>\n",
              "      <th>2010</th>\n",
              "      <th>2011</th>\n",
              "      <th>2012</th>\n",
              "      <th>2013</th>\n",
              "      <th>2014</th>\n",
              "      <th>2015</th>\n",
              "      <th>2016</th>\n",
              "    </tr>\n",
              "    <tr>\n",
              "      <th>Country Name</th>\n",
              "      <th></th>\n",
              "      <th></th>\n",
              "      <th></th>\n",
              "      <th></th>\n",
              "      <th></th>\n",
              "      <th></th>\n",
              "      <th></th>\n",
              "      <th></th>\n",
              "      <th></th>\n",
              "      <th></th>\n",
              "      <th></th>\n",
              "      <th></th>\n",
              "      <th></th>\n",
              "      <th></th>\n",
              "      <th></th>\n",
              "      <th></th>\n",
              "      <th></th>\n",
              "      <th></th>\n",
              "      <th></th>\n",
              "      <th></th>\n",
              "      <th></th>\n",
              "      <th></th>\n",
              "      <th></th>\n",
              "      <th></th>\n",
              "      <th></th>\n",
              "      <th></th>\n",
              "      <th></th>\n",
              "      <th></th>\n",
              "      <th></th>\n",
              "      <th></th>\n",
              "      <th></th>\n",
              "      <th></th>\n",
              "      <th></th>\n",
              "      <th></th>\n",
              "      <th></th>\n",
              "      <th></th>\n",
              "      <th></th>\n",
              "      <th></th>\n",
              "      <th></th>\n",
              "      <th></th>\n",
              "      <th></th>\n",
              "      <th></th>\n",
              "      <th></th>\n",
              "      <th></th>\n",
              "      <th></th>\n",
              "      <th></th>\n",
              "      <th></th>\n",
              "      <th></th>\n",
              "      <th></th>\n",
              "      <th></th>\n",
              "      <th></th>\n",
              "      <th></th>\n",
              "      <th></th>\n",
              "      <th></th>\n",
              "      <th></th>\n",
              "      <th></th>\n",
              "      <th></th>\n",
              "      <th></th>\n",
              "      <th></th>\n",
              "      <th></th>\n",
              "    </tr>\n",
              "  </thead>\n",
              "  <tbody>\n",
              "    <tr>\n",
              "      <th>Aruba</th>\n",
              "      <td>ABW</td>\n",
              "      <td>Population density (people per sq. km of land ...</td>\n",
              "      <td>EN.POP.DNST</td>\n",
              "      <td>NaN</td>\n",
              "      <td>307.972222</td>\n",
              "      <td>312.366667</td>\n",
              "      <td>314.983333</td>\n",
              "      <td>316.827778</td>\n",
              "      <td>318.666667</td>\n",
              "      <td>320.622222</td>\n",
              "      <td>322.494444</td>\n",
              "      <td>324.361111</td>\n",
              "      <td>326.244444</td>\n",
              "      <td>328.138889</td>\n",
              "      <td>330.211111</td>\n",
              "      <td>332.494444</td>\n",
              "      <td>334.661111</td>\n",
              "      <td>336.250000</td>\n",
              "      <td>336.972222</td>\n",
              "      <td>336.605556</td>\n",
              "      <td>335.366667</td>\n",
              "      <td>333.922222</td>\n",
              "      <td>333.211111</td>\n",
              "      <td>333.866667</td>\n",
              "      <td>336.483333</td>\n",
              "      <td>340.800000</td>\n",
              "      <td>345.577778</td>\n",
              "      <td>349.061111</td>\n",
              "      <td>350.155556</td>\n",
              "      <td>348.022222</td>\n",
              "      <td>343.527778</td>\n",
              "      <td>339.316667</td>\n",
              "      <td>339.066667</td>\n",
              "      <td>345.266667</td>\n",
              "      <td>359.016667</td>\n",
              "      <td>379.083333</td>\n",
              "      <td>402.766667</td>\n",
              "      <td>426.111111</td>\n",
              "      <td>446.255556</td>\n",
              "      <td>462.194444</td>\n",
              "      <td>474.705556</td>\n",
              "      <td>484.866667</td>\n",
              "      <td>494.466667</td>\n",
              "      <td>504.766667</td>\n",
              "      <td>516.077778</td>\n",
              "      <td>527.750000</td>\n",
              "      <td>538.972222</td>\n",
              "      <td>548.566667</td>\n",
              "      <td>555.727778</td>\n",
              "      <td>560.166667</td>\n",
              "      <td>562.322222</td>\n",
              "      <td>563.011111</td>\n",
              "      <td>563.422222</td>\n",
              "      <td>564.427778</td>\n",
              "      <td>566.311111</td>\n",
              "      <td>568.850000</td>\n",
              "      <td>571.783333</td>\n",
              "      <td>574.672222</td>\n",
              "      <td>577.161111</td>\n",
              "      <td>NaN</td>\n",
              "    </tr>\n",
              "    <tr>\n",
              "      <th>Andorra</th>\n",
              "      <td>AND</td>\n",
              "      <td>Population density (people per sq. km of land ...</td>\n",
              "      <td>EN.POP.DNST</td>\n",
              "      <td>NaN</td>\n",
              "      <td>30.587234</td>\n",
              "      <td>32.714894</td>\n",
              "      <td>34.914894</td>\n",
              "      <td>37.170213</td>\n",
              "      <td>39.470213</td>\n",
              "      <td>41.800000</td>\n",
              "      <td>44.159574</td>\n",
              "      <td>46.570213</td>\n",
              "      <td>49.065957</td>\n",
              "      <td>51.657447</td>\n",
              "      <td>54.382979</td>\n",
              "      <td>57.217021</td>\n",
              "      <td>60.065957</td>\n",
              "      <td>62.795745</td>\n",
              "      <td>65.331915</td>\n",
              "      <td>67.619149</td>\n",
              "      <td>69.721277</td>\n",
              "      <td>71.800000</td>\n",
              "      <td>74.082979</td>\n",
              "      <td>76.729787</td>\n",
              "      <td>79.791489</td>\n",
              "      <td>83.217021</td>\n",
              "      <td>86.940426</td>\n",
              "      <td>90.859574</td>\n",
              "      <td>94.887234</td>\n",
              "      <td>98.968085</td>\n",
              "      <td>103.102128</td>\n",
              "      <td>107.300000</td>\n",
              "      <td>111.593617</td>\n",
              "      <td>115.980851</td>\n",
              "      <td>120.582979</td>\n",
              "      <td>125.327660</td>\n",
              "      <td>129.793617</td>\n",
              "      <td>133.419149</td>\n",
              "      <td>135.859574</td>\n",
              "      <td>136.789362</td>\n",
              "      <td>136.482979</td>\n",
              "      <td>135.931915</td>\n",
              "      <td>136.512766</td>\n",
              "      <td>139.146809</td>\n",
              "      <td>144.191489</td>\n",
              "      <td>151.161702</td>\n",
              "      <td>159.112766</td>\n",
              "      <td>166.674468</td>\n",
              "      <td>172.814894</td>\n",
              "      <td>177.389362</td>\n",
              "      <td>180.591489</td>\n",
              "      <td>182.161702</td>\n",
              "      <td>181.859574</td>\n",
              "      <td>179.614894</td>\n",
              "      <td>175.161702</td>\n",
              "      <td>168.757447</td>\n",
              "      <td>161.493617</td>\n",
              "      <td>154.863830</td>\n",
              "      <td>149.942553</td>\n",
              "      <td>NaN</td>\n",
              "    </tr>\n",
              "    <tr>\n",
              "      <th>Afghanistan</th>\n",
              "      <td>AFG</td>\n",
              "      <td>Population density (people per sq. km of land ...</td>\n",
              "      <td>EN.POP.DNST</td>\n",
              "      <td>NaN</td>\n",
              "      <td>14.038148</td>\n",
              "      <td>14.312061</td>\n",
              "      <td>14.599692</td>\n",
              "      <td>14.901579</td>\n",
              "      <td>15.218206</td>\n",
              "      <td>15.545203</td>\n",
              "      <td>15.881812</td>\n",
              "      <td>16.235931</td>\n",
              "      <td>16.618433</td>\n",
              "      <td>17.034429</td>\n",
              "      <td>17.481269</td>\n",
              "      <td>17.947027</td>\n",
              "      <td>18.415149</td>\n",
              "      <td>18.864003</td>\n",
              "      <td>19.273587</td>\n",
              "      <td>19.654077</td>\n",
              "      <td>19.998926</td>\n",
              "      <td>20.253266</td>\n",
              "      <td>20.346290</td>\n",
              "      <td>20.236210</td>\n",
              "      <td>19.907672</td>\n",
              "      <td>19.402324</td>\n",
              "      <td>18.808159</td>\n",
              "      <td>18.246653</td>\n",
              "      <td>17.814689</td>\n",
              "      <td>17.521289</td>\n",
              "      <td>17.366559</td>\n",
              "      <td>17.424514</td>\n",
              "      <td>17.780766</td>\n",
              "      <td>18.484162</td>\n",
              "      <td>19.589765</td>\n",
              "      <td>21.054483</td>\n",
              "      <td>22.706815</td>\n",
              "      <td>24.308377</td>\n",
              "      <td>25.690840</td>\n",
              "      <td>26.777257</td>\n",
              "      <td>27.623273</td>\n",
              "      <td>28.354440</td>\n",
              "      <td>29.161566</td>\n",
              "      <td>30.177894</td>\n",
              "      <td>31.448029</td>\n",
              "      <td>32.912231</td>\n",
              "      <td>34.475030</td>\n",
              "      <td>35.995236</td>\n",
              "      <td>37.373936</td>\n",
              "      <td>38.574296</td>\n",
              "      <td>39.637202</td>\n",
              "      <td>40.634655</td>\n",
              "      <td>41.674005</td>\n",
              "      <td>42.830327</td>\n",
              "      <td>44.127634</td>\n",
              "      <td>45.533197</td>\n",
              "      <td>46.997059</td>\n",
              "      <td>48.444546</td>\n",
              "      <td>49.821649</td>\n",
              "      <td>NaN</td>\n",
              "    </tr>\n",
              "    <tr>\n",
              "      <th>Angola</th>\n",
              "      <td>AGO</td>\n",
              "      <td>Population density (people per sq. km of land ...</td>\n",
              "      <td>EN.POP.DNST</td>\n",
              "      <td>NaN</td>\n",
              "      <td>4.305195</td>\n",
              "      <td>4.384299</td>\n",
              "      <td>4.464433</td>\n",
              "      <td>4.544558</td>\n",
              "      <td>4.624228</td>\n",
              "      <td>4.703271</td>\n",
              "      <td>4.782892</td>\n",
              "      <td>4.865721</td>\n",
              "      <td>4.955244</td>\n",
              "      <td>5.054118</td>\n",
              "      <td>5.163748</td>\n",
              "      <td>5.284068</td>\n",
              "      <td>5.414466</td>\n",
              "      <td>5.553661</td>\n",
              "      <td>5.700918</td>\n",
              "      <td>5.855064</td>\n",
              "      <td>6.016941</td>\n",
              "      <td>6.190053</td>\n",
              "      <td>6.379147</td>\n",
              "      <td>6.586950</td>\n",
              "      <td>6.816355</td>\n",
              "      <td>7.064660</td>\n",
              "      <td>7.322255</td>\n",
              "      <td>7.575935</td>\n",
              "      <td>7.816804</td>\n",
              "      <td>8.040186</td>\n",
              "      <td>8.250351</td>\n",
              "      <td>8.458253</td>\n",
              "      <td>8.679708</td>\n",
              "      <td>8.925860</td>\n",
              "      <td>9.202032</td>\n",
              "      <td>9.504268</td>\n",
              "      <td>9.823362</td>\n",
              "      <td>10.145571</td>\n",
              "      <td>10.461752</td>\n",
              "      <td>10.768279</td>\n",
              "      <td>11.070721</td>\n",
              "      <td>11.380212</td>\n",
              "      <td>11.712507</td>\n",
              "      <td>12.078798</td>\n",
              "      <td>12.483188</td>\n",
              "      <td>12.921871</td>\n",
              "      <td>13.388462</td>\n",
              "      <td>13.873025</td>\n",
              "      <td>14.368286</td>\n",
              "      <td>14.872437</td>\n",
              "      <td>15.387749</td>\n",
              "      <td>15.915819</td>\n",
              "      <td>16.459536</td>\n",
              "      <td>17.020898</td>\n",
              "      <td>17.600302</td>\n",
              "      <td>18.196544</td>\n",
              "      <td>18.808215</td>\n",
              "      <td>19.433323</td>\n",
              "      <td>20.070565</td>\n",
              "      <td>NaN</td>\n",
              "    </tr>\n",
              "    <tr>\n",
              "      <th>Albania</th>\n",
              "      <td>ALB</td>\n",
              "      <td>Population density (people per sq. km of land ...</td>\n",
              "      <td>EN.POP.DNST</td>\n",
              "      <td>NaN</td>\n",
              "      <td>60.576642</td>\n",
              "      <td>62.456898</td>\n",
              "      <td>64.329234</td>\n",
              "      <td>66.209307</td>\n",
              "      <td>68.058066</td>\n",
              "      <td>69.874927</td>\n",
              "      <td>71.737153</td>\n",
              "      <td>73.805547</td>\n",
              "      <td>75.974270</td>\n",
              "      <td>77.937190</td>\n",
              "      <td>79.848650</td>\n",
              "      <td>81.865912</td>\n",
              "      <td>83.823066</td>\n",
              "      <td>85.770949</td>\n",
              "      <td>87.767555</td>\n",
              "      <td>89.727226</td>\n",
              "      <td>91.735255</td>\n",
              "      <td>93.659343</td>\n",
              "      <td>95.541314</td>\n",
              "      <td>97.518139</td>\n",
              "      <td>99.491095</td>\n",
              "      <td>101.615985</td>\n",
              "      <td>103.794161</td>\n",
              "      <td>106.001058</td>\n",
              "      <td>108.202993</td>\n",
              "      <td>110.315146</td>\n",
              "      <td>112.540328</td>\n",
              "      <td>114.683796</td>\n",
              "      <td>117.808139</td>\n",
              "      <td>119.946788</td>\n",
              "      <td>119.225912</td>\n",
              "      <td>118.505073</td>\n",
              "      <td>117.784197</td>\n",
              "      <td>117.063358</td>\n",
              "      <td>116.342482</td>\n",
              "      <td>115.621642</td>\n",
              "      <td>114.900766</td>\n",
              "      <td>114.179927</td>\n",
              "      <td>113.459051</td>\n",
              "      <td>112.738212</td>\n",
              "      <td>111.685146</td>\n",
              "      <td>111.350730</td>\n",
              "      <td>110.934891</td>\n",
              "      <td>110.472226</td>\n",
              "      <td>109.908285</td>\n",
              "      <td>109.217044</td>\n",
              "      <td>108.394781</td>\n",
              "      <td>107.566204</td>\n",
              "      <td>106.843759</td>\n",
              "      <td>106.314635</td>\n",
              "      <td>106.013869</td>\n",
              "      <td>105.848431</td>\n",
              "      <td>105.717226</td>\n",
              "      <td>105.607810</td>\n",
              "      <td>105.444051</td>\n",
              "      <td>NaN</td>\n",
              "    </tr>\n",
              "  </tbody>\n",
              "</table>\n",
              "</div>"
            ],
            "text/plain": [
              "             Country Code  ... 2016\n",
              "Country Name               ...     \n",
              "Aruba                 ABW  ...  NaN\n",
              "Andorra               AND  ...  NaN\n",
              "Afghanistan           AFG  ...  NaN\n",
              "Angola                AGO  ...  NaN\n",
              "Albania               ALB  ...  NaN\n",
              "\n",
              "[5 rows x 60 columns]"
            ]
          },
          "metadata": {
            "tags": []
          },
          "execution_count": 5
        }
      ]
    },
    {
      "cell_type": "markdown",
      "metadata": {
        "id": "n3RHpgCnxN3A"
      },
      "source": [
        "---"
      ]
    },
    {
      "cell_type": "markdown",
      "metadata": {
        "id": "yy6G_MbuxN3B"
      },
      "source": [
        "#### After loading our dataset"
      ]
    },
    {
      "cell_type": "markdown",
      "metadata": {
        "id": "h4YrDZ_YxN3B"
      },
      "source": [
        "To get a quick overview on our dataset we want to print out the \"shape\" of it.   \n",
        "This will give us an output of the form (rows, columns)\n",
        "\n",
        "- Get the shape of the dataset\n",
        "- Calculate the mean of the 1961 column\n",
        "- Calculate the mean of the 2015 column\n",
        "- Get the mean for each country and return the first 10 rows\n",
        "- Get the mean for each feature (column) and return the last 10 entries\n",
        "- Get the mean value for the whole dataset"
      ]
    },
    {
      "cell_type": "code",
      "metadata": {
        "colab": {
          "base_uri": "https://localhost:8080/"
        },
        "id": "3Kh1ee8SxN3C",
        "outputId": "7469c001-af63-4086-8607-dbe014b9b6d8"
      },
      "source": [
        "# printing the shape of our dataset\n",
        "dataset.shape"
      ],
      "execution_count": 6,
      "outputs": [
        {
          "output_type": "execute_result",
          "data": {
            "text/plain": [
              "(264, 60)"
            ]
          },
          "metadata": {
            "tags": []
          },
          "execution_count": 6
        }
      ]
    },
    {
      "cell_type": "code",
      "metadata": {
        "colab": {
          "base_uri": "https://localhost:8080/"
        },
        "id": "ikvoVSynxN3D",
        "outputId": "53eb0ee1-0834-4863-dd38-1cbcc9baa0c1"
      },
      "source": [
        "# calculating the mean for 1961 column\n",
        "dataset[\"1961\"].mean()"
      ],
      "execution_count": 7,
      "outputs": [
        {
          "output_type": "execute_result",
          "data": {
            "text/plain": [
              "176.91514132840538"
            ]
          },
          "metadata": {
            "tags": []
          },
          "execution_count": 7
        }
      ]
    },
    {
      "cell_type": "code",
      "metadata": {
        "colab": {
          "base_uri": "https://localhost:8080/"
        },
        "id": "lKHyYIRoxN3D",
        "outputId": "334bf3f4-5b7d-4d76-8f75-5472d08f2c5f"
      },
      "source": [
        "# calculating the mean for 2015 column\n",
        "dataset[\"2015\"].mean()"
      ],
      "execution_count": 8,
      "outputs": [
        {
          "output_type": "execute_result",
          "data": {
            "text/plain": [
              "368.7066010400187"
            ]
          },
          "metadata": {
            "tags": []
          },
          "execution_count": 8
        }
      ]
    },
    {
      "cell_type": "markdown",
      "metadata": {
        "id": "6C2Ff25qxN3E"
      },
      "source": [
        "**Note:**   \n",
        "Only by comaparing the overall mean of the two years, 1961 and 2015, we can already see that the mean population density **more than doubled** in this time range."
      ]
    },
    {
      "cell_type": "code",
      "metadata": {
        "colab": {
          "base_uri": "https://localhost:8080/"
        },
        "id": "rWQrAujhxN3E",
        "outputId": "28cc5710-8e6a-470b-b6fe-a7d5da6174a8"
      },
      "source": [
        "# mean for each country (row)\n",
        "dataset.mean(axis=1).head(10)"
      ],
      "execution_count": 9,
      "outputs": [
        {
          "output_type": "execute_result",
          "data": {
            "text/plain": [
              "Country Name\n",
              "Aruba                   413.944949\n",
              "Andorra                 106.838839\n",
              "Afghanistan              25.373379\n",
              "Angola                    9.649583\n",
              "Albania                  99.159197\n",
              "Arab World               16.118586\n",
              "United Arab Emirates     31.321721\n",
              "Argentina                11.634028\n",
              "Armenia                 103.415539\n",
              "American Samoa          211.855636\n",
              "dtype: float64"
            ]
          },
          "metadata": {
            "tags": []
          },
          "execution_count": 9
        }
      ]
    },
    {
      "cell_type": "code",
      "metadata": {
        "colab": {
          "base_uri": "https://localhost:8080/"
        },
        "id": "Py4XSsU5xN3F",
        "outputId": "a623a37a-bcb4-47a7-c97d-ca15186b97ee"
      },
      "source": [
        "# mean for each feature (col)\n",
        "dataset.mean(axis=0).tail(10)"
      ],
      "execution_count": 10,
      "outputs": [
        {
          "output_type": "execute_result",
          "data": {
            "text/plain": [
              "2007    331.995474\n",
              "2008    338.688417\n",
              "2009    343.649206\n",
              "2010    347.967029\n",
              "2011    351.942027\n",
              "2012    357.787305\n",
              "2013    360.985726\n",
              "2014    364.849194\n",
              "2015    368.706601\n",
              "2016           NaN\n",
              "dtype: float64"
            ]
          },
          "metadata": {
            "tags": []
          },
          "execution_count": 10
        }
      ]
    },
    {
      "cell_type": "markdown",
      "metadata": {
        "id": "_itzEzbUxN3G"
      },
      "source": [
        "**Note:**   \n",
        "The axis parameter is again needed to control the aggregation flow."
      ]
    },
    {
      "cell_type": "code",
      "metadata": {
        "colab": {
          "base_uri": "https://localhost:8080/"
        },
        "id": "zXHb1uiQxN3G",
        "outputId": "e97bae7f-f12e-42c0-9b1f-cdd53a64452c"
      },
      "source": [
        "# calculating the mean for the whole matrix\n",
        "dataset.mean()"
      ],
      "execution_count": 11,
      "outputs": [
        {
          "output_type": "execute_result",
          "data": {
            "text/plain": [
              "1960           NaN\n",
              "1961    176.915141\n",
              "1962    180.703231\n",
              "1963    184.572413\n",
              "1964    188.461797\n",
              "1965    192.412363\n",
              "1966    196.145042\n",
              "1967    200.118063\n",
              "1968    203.879464\n",
              "1969    207.336102\n",
              "1970    210.607871\n",
              "1971    213.489694\n",
              "1972    215.998475\n",
              "1973    218.438708\n",
              "1974    220.621210\n",
              "1975    223.046375\n",
              "1976    224.960258\n",
              "1977    227.006734\n",
              "1978    229.187306\n",
              "1979    232.510772\n",
              "1980    236.185357\n",
              "1981    240.789508\n",
              "1982    246.175178\n",
              "1983    251.342389\n",
              "1984    256.647822\n",
              "1985    261.680751\n",
              "1986    266.647038\n",
              "1987    271.768300\n",
              "1988    276.813259\n",
              "1989    281.850054\n",
              "1990    286.062387\n",
              "1991    288.292566\n",
              "1992    293.305416\n",
              "1993    297.759160\n",
              "1994    302.275463\n",
              "1995    304.537276\n",
              "1996    309.714948\n",
              "1997    313.896935\n",
              "1998    320.405981\n",
              "1999    324.004669\n",
              "2000    327.270760\n",
              "2001    312.259570\n",
              "2002    313.269043\n",
              "2003    315.847613\n",
              "2004    317.746559\n",
              "2005    322.669534\n",
              "2006    326.907971\n",
              "2007    331.995474\n",
              "2008    338.688417\n",
              "2009    343.649206\n",
              "2010    347.967029\n",
              "2011    351.942027\n",
              "2012    357.787305\n",
              "2013    360.985726\n",
              "2014    364.849194\n",
              "2015    368.706601\n",
              "2016           NaN\n",
              "dtype: float64"
            ]
          },
          "metadata": {
            "tags": []
          },
          "execution_count": 11
        }
      ]
    },
    {
      "cell_type": "markdown",
      "metadata": {
        "id": "VJ-tVg6JxN3H"
      },
      "source": [
        "**Note:**   \n",
        "If you compare the result of this last cell with the one about `# mean for each col` you can see that the default axis is 0 which leads to the same result as the cell above."
      ]
    },
    {
      "cell_type": "markdown",
      "metadata": {
        "id": "MsLEaJaRxN3H"
      },
      "source": [
        "---"
      ]
    },
    {
      "cell_type": "markdown",
      "metadata": {
        "id": "OMYiqSZGxN3I"
      },
      "source": [
        "Using a real dataset with Pandas can already give us some quick and easy insights into our data.  \n",
        "In this case we can already see that the mean population density increased constantly for each year."
      ]
    }
  ]
}