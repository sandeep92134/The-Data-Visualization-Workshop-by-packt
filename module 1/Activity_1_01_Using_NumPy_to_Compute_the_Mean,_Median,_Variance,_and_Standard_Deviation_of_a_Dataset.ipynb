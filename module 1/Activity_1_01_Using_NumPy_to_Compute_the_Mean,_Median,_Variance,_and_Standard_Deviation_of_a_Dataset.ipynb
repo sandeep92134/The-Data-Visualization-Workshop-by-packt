{
  "nbformat": 4,
  "nbformat_minor": 0,
  "metadata": {
    "kernelspec": {
      "display_name": "Python 3",
      "language": "python",
      "name": "python3"
    },
    "language_info": {
      "codemirror_mode": {
        "name": "ipython",
        "version": 3
      },
      "file_extension": ".py",
      "mimetype": "text/x-python",
      "name": "python",
      "nbconvert_exporter": "python",
      "pygments_lexer": "ipython3",
      "version": "3.8.5"
    },
    "colab": {
      "name": "Activity 1.01 Using NumPy to Compute the Mean, Median, Variance, and Standard Deviation of a Dataset.ipynb",
      "provenance": [],
      "collapsed_sections": [],
      "include_colab_link": true
    }
  },
  "cells": [
    {
      "cell_type": "markdown",
      "metadata": {
        "id": "view-in-github",
        "colab_type": "text"
      },
      "source": [
        "<a href=\"https://colab.research.google.com/github/sandeep92134/The-Data-Visualization-Workshop-by-packt/blob/master/module%201/Activity_1_01_Using_NumPy_to_Compute_the_Mean%2C_Median%2C_Variance%2C_and_Standard_Deviation_of_a_Dataset.ipynb\" target=\"_parent\"><img src=\"https://colab.research.google.com/assets/colab-badge.svg\" alt=\"Open In Colab\"/></a>"
      ]
    },
    {
      "cell_type": "markdown",
      "metadata": {
        "jupyter": {
          "source_hidden": true
        },
        "id": "xYpx92yXp8VN"
      },
      "source": [
        "## Activity 1.01: Using NumPy to Compute the Mean, Median, Variance, and Standard Deviation of a Dataset"
      ]
    },
    {
      "cell_type": "markdown",
      "metadata": {
        "id": "QmQKVHhcp8VS"
      },
      "source": [
        "In this activity, you will consolidate the skills you've acquired in the last exercise and use NumPy to do some very basic mathematical calculations on our `normal_distribution` dataset.   \n",
        "NumPy has a consistent API, so it should be rather easy to transfer your knowledge of the mean method to median and variance. "
      ]
    },
    {
      "cell_type": "markdown",
      "metadata": {
        "id": "G52sFmscp8VS"
      },
      "source": [
        "#### Loading the dataset"
      ]
    },
    {
      "cell_type": "code",
      "metadata": {
        "id": "oSNzu40up8VS"
      },
      "source": [
        "# importing the necessary dependencies\n",
        "import numpy as np"
      ],
      "execution_count": null,
      "outputs": []
    },
    {
      "cell_type": "code",
      "metadata": {
        "id": "Wxy9tBDCp8VT"
      },
      "source": [
        "# loading the Dataset\n",
        "dataset = np.genfromtxt('normal_distribution.csv', delimiter=',')"
      ],
      "execution_count": null,
      "outputs": []
    },
    {
      "cell_type": "code",
      "metadata": {
        "colab": {
          "base_uri": "https://localhost:8080/"
        },
        "id": "VDtt5yaFp8VT",
        "outputId": "37d71f2a-035b-44b4-c709-448f0b8e658e"
      },
      "source": [
        "# looking at the first two rows of the dataset\n",
        "dataset[0:2]"
      ],
      "execution_count": null,
      "outputs": [
        {
          "output_type": "execute_result",
          "data": {
            "text/plain": [
              "array([[ 99.14931546, 104.03852715, 107.43534677,  97.85230675,\n",
              "         98.74986914,  98.80833412,  96.81964892,  98.56783189],\n",
              "       [ 92.02628776,  97.10439252,  99.32066924,  97.24584816,\n",
              "         92.9267508 ,  92.65657752, 105.7197853 , 101.23162942]])"
            ]
          },
          "metadata": {
            "tags": []
          },
          "execution_count": 3
        }
      ]
    },
    {
      "cell_type": "markdown",
      "metadata": {
        "id": "GovwomuUp8VU"
      },
      "source": [
        "---"
      ]
    },
    {
      "cell_type": "markdown",
      "metadata": {
        "id": "p2uk47IRp8VU"
      },
      "source": [
        "#### Mean"
      ]
    },
    {
      "cell_type": "code",
      "metadata": {
        "colab": {
          "base_uri": "https://localhost:8080/"
        },
        "id": "s1WCW1rjp8VU",
        "outputId": "6d855c47-1dc8-4e6f-a178-034ac7cf26fe"
      },
      "source": [
        "# calculate the mean of the third row\n",
        "np.mean(dataset[2])"
      ],
      "execution_count": null,
      "outputs": [
        {
          "output_type": "execute_result",
          "data": {
            "text/plain": [
              "100.20466135250001"
            ]
          },
          "metadata": {
            "tags": []
          },
          "execution_count": 4
        }
      ]
    },
    {
      "cell_type": "code",
      "metadata": {
        "colab": {
          "base_uri": "https://localhost:8080/"
        },
        "id": "B1k-LWK-p8VU",
        "outputId": "91f7182b-0a98-427e-b5ec-083fa4ebc446"
      },
      "source": [
        "# calculate the mean of the last column\n",
        "np.mean(dataset[:,-1])"
      ],
      "execution_count": null,
      "outputs": [
        {
          "output_type": "execute_result",
          "data": {
            "text/plain": [
              "100.4404927375"
            ]
          },
          "metadata": {
            "tags": []
          },
          "execution_count": 5
        }
      ]
    },
    {
      "cell_type": "code",
      "metadata": {
        "colab": {
          "base_uri": "https://localhost:8080/"
        },
        "id": "1medHLjUp8VV",
        "outputId": "11c86a4b-2f63-4817-bea4-4f28ea27552a"
      },
      "source": [
        "# calculate the mean of the intersection of the first 3 rows and first 3 columns\n",
        "np.mean(dataset[0:3, 0:3])"
      ],
      "execution_count": null,
      "outputs": [
        {
          "output_type": "execute_result",
          "data": {
            "text/plain": [
              "97.87197312333333"
            ]
          },
          "metadata": {
            "tags": []
          },
          "execution_count": 6
        }
      ]
    },
    {
      "cell_type": "markdown",
      "metadata": {
        "id": "xhHYOCuUp8VV"
      },
      "source": [
        "---"
      ]
    },
    {
      "cell_type": "markdown",
      "metadata": {
        "id": "EjBzRNbwp8VV"
      },
      "source": [
        "#### Median"
      ]
    },
    {
      "cell_type": "code",
      "metadata": {
        "colab": {
          "base_uri": "https://localhost:8080/"
        },
        "id": "AsqaS4CPp8VV",
        "outputId": "8252e6e4-3bef-48af-898f-f0e501d6cbec"
      },
      "source": [
        "# calculate the median of the last row\n",
        "np.median(dataset[-1])"
      ],
      "execution_count": null,
      "outputs": [
        {
          "output_type": "execute_result",
          "data": {
            "text/plain": [
              "99.18748092"
            ]
          },
          "metadata": {
            "tags": []
          },
          "execution_count": 7
        }
      ]
    },
    {
      "cell_type": "code",
      "metadata": {
        "colab": {
          "base_uri": "https://localhost:8080/"
        },
        "id": "KTsdkWeXp8VW",
        "outputId": "1d8a5dfa-0f81-492d-f63c-b3a77daf94f3"
      },
      "source": [
        "# calculate the median of the last 3 columns\n",
        "np.median(dataset[:, -3:])"
      ],
      "execution_count": null,
      "outputs": [
        {
          "output_type": "execute_result",
          "data": {
            "text/plain": [
              "99.47332349999999"
            ]
          },
          "metadata": {
            "tags": []
          },
          "execution_count": 8
        }
      ]
    },
    {
      "cell_type": "code",
      "metadata": {
        "colab": {
          "base_uri": "https://localhost:8080/"
        },
        "id": "-dS4D1jxp8VW",
        "outputId": "68eed42e-e7f2-45e0-817f-60c55b6a5244"
      },
      "source": [
        "# calculate the median of each row\n",
        "np.median(dataset, axis=1)"
      ],
      "execution_count": null,
      "outputs": [
        {
          "output_type": "execute_result",
          "data": {
            "text/plain": [
              "array([ 98.77910163,  97.17512034,  98.58782879, 100.68449836,\n",
              "       101.00170737,  97.76908825, 101.85002253, 100.04756697,\n",
              "       102.24292555,  99.59514997, 100.4955753 ,  99.8860714 ,\n",
              "        99.00647994,  98.67276177, 102.44376222,  96.61933565,\n",
              "       104.0968893 , 100.72023043,  98.70877396,  99.75008654,\n",
              "       104.89344428, 101.00634942,  98.30543801,  99.18748092])"
            ]
          },
          "metadata": {
            "tags": []
          },
          "execution_count": 9
        }
      ]
    },
    {
      "cell_type": "markdown",
      "metadata": {
        "id": "IlKwbk4zp8VW"
      },
      "source": [
        "---"
      ]
    },
    {
      "cell_type": "markdown",
      "metadata": {
        "id": "PYWE_y4qp8VW"
      },
      "source": [
        "#### Variance"
      ]
    },
    {
      "cell_type": "code",
      "metadata": {
        "colab": {
          "base_uri": "https://localhost:8080/"
        },
        "id": "keiWXMBOp8VW",
        "outputId": "14aca0a5-ae10-4fef-cc41-86eed7478403"
      },
      "source": [
        "# calculate the variance of each column\n",
        "np.var(dataset, axis=0)"
      ],
      "execution_count": null,
      "outputs": [
        {
          "output_type": "execute_result",
          "data": {
            "text/plain": [
              "array([23.64757465, 29.78886109, 20.50542011, 26.03204443, 28.38853175,\n",
              "       19.09960817, 17.67291174, 16.17923204])"
            ]
          },
          "metadata": {
            "tags": []
          },
          "execution_count": 10
        }
      ]
    },
    {
      "cell_type": "code",
      "metadata": {
        "colab": {
          "base_uri": "https://localhost:8080/"
        },
        "id": "Ex9rXZZop8VX",
        "outputId": "1f4bd26a-24ee-4189-d09a-a26a01f64904"
      },
      "source": [
        "# calculate the variance of the intersection of the last 2 rows and first 2 columns\n",
        "np.var(dataset[-2:, :2])"
      ],
      "execution_count": null,
      "outputs": [
        {
          "output_type": "execute_result",
          "data": {
            "text/plain": [
              "4.674691991769191"
            ]
          },
          "metadata": {
            "tags": []
          },
          "execution_count": 11
        }
      ]
    },
    {
      "cell_type": "markdown",
      "metadata": {
        "id": "INECdfaYp8VX"
      },
      "source": [
        "The values of the variance might seem a little bit strange at first.   \n",
        "You can always go back to the topic that gives you a quick statistical overview to recap what you've learned so far.   \n",
        "\n",
        "> **Note:**   \n",
        "Just remember, the variance is not the standard deviation.   \n",
        "\n",
        "Try calculation the standard deviation with NumPy to get a more descriptive value when comparing it to our dataset"
      ]
    },
    {
      "cell_type": "code",
      "metadata": {
        "colab": {
          "base_uri": "https://localhost:8080/"
        },
        "id": "B1CeFM5Mp8VX",
        "outputId": "9bdfcd02-b15c-43da-dfc4-6c894797582c"
      },
      "source": [
        "# calculate the standard deviation for the dataset\n",
        "np.std(dataset)"
      ],
      "execution_count": null,
      "outputs": [
        {
          "output_type": "execute_result",
          "data": {
            "text/plain": [
              "4.838197554269257"
            ]
          },
          "metadata": {
            "tags": []
          },
          "execution_count": 12
        }
      ]
    },
    {
      "cell_type": "code",
      "metadata": {
        "id": "htCk8YN3qgWl"
      },
      "source": [
        ""
      ],
      "execution_count": null,
      "outputs": []
    }
  ]
}