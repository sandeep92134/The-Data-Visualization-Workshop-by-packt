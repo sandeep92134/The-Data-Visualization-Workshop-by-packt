{
  "nbformat": 4,
  "nbformat_minor": 0,
  "metadata": {
    "kernelspec": {
      "display_name": "Python 3",
      "language": "python",
      "name": "python3"
    },
    "language_info": {
      "codemirror_mode": {
        "name": "ipython",
        "version": 3
      },
      "file_extension": ".py",
      "mimetype": "text/x-python",
      "name": "python",
      "nbconvert_exporter": "python",
      "pygments_lexer": "ipython3",
      "version": "3.8.5"
    },
    "colab": {
      "name": "Copy of Exercise 1.05: Using pandas to Compute the Mean, Median, and Variance of a Dataset.ipynb",
      "provenance": [],
      "include_colab_link": true
    }
  },
  "cells": [
    {
      "cell_type": "markdown",
      "metadata": {
        "id": "view-in-github",
        "colab_type": "text"
      },
      "source": [
        "<a href=\"https://colab.research.google.com/github/sandeep92134/The-Data-Visualization-Workshop-by-packt/blob/master/module%201/Exercise1_05_Using_pandas_to_Compute_the_Mean%2C_Median%2C_and_Variance_of_a_Dataset.ipynb\" target=\"_parent\"><img src=\"https://colab.research.google.com/assets/colab-badge.svg\" alt=\"Open In Colab\"/></a>"
      ]
    },
    {
      "cell_type": "markdown",
      "metadata": {
        "id": "Y9ctf_120XQO"
      },
      "source": [
        "## Exercise 1.05: Using pandas to Compute the Mean, Median, and Variance of a Dataset"
      ]
    },
    {
      "cell_type": "markdown",
      "metadata": {
        "id": "5J0c3Sl30XQc"
      },
      "source": [
        "In this exercise, you will consolidate the skills you've acquired in the last exercise and use Pandas to do some very basic mathematical calculations on our `world_population.csv` dataset.   \n",
        "Pandas have consistent API, so it should be rather easy to transfer your knowledge of the mean method to median and variance.    \n",
        "Your already existing knowledge of NumPy will also help."
      ]
    },
    {
      "cell_type": "markdown",
      "metadata": {
        "id": "X8z9niZ-0XQd"
      },
      "source": [
        "#### Loading the dataset"
      ]
    },
    {
      "cell_type": "code",
      "metadata": {
        "id": "8AbcWD4S0XQe"
      },
      "source": [
        "# importing the necessary dependencies\n",
        "import pandas as pd"
      ],
      "execution_count": 1,
      "outputs": []
    },
    {
      "cell_type": "code",
      "metadata": {
        "id": "OUYL1N7U0uLu"
      },
      "source": [
        "file_url = 'https://raw.githubusercontent.com/sandeep92134/The-Data-Visualization-Workshop-by-packt/master/module%201/world_population.csv'"
      ],
      "execution_count": 2,
      "outputs": []
    },
    {
      "cell_type": "code",
      "metadata": {
        "id": "0aWTeG2v0XQf"
      },
      "source": [
        "# loading the Dataset\n",
        "dataset = pd.read_csv(file_url, index_col=0)"
      ],
      "execution_count": 3,
      "outputs": []
    },
    {
      "cell_type": "code",
      "metadata": {
        "colab": {
          "base_uri": "https://localhost:8080/",
          "height": 332
        },
        "id": "m9aQAeIy0XQg",
        "outputId": "abf34012-5d69-4bb7-bc7b-33bd6989991f"
      },
      "source": [
        "# looking at the first two rows of the dataset\n",
        "dataset[0:2]"
      ],
      "execution_count": 4,
      "outputs": [
        {
          "output_type": "execute_result",
          "data": {
            "text/html": [
              "<div>\n",
              "<style scoped>\n",
              "    .dataframe tbody tr th:only-of-type {\n",
              "        vertical-align: middle;\n",
              "    }\n",
              "\n",
              "    .dataframe tbody tr th {\n",
              "        vertical-align: top;\n",
              "    }\n",
              "\n",
              "    .dataframe thead th {\n",
              "        text-align: right;\n",
              "    }\n",
              "</style>\n",
              "<table border=\"1\" class=\"dataframe\">\n",
              "  <thead>\n",
              "    <tr style=\"text-align: right;\">\n",
              "      <th></th>\n",
              "      <th>Country Code</th>\n",
              "      <th>Indicator Name</th>\n",
              "      <th>Indicator Code</th>\n",
              "      <th>1960</th>\n",
              "      <th>1961</th>\n",
              "      <th>1962</th>\n",
              "      <th>1963</th>\n",
              "      <th>1964</th>\n",
              "      <th>1965</th>\n",
              "      <th>1966</th>\n",
              "      <th>1967</th>\n",
              "      <th>1968</th>\n",
              "      <th>1969</th>\n",
              "      <th>1970</th>\n",
              "      <th>1971</th>\n",
              "      <th>1972</th>\n",
              "      <th>1973</th>\n",
              "      <th>1974</th>\n",
              "      <th>1975</th>\n",
              "      <th>1976</th>\n",
              "      <th>1977</th>\n",
              "      <th>1978</th>\n",
              "      <th>1979</th>\n",
              "      <th>1980</th>\n",
              "      <th>1981</th>\n",
              "      <th>1982</th>\n",
              "      <th>1983</th>\n",
              "      <th>1984</th>\n",
              "      <th>1985</th>\n",
              "      <th>1986</th>\n",
              "      <th>1987</th>\n",
              "      <th>1988</th>\n",
              "      <th>1989</th>\n",
              "      <th>1990</th>\n",
              "      <th>1991</th>\n",
              "      <th>1992</th>\n",
              "      <th>1993</th>\n",
              "      <th>1994</th>\n",
              "      <th>1995</th>\n",
              "      <th>1996</th>\n",
              "      <th>1997</th>\n",
              "      <th>1998</th>\n",
              "      <th>1999</th>\n",
              "      <th>2000</th>\n",
              "      <th>2001</th>\n",
              "      <th>2002</th>\n",
              "      <th>2003</th>\n",
              "      <th>2004</th>\n",
              "      <th>2005</th>\n",
              "      <th>2006</th>\n",
              "      <th>2007</th>\n",
              "      <th>2008</th>\n",
              "      <th>2009</th>\n",
              "      <th>2010</th>\n",
              "      <th>2011</th>\n",
              "      <th>2012</th>\n",
              "      <th>2013</th>\n",
              "      <th>2014</th>\n",
              "      <th>2015</th>\n",
              "      <th>2016</th>\n",
              "    </tr>\n",
              "    <tr>\n",
              "      <th>Country Name</th>\n",
              "      <th></th>\n",
              "      <th></th>\n",
              "      <th></th>\n",
              "      <th></th>\n",
              "      <th></th>\n",
              "      <th></th>\n",
              "      <th></th>\n",
              "      <th></th>\n",
              "      <th></th>\n",
              "      <th></th>\n",
              "      <th></th>\n",
              "      <th></th>\n",
              "      <th></th>\n",
              "      <th></th>\n",
              "      <th></th>\n",
              "      <th></th>\n",
              "      <th></th>\n",
              "      <th></th>\n",
              "      <th></th>\n",
              "      <th></th>\n",
              "      <th></th>\n",
              "      <th></th>\n",
              "      <th></th>\n",
              "      <th></th>\n",
              "      <th></th>\n",
              "      <th></th>\n",
              "      <th></th>\n",
              "      <th></th>\n",
              "      <th></th>\n",
              "      <th></th>\n",
              "      <th></th>\n",
              "      <th></th>\n",
              "      <th></th>\n",
              "      <th></th>\n",
              "      <th></th>\n",
              "      <th></th>\n",
              "      <th></th>\n",
              "      <th></th>\n",
              "      <th></th>\n",
              "      <th></th>\n",
              "      <th></th>\n",
              "      <th></th>\n",
              "      <th></th>\n",
              "      <th></th>\n",
              "      <th></th>\n",
              "      <th></th>\n",
              "      <th></th>\n",
              "      <th></th>\n",
              "      <th></th>\n",
              "      <th></th>\n",
              "      <th></th>\n",
              "      <th></th>\n",
              "      <th></th>\n",
              "      <th></th>\n",
              "      <th></th>\n",
              "      <th></th>\n",
              "      <th></th>\n",
              "      <th></th>\n",
              "      <th></th>\n",
              "      <th></th>\n",
              "    </tr>\n",
              "  </thead>\n",
              "  <tbody>\n",
              "    <tr>\n",
              "      <th>Aruba</th>\n",
              "      <td>ABW</td>\n",
              "      <td>Population density (people per sq. km of land ...</td>\n",
              "      <td>EN.POP.DNST</td>\n",
              "      <td>NaN</td>\n",
              "      <td>307.972222</td>\n",
              "      <td>312.366667</td>\n",
              "      <td>314.983333</td>\n",
              "      <td>316.827778</td>\n",
              "      <td>318.666667</td>\n",
              "      <td>320.622222</td>\n",
              "      <td>322.494444</td>\n",
              "      <td>324.361111</td>\n",
              "      <td>326.244444</td>\n",
              "      <td>328.138889</td>\n",
              "      <td>330.211111</td>\n",
              "      <td>332.494444</td>\n",
              "      <td>334.661111</td>\n",
              "      <td>336.250000</td>\n",
              "      <td>336.972222</td>\n",
              "      <td>336.605556</td>\n",
              "      <td>335.366667</td>\n",
              "      <td>333.922222</td>\n",
              "      <td>333.211111</td>\n",
              "      <td>333.866667</td>\n",
              "      <td>336.483333</td>\n",
              "      <td>340.800000</td>\n",
              "      <td>345.577778</td>\n",
              "      <td>349.061111</td>\n",
              "      <td>350.155556</td>\n",
              "      <td>348.022222</td>\n",
              "      <td>343.527778</td>\n",
              "      <td>339.316667</td>\n",
              "      <td>339.066667</td>\n",
              "      <td>345.266667</td>\n",
              "      <td>359.016667</td>\n",
              "      <td>379.083333</td>\n",
              "      <td>402.766667</td>\n",
              "      <td>426.111111</td>\n",
              "      <td>446.255556</td>\n",
              "      <td>462.194444</td>\n",
              "      <td>474.705556</td>\n",
              "      <td>484.866667</td>\n",
              "      <td>494.466667</td>\n",
              "      <td>504.766667</td>\n",
              "      <td>516.077778</td>\n",
              "      <td>527.750000</td>\n",
              "      <td>538.972222</td>\n",
              "      <td>548.566667</td>\n",
              "      <td>555.727778</td>\n",
              "      <td>560.166667</td>\n",
              "      <td>562.322222</td>\n",
              "      <td>563.011111</td>\n",
              "      <td>563.422222</td>\n",
              "      <td>564.427778</td>\n",
              "      <td>566.311111</td>\n",
              "      <td>568.850000</td>\n",
              "      <td>571.783333</td>\n",
              "      <td>574.672222</td>\n",
              "      <td>577.161111</td>\n",
              "      <td>NaN</td>\n",
              "    </tr>\n",
              "    <tr>\n",
              "      <th>Andorra</th>\n",
              "      <td>AND</td>\n",
              "      <td>Population density (people per sq. km of land ...</td>\n",
              "      <td>EN.POP.DNST</td>\n",
              "      <td>NaN</td>\n",
              "      <td>30.587234</td>\n",
              "      <td>32.714894</td>\n",
              "      <td>34.914894</td>\n",
              "      <td>37.170213</td>\n",
              "      <td>39.470213</td>\n",
              "      <td>41.800000</td>\n",
              "      <td>44.159574</td>\n",
              "      <td>46.570213</td>\n",
              "      <td>49.065957</td>\n",
              "      <td>51.657447</td>\n",
              "      <td>54.382979</td>\n",
              "      <td>57.217021</td>\n",
              "      <td>60.065957</td>\n",
              "      <td>62.795745</td>\n",
              "      <td>65.331915</td>\n",
              "      <td>67.619149</td>\n",
              "      <td>69.721277</td>\n",
              "      <td>71.800000</td>\n",
              "      <td>74.082979</td>\n",
              "      <td>76.729787</td>\n",
              "      <td>79.791489</td>\n",
              "      <td>83.217021</td>\n",
              "      <td>86.940426</td>\n",
              "      <td>90.859574</td>\n",
              "      <td>94.887234</td>\n",
              "      <td>98.968085</td>\n",
              "      <td>103.102128</td>\n",
              "      <td>107.300000</td>\n",
              "      <td>111.593617</td>\n",
              "      <td>115.980851</td>\n",
              "      <td>120.582979</td>\n",
              "      <td>125.327660</td>\n",
              "      <td>129.793617</td>\n",
              "      <td>133.419149</td>\n",
              "      <td>135.859574</td>\n",
              "      <td>136.789362</td>\n",
              "      <td>136.482979</td>\n",
              "      <td>135.931915</td>\n",
              "      <td>136.512766</td>\n",
              "      <td>139.146809</td>\n",
              "      <td>144.191489</td>\n",
              "      <td>151.161702</td>\n",
              "      <td>159.112766</td>\n",
              "      <td>166.674468</td>\n",
              "      <td>172.814894</td>\n",
              "      <td>177.389362</td>\n",
              "      <td>180.591489</td>\n",
              "      <td>182.161702</td>\n",
              "      <td>181.859574</td>\n",
              "      <td>179.614894</td>\n",
              "      <td>175.161702</td>\n",
              "      <td>168.757447</td>\n",
              "      <td>161.493617</td>\n",
              "      <td>154.863830</td>\n",
              "      <td>149.942553</td>\n",
              "      <td>NaN</td>\n",
              "    </tr>\n",
              "  </tbody>\n",
              "</table>\n",
              "</div>"
            ],
            "text/plain": [
              "             Country Code  ... 2016\n",
              "Country Name               ...     \n",
              "Aruba                 ABW  ...  NaN\n",
              "Andorra               AND  ...  NaN\n",
              "\n",
              "[2 rows x 60 columns]"
            ]
          },
          "metadata": {
            "tags": []
          },
          "execution_count": 4
        }
      ]
    },
    {
      "cell_type": "markdown",
      "metadata": {
        "id": "FhT2Fo1k0XQi"
      },
      "source": [
        "---"
      ]
    },
    {
      "cell_type": "markdown",
      "metadata": {
        "id": "_3KcjW4f0XQj"
      },
      "source": [
        "#### Mean"
      ]
    },
    {
      "cell_type": "code",
      "metadata": {
        "colab": {
          "base_uri": "https://localhost:8080/"
        },
        "id": "M6Wa-S6n0XQk",
        "outputId": "5b7d3e89-53f5-4f2e-e508-63b42136df8f"
      },
      "source": [
        "# calculate the mean of the third row\n",
        "dataset.iloc[[2]].mean(axis=1)"
      ],
      "execution_count": 5,
      "outputs": [
        {
          "output_type": "execute_result",
          "data": {
            "text/plain": [
              "Country Name\n",
              "Afghanistan    25.373379\n",
              "dtype: float64"
            ]
          },
          "metadata": {
            "tags": []
          },
          "execution_count": 5
        }
      ]
    },
    {
      "cell_type": "code",
      "metadata": {
        "colab": {
          "base_uri": "https://localhost:8080/"
        },
        "id": "uNL1whSG0XQk",
        "outputId": "4ca89218-3e1d-4053-f890-fabc19dc0051"
      },
      "source": [
        "# calculate the mean of the last row\n",
        "dataset.iloc[[-1]].mean(axis=1)"
      ],
      "execution_count": 6,
      "outputs": [
        {
          "output_type": "execute_result",
          "data": {
            "text/plain": [
              "Country Name\n",
              "Zimbabwe    24.520532\n",
              "dtype: float64"
            ]
          },
          "metadata": {
            "tags": []
          },
          "execution_count": 6
        }
      ]
    },
    {
      "cell_type": "code",
      "metadata": {
        "colab": {
          "base_uri": "https://localhost:8080/"
        },
        "id": "-zmvXG_P0XQl",
        "outputId": "e1a38a3c-d6eb-458c-eef9-0975df189b3a"
      },
      "source": [
        "# calculate the mean of the country Germany\n",
        "dataset.loc[[\"Germany\"]].mean(axis=1)"
      ],
      "execution_count": 7,
      "outputs": [
        {
          "output_type": "execute_result",
          "data": {
            "text/plain": [
              "Country Name\n",
              "Germany    227.773688\n",
              "dtype: float64"
            ]
          },
          "metadata": {
            "tags": []
          },
          "execution_count": 7
        }
      ]
    },
    {
      "cell_type": "markdown",
      "metadata": {
        "id": "6UF5SEaW0XQm"
      },
      "source": [
        "**Note:**   \n",
        "`.iloc()` and `.loc()` are two important methods when indexing with Pandas. They allow to make precise selections of data based on either the integer value index (`iloc`) or the index column (`loc`), which in our case is the country name column."
      ]
    },
    {
      "cell_type": "markdown",
      "metadata": {
        "id": "CPW3GAav0XQn"
      },
      "source": [
        "#### Median"
      ]
    },
    {
      "cell_type": "code",
      "metadata": {
        "colab": {
          "base_uri": "https://localhost:8080/"
        },
        "id": "xFPBUUy60XQo",
        "outputId": "323cddd1-42a4-4672-a2f6-f6ede85bf72c"
      },
      "source": [
        "# calculate the median of the last row\n",
        "dataset.iloc[[-1]].median(axis=1)"
      ],
      "execution_count": 8,
      "outputs": [
        {
          "output_type": "execute_result",
          "data": {
            "text/plain": [
              "Country Name\n",
              "Zimbabwe    25.505431\n",
              "dtype: float64"
            ]
          },
          "metadata": {
            "tags": []
          },
          "execution_count": 8
        }
      ]
    },
    {
      "cell_type": "code",
      "metadata": {
        "colab": {
          "base_uri": "https://localhost:8080/"
        },
        "id": "JzZc3OkS0XQo",
        "outputId": "14213ca4-b5c1-445a-d2b6-d12b36f50d05"
      },
      "source": [
        "# calculate the median of the last 3 rows\n",
        "dataset[-3:].median(axis=1)"
      ],
      "execution_count": 9,
      "outputs": [
        {
          "output_type": "execute_result",
          "data": {
            "text/plain": [
              "Country Name\n",
              "Congo, Dem. Rep.    14.419050\n",
              "Zambia              10.352668\n",
              "Zimbabwe            25.505431\n",
              "dtype: float64"
            ]
          },
          "metadata": {
            "tags": []
          },
          "execution_count": 9
        }
      ]
    },
    {
      "cell_type": "markdown",
      "metadata": {
        "id": "JXRMDKOg0XQp"
      },
      "source": [
        "**Note:**   \n",
        "Slicing can be done in the same way as with NumPy.   \n",
        "`dataset[1:3]` will return the second and third row of our dataset."
      ]
    },
    {
      "cell_type": "code",
      "metadata": {
        "colab": {
          "base_uri": "https://localhost:8080/"
        },
        "id": "VLUJ_eaE0XQp",
        "outputId": "64cd98ac-c04e-4756-aced-c43ea0218767"
      },
      "source": [
        "# calculate the median of the first 10 countries\n",
        "dataset.head(10).median(axis=1)"
      ],
      "execution_count": 10,
      "outputs": [
        {
          "output_type": "execute_result",
          "data": {
            "text/plain": [
              "Country Name\n",
              "Aruba                   348.022222\n",
              "Andorra                 107.300000\n",
              "Afghanistan              19.998926\n",
              "Angola                    8.458253\n",
              "Albania                 106.001058\n",
              "Arab World               15.307283\n",
              "United Arab Emirates     19.305072\n",
              "Argentina                11.618238\n",
              "Armenia                 105.898033\n",
              "American Samoa          220.245000\n",
              "dtype: float64"
            ]
          },
          "metadata": {
            "tags": []
          },
          "execution_count": 10
        }
      ]
    },
    {
      "cell_type": "markdown",
      "metadata": {
        "id": "RhTpbxvp0XQq"
      },
      "source": [
        "**Note:**   \n",
        "When handling larger datasets, the order in which methods get executed definitely matters.   \n",
        "Think about what `.head(10)` does for a moment, it simply takes your dataset and returns the first 10 rows of it, cutting down your input to the `.mean()` method drastically.   \n",
        "This will definitely have an impact when using more memory intensive calculations, so keep an eye on the order."
      ]
    },
    {
      "cell_type": "markdown",
      "metadata": {
        "id": "wVo2FwMa0XQr"
      },
      "source": [
        "---"
      ]
    },
    {
      "cell_type": "markdown",
      "metadata": {
        "id": "UwsUEXGe0XQr"
      },
      "source": [
        "#### Variance"
      ]
    },
    {
      "cell_type": "code",
      "metadata": {
        "colab": {
          "base_uri": "https://localhost:8080/"
        },
        "id": "OKVqtt390XQu",
        "outputId": "6d63f0fe-23e6-4f42-925e-ebf80c0e61d5"
      },
      "source": [
        "# calculate the variance of the last 5 columns\n",
        "dataset.var().tail()"
      ],
      "execution_count": 11,
      "outputs": [
        {
          "output_type": "execute_result",
          "data": {
            "text/plain": [
              "2012    3.063475e+06\n",
              "2013    3.094597e+06\n",
              "2014    3.157111e+06\n",
              "2015    3.220634e+06\n",
              "2016             NaN\n",
              "dtype: float64"
            ]
          },
          "metadata": {
            "tags": []
          },
          "execution_count": 11
        }
      ]
    },
    {
      "cell_type": "markdown",
      "metadata": {
        "id": "FjhtToPg0XQv"
      },
      "source": [
        "---"
      ]
    },
    {
      "cell_type": "markdown",
      "metadata": {
        "id": "HIfZB5_V0XQw"
      },
      "source": [
        "As mentioned in the introduction of Pandas, it's interoperable with several of NumPy's features.   \n",
        "Here's an example of how to use NumPy's `mean` method with a Pandas dataFrame."
      ]
    },
    {
      "cell_type": "code",
      "metadata": {
        "colab": {
          "base_uri": "https://localhost:8080/"
        },
        "id": "5nQSvH710XQw",
        "outputId": "d77cb83b-2d2a-45ab-f2da-b62e8ab556e7"
      },
      "source": [
        "# NumPy Pandas interoperability\n",
        "import numpy as np\n",
        "\n",
        "print(\"Pandas\", dataset[\"2015\"].mean())\n",
        "print(\"NumPy\", np.mean(dataset[\"2015\"]))"
      ],
      "execution_count": 12,
      "outputs": [
        {
          "output_type": "stream",
          "text": [
            "Pandas 368.7066010400187\n",
            "NumPy 368.7066010400187\n"
          ],
          "name": "stdout"
        }
      ]
    }
  ]
}