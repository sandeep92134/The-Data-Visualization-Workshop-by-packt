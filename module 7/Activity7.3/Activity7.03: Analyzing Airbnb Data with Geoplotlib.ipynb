{
  "nbformat": 4,
  "nbformat_minor": 0,
  "metadata": {
    "kernelspec": {
      "display_name": "Python 3",
      "language": "python",
      "name": "python3"
    },
    "language_info": {
      "codemirror_mode": {
        "name": "ipython",
        "version": 3
      },
      "file_extension": ".py",
      "mimetype": "text/x-python",
      "name": "python",
      "nbconvert_exporter": "python",
      "pygments_lexer": "ipython3",
      "version": "3.7.2"
    },
    "colab": {
      "name": "Activity7.03.ipynb",
      "provenance": [],
      "include_colab_link": true
    }
  },
  "cells": [
    {
      "cell_type": "markdown",
      "metadata": {
        "id": "view-in-github",
        "colab_type": "text"
      },
      "source": [
        "<a href=\"https://colab.research.google.com/github/sandeep92134/The-Data-Visualization-Workshop-by-packt/blob/master/module%207/Activity7.3/Activity7.03%3A%20Analyzing%20Airbnb%20Data%20with%20Geoplotlib.ipynb\" target=\"_parent\"><img src=\"https://colab.research.google.com/assets/colab-badge.svg\" alt=\"Open In Colab\"/></a>"
      ]
    },
    {
      "cell_type": "markdown",
      "metadata": {
        "id": "UVxS6vLTfJXP"
      },
      "source": [
        "## Activity 7.03: Analyzing Airbnb Data with geoplotlib"
      ]
    },
    {
      "cell_type": "markdown",
      "metadata": {
        "id": "7xmf3Za-fJXa"
      },
      "source": [
        "In this last activity for geoplotlib, we will use airbnb listing data to determine the most expensive and best rated regions of accomodations in the New York area.   \n",
        "We will write a custom layer with which we can switch between the price and the review score of each accomodation.   \n",
        "\n",
        "In the end, we will be able to see the hostpots for the most expensive and best rated accomodations across New York.   \n",
        "In theory, we should see a price increase the closer we get to the center of Manhatten. It will be very interesting to see if the ratings for the given accomodations also increase the closer we get to the center of Manhatten."
      ]
    },
    {
      "cell_type": "markdown",
      "metadata": {
        "id": "HafBRjyLfJXc"
      },
      "source": [
        "#### Loading the dataset"
      ]
    },
    {
      "cell_type": "code",
      "metadata": {
        "id": "VLHznMOUfJXd"
      },
      "source": [
        "# importing the necessary dependencies\n",
        "import numpy as np\n",
        "import pandas as pd\n",
        "import geoplotlib"
      ],
      "execution_count": null,
      "outputs": []
    },
    {
      "cell_type": "markdown",
      "metadata": {
        "id": "jpvqzxqOfJXe"
      },
      "source": [
        "**Note:**    \n",
        "If your system is a little bit slower, just use `../../Datasets/airbnb_new_york_smaller.csv` which has fewer datapoints. The activity stays the same, we just cut down on the number of datapoints."
      ]
    },
    {
      "cell_type": "code",
      "metadata": {
        "id": "0guBSa9tfJXf",
        "outputId": "2d73aab6-5a01-4bf9-9f27-6f5b5f3f80ff"
      },
      "source": [
        "# loading the Dataset\n",
        "dataset = pd.read_csv('https://raw.githubusercontent.com/PacktWorkshops/The-Data-Visualization-Workshop/master/Datasets/airbnb_new_york_smaller.csv')\n"
      ],
      "execution_count": null,
      "outputs": [
        {
          "output_type": "stream",
          "text": [
            "/Library/Frameworks/Python.framework/Versions/3.7/lib/python3.7/site-packages/IPython/core/interactiveshell.py:3058: DtypeWarning: Columns (87,88) have mixed types. Specify dtype option on import or set low_memory=False.\n",
            "  interactivity=interactivity, compiler=compiler, result=result)\n"
          ],
          "name": "stderr"
        }
      ]
    },
    {
      "cell_type": "markdown",
      "metadata": {
        "id": "bnXX0TB9fJXh"
      },
      "source": [
        "**Note:**   \n",
        "If we import our dataset without defining the `dtypes` specifically - like we did in the chapter about geoplotlib - we will get a warning telling out the it has a mixed datatype.   \n",
        "We can get rid of this warning by explicitly defining the type of the values in this column by using the `dtype` parameter.   \n",
        "We will ignore this since we are only using a small subset of the data in this dataset.   \n",
        "Normally you want to define the `dtypes` of each column of the used dataset to avoid errors later on."
      ]
    },
    {
      "cell_type": "code",
      "metadata": {
        "id": "x3hkgdM_fJXh",
        "outputId": "fbe298e4-9635-4f00-d9f6-217503a54eb3"
      },
      "source": [
        "# print the first 5 rows of the dataset\n",
        "dataset.head()"
      ],
      "execution_count": null,
      "outputs": [
        {
          "output_type": "execute_result",
          "data": {
            "text/html": [
              "<div>\n",
              "<style scoped>\n",
              "    .dataframe tbody tr th:only-of-type {\n",
              "        vertical-align: middle;\n",
              "    }\n",
              "\n",
              "    .dataframe tbody tr th {\n",
              "        vertical-align: top;\n",
              "    }\n",
              "\n",
              "    .dataframe thead th {\n",
              "        text-align: right;\n",
              "    }\n",
              "</style>\n",
              "<table border=\"1\" class=\"dataframe\">\n",
              "  <thead>\n",
              "    <tr style=\"text-align: right;\">\n",
              "      <th></th>\n",
              "      <th>id</th>\n",
              "      <th>listing_url</th>\n",
              "      <th>scrape_id</th>\n",
              "      <th>last_scraped</th>\n",
              "      <th>name</th>\n",
              "      <th>summary</th>\n",
              "      <th>space</th>\n",
              "      <th>description</th>\n",
              "      <th>experiences_offered</th>\n",
              "      <th>neighborhood_overview</th>\n",
              "      <th>...</th>\n",
              "      <th>requires_license</th>\n",
              "      <th>license</th>\n",
              "      <th>jurisdiction_names</th>\n",
              "      <th>instant_bookable</th>\n",
              "      <th>is_business_travel_ready</th>\n",
              "      <th>cancellation_policy</th>\n",
              "      <th>require_guest_profile_picture</th>\n",
              "      <th>require_guest_phone_verification</th>\n",
              "      <th>calculated_host_listings_count</th>\n",
              "      <th>reviews_per_month</th>\n",
              "    </tr>\n",
              "  </thead>\n",
              "  <tbody>\n",
              "    <tr>\n",
              "      <th>0</th>\n",
              "      <td>21456</td>\n",
              "      <td>https://www.airbnb.com/rooms/21456</td>\n",
              "      <td>20181206022948</td>\n",
              "      <td>2018-12-06</td>\n",
              "      <td>Light-filled classic Central Park</td>\n",
              "      <td>An adorable, classic, clean, light-filled one-...</td>\n",
              "      <td>An adorable, classic, clean, light-filled one-...</td>\n",
              "      <td>An adorable, classic, clean, light-filled one-...</td>\n",
              "      <td>none</td>\n",
              "      <td>Diverse. Great coffee shops and restaurants, n...</td>\n",
              "      <td>...</td>\n",
              "      <td>f</td>\n",
              "      <td>NaN</td>\n",
              "      <td>NaN</td>\n",
              "      <td>f</td>\n",
              "      <td>f</td>\n",
              "      <td>moderate</td>\n",
              "      <td>t</td>\n",
              "      <td>t</td>\n",
              "      <td>1</td>\n",
              "      <td>0.72</td>\n",
              "    </tr>\n",
              "    <tr>\n",
              "      <th>1</th>\n",
              "      <td>2539</td>\n",
              "      <td>https://www.airbnb.com/rooms/2539</td>\n",
              "      <td>20181206022948</td>\n",
              "      <td>2018-12-06</td>\n",
              "      <td>Clean &amp; quiet apt home by the park</td>\n",
              "      <td>Renovated apt home in elevator building.</td>\n",
              "      <td>Spacious, renovated, and clean apt home, one b...</td>\n",
              "      <td>Renovated apt home in elevator building. Spaci...</td>\n",
              "      <td>none</td>\n",
              "      <td>Close to Prospect Park and Historic Ditmas Park</td>\n",
              "      <td>...</td>\n",
              "      <td>f</td>\n",
              "      <td>NaN</td>\n",
              "      <td>NaN</td>\n",
              "      <td>f</td>\n",
              "      <td>f</td>\n",
              "      <td>moderate</td>\n",
              "      <td>f</td>\n",
              "      <td>f</td>\n",
              "      <td>8</td>\n",
              "      <td>0.25</td>\n",
              "    </tr>\n",
              "    <tr>\n",
              "      <th>2</th>\n",
              "      <td>21644</td>\n",
              "      <td>https://www.airbnb.com/rooms/21644</td>\n",
              "      <td>20181206022948</td>\n",
              "      <td>2018-12-06</td>\n",
              "      <td>Upper Manhattan, New York</td>\n",
              "      <td>A great space in a beautiful neighborhood- min...</td>\n",
              "      <td>Nice room in a spacious pre-war apartment in u...</td>\n",
              "      <td>A great space in a beautiful neighborhood- min...</td>\n",
              "      <td>none</td>\n",
              "      <td>I love that the neighborhood is safe to walk a...</td>\n",
              "      <td>...</td>\n",
              "      <td>f</td>\n",
              "      <td>NaN</td>\n",
              "      <td>NaN</td>\n",
              "      <td>f</td>\n",
              "      <td>f</td>\n",
              "      <td>strict_14_with_grace_period</td>\n",
              "      <td>f</td>\n",
              "      <td>f</td>\n",
              "      <td>1</td>\n",
              "      <td>0.51</td>\n",
              "    </tr>\n",
              "    <tr>\n",
              "      <th>3</th>\n",
              "      <td>3330</td>\n",
              "      <td>https://www.airbnb.com/rooms/3330</td>\n",
              "      <td>20181206022948</td>\n",
              "      <td>2018-12-06</td>\n",
              "      <td>++ Brooklyn Penthouse Guestroom ++</td>\n",
              "      <td>This is a spacious, clean, furnished master be...</td>\n",
              "      <td>Room Features: - clean, hardwood floors - 2 la...</td>\n",
              "      <td>This is a spacious, clean, furnished master be...</td>\n",
              "      <td>none</td>\n",
              "      <td>Location is GREAT!! Right off the L train in t...</td>\n",
              "      <td>...</td>\n",
              "      <td>f</td>\n",
              "      <td>NaN</td>\n",
              "      <td>NaN</td>\n",
              "      <td>f</td>\n",
              "      <td>f</td>\n",
              "      <td>strict_14_with_grace_period</td>\n",
              "      <td>f</td>\n",
              "      <td>f</td>\n",
              "      <td>3</td>\n",
              "      <td>0.35</td>\n",
              "    </tr>\n",
              "    <tr>\n",
              "      <th>4</th>\n",
              "      <td>21794</td>\n",
              "      <td>https://www.airbnb.com/rooms/21794</td>\n",
              "      <td>20181206022948</td>\n",
              "      <td>2018-12-06</td>\n",
              "      <td>COZY QUIET room 4 DOOGLERS!</td>\n",
              "      <td>It's comfy &amp; has a loft bed &amp; a chaise lounge,...</td>\n",
              "      <td>This is the smaller room of the two I have ava...</td>\n",
              "      <td>It's comfy &amp; has a loft bed &amp; a chaise lounge,...</td>\n",
              "      <td>none</td>\n",
              "      <td>GREAT Central Location. On 15th street between...</td>\n",
              "      <td>...</td>\n",
              "      <td>f</td>\n",
              "      <td>NaN</td>\n",
              "      <td>NaN</td>\n",
              "      <td>f</td>\n",
              "      <td>f</td>\n",
              "      <td>strict_14_with_grace_period</td>\n",
              "      <td>f</td>\n",
              "      <td>f</td>\n",
              "      <td>2</td>\n",
              "      <td>0.25</td>\n",
              "    </tr>\n",
              "  </tbody>\n",
              "</table>\n",
              "<p>5 rows × 96 columns</p>\n",
              "</div>"
            ],
            "text/plain": [
              "      id                         listing_url       scrape_id last_scraped  \\\n",
              "0  21456  https://www.airbnb.com/rooms/21456  20181206022948   2018-12-06   \n",
              "1   2539   https://www.airbnb.com/rooms/2539  20181206022948   2018-12-06   \n",
              "2  21644  https://www.airbnb.com/rooms/21644  20181206022948   2018-12-06   \n",
              "3   3330   https://www.airbnb.com/rooms/3330  20181206022948   2018-12-06   \n",
              "4  21794  https://www.airbnb.com/rooms/21794  20181206022948   2018-12-06   \n",
              "\n",
              "                                 name  \\\n",
              "0  Light-filled classic Central Park    \n",
              "1  Clean & quiet apt home by the park   \n",
              "2           Upper Manhattan, New York   \n",
              "3  ++ Brooklyn Penthouse Guestroom ++   \n",
              "4         COZY QUIET room 4 DOOGLERS!   \n",
              "\n",
              "                                             summary  \\\n",
              "0  An adorable, classic, clean, light-filled one-...   \n",
              "1           Renovated apt home in elevator building.   \n",
              "2  A great space in a beautiful neighborhood- min...   \n",
              "3  This is a spacious, clean, furnished master be...   \n",
              "4  It's comfy & has a loft bed & a chaise lounge,...   \n",
              "\n",
              "                                               space  \\\n",
              "0  An adorable, classic, clean, light-filled one-...   \n",
              "1  Spacious, renovated, and clean apt home, one b...   \n",
              "2  Nice room in a spacious pre-war apartment in u...   \n",
              "3  Room Features: - clean, hardwood floors - 2 la...   \n",
              "4  This is the smaller room of the two I have ava...   \n",
              "\n",
              "                                         description experiences_offered  \\\n",
              "0  An adorable, classic, clean, light-filled one-...                none   \n",
              "1  Renovated apt home in elevator building. Spaci...                none   \n",
              "2  A great space in a beautiful neighborhood- min...                none   \n",
              "3  This is a spacious, clean, furnished master be...                none   \n",
              "4  It's comfy & has a loft bed & a chaise lounge,...                none   \n",
              "\n",
              "                               neighborhood_overview  ... requires_license  \\\n",
              "0  Diverse. Great coffee shops and restaurants, n...  ...                f   \n",
              "1    Close to Prospect Park and Historic Ditmas Park  ...                f   \n",
              "2  I love that the neighborhood is safe to walk a...  ...                f   \n",
              "3  Location is GREAT!! Right off the L train in t...  ...                f   \n",
              "4  GREAT Central Location. On 15th street between...  ...                f   \n",
              "\n",
              "  license jurisdiction_names instant_bookable is_business_travel_ready  \\\n",
              "0     NaN                NaN                f                        f   \n",
              "1     NaN                NaN                f                        f   \n",
              "2     NaN                NaN                f                        f   \n",
              "3     NaN                NaN                f                        f   \n",
              "4     NaN                NaN                f                        f   \n",
              "\n",
              "           cancellation_policy  require_guest_profile_picture  \\\n",
              "0                     moderate                              t   \n",
              "1                     moderate                              f   \n",
              "2  strict_14_with_grace_period                              f   \n",
              "3  strict_14_with_grace_period                              f   \n",
              "4  strict_14_with_grace_period                              f   \n",
              "\n",
              "  require_guest_phone_verification  calculated_host_listings_count  \\\n",
              "0                                t                               1   \n",
              "1                                f                               8   \n",
              "2                                f                               1   \n",
              "3                                f                               3   \n",
              "4                                f                               2   \n",
              "\n",
              "   reviews_per_month  \n",
              "0               0.72  \n",
              "1               0.25  \n",
              "2               0.51  \n",
              "3               0.35  \n",
              "4               0.25  \n",
              "\n",
              "[5 rows x 96 columns]"
            ]
          },
          "metadata": {
            "tags": []
          },
          "execution_count": 3
        }
      ]
    },
    {
      "cell_type": "markdown",
      "metadata": {
        "id": "Ln4xRQorfJXi"
      },
      "source": [
        "---"
      ]
    },
    {
      "cell_type": "markdown",
      "metadata": {
        "id": "eXIwkk4mfJXj"
      },
      "source": [
        "### Data handling "
      ]
    },
    {
      "cell_type": "markdown",
      "metadata": {
        "id": "AaFDXbmhfJXj"
      },
      "source": [
        "Before we start plotting our data, we want to *wrangle* our data to fit our needs.   \n",
        "As with all the previous geoplitlib exercises and activites, we have to map the `latitude` and `longitude` columns to `lat` and `lon`.\n",
        "\n",
        "Considering the fact, that there might be some missing data points in the `review_scores_rating` and `price` columns, we want to fill them in with data of the same datatype.   \n",
        "> This is where you would want to apply some data augmentation in real projects.\n",
        "\n",
        "The last step of our pre-processing is to create a sub-section view of our dataset that is much easier to handle and will be used for plotting."
      ]
    },
    {
      "cell_type": "markdown",
      "metadata": {
        "id": "qOdZaMjafJXk"
      },
      "source": [
        "#### Mapping `Latitude` and `Longitude` to `lat` and `lon`"
      ]
    },
    {
      "cell_type": "markdown",
      "metadata": {
        "id": "8dj5mEkVfJXl"
      },
      "source": [
        "Again, our dataset has a `latitiude` and a `longitude` column.   \n",
        "As we've already discussed in the lesson about geoplotlib, we need them as `lat` and `lon`."
      ]
    },
    {
      "cell_type": "code",
      "metadata": {
        "id": "1Q5huJQSfJXl"
      },
      "source": [
        "# mapping Latitude to lat and Longitude to lon\n",
        "dataset['lat'] = dataset['latitude']\n",
        "dataset['lon'] = dataset['longitude']"
      ],
      "execution_count": null,
      "outputs": []
    },
    {
      "cell_type": "markdown",
      "metadata": {
        "id": "T51V5x_9fJXm"
      },
      "source": [
        "**Note:**   \n",
        "Geoplotlibs methods expect dataset columns `lat` and `lon` for plotting. This means your dataframe has to be tranfsormed to resemble this structure.   "
      ]
    },
    {
      "cell_type": "markdown",
      "metadata": {
        "id": "3lQSfyMnfJXm"
      },
      "source": [
        "#### Mapping `price` to `dollar_price` as int type"
      ]
    },
    {
      "cell_type": "markdown",
      "metadata": {
        "id": "pOWxAPDhfJXn"
      },
      "source": [
        "When creating a color map that changes color based on the price of an accommodation, we need a value that can easily be compared and checked whether it's smaller or bigger than any other listing.   \n",
        "Therefore we will create a new column called `dollar_price` that will hold the value of the `price` column as a float."
      ]
    },
    {
      "cell_type": "code",
      "metadata": {
        "id": "1SD06aVufJXn"
      },
      "source": [
        "# convert string of type $<numbers> to <nubmers> of type float\n",
        "def convert_to_float(x):\n",
        "    try:\n",
        "        value=str.replace(x[1:], ',', '')\n",
        "        return float(value)\n",
        "    except:\n",
        "        return 0.0"
      ],
      "execution_count": null,
      "outputs": []
    },
    {
      "cell_type": "code",
      "metadata": {
        "id": "m56fAOHkfJXo"
      },
      "source": [
        "# create new dollar_price column with the price as a number\n",
        "# and replace the NaN values by 0 in the ratings column\n",
        "dataset['price'] = dataset['price'].fillna('$0.0')\n",
        "dataset['review_scores_rating'] = dataset['review_scores_rating'].fillna(0.0)\n",
        "\n",
        "dataset['dollar_price'] = dataset['price'].apply(lambda x: convert_to_float(x))"
      ],
      "execution_count": null,
      "outputs": []
    },
    {
      "cell_type": "markdown",
      "metadata": {
        "id": "uIH71ZK5fJXo"
      },
      "source": [
        "#### Reducing the amount of columns"
      ]
    },
    {
      "cell_type": "markdown",
      "metadata": {
        "id": "canODAUYfJXo"
      },
      "source": [
        "This dataset has 96 columns. When working with such a huge dataset it makes sense to think about what data we really need and create a subsection of our dataset that only holds the data we need.   \n",
        "Before we can do that , we'll take a look at all the columns available and an example for that column. This will help us decide what information is suitable."
      ]
    },
    {
      "cell_type": "code",
      "metadata": {
        "id": "n1kQeuJQfJXp",
        "outputId": "7f9cd56f-a88d-433e-be4d-7679a23d6c58"
      },
      "source": [
        "# print the col name and the first entry per column\n",
        "for col in dataset.columns:\n",
        "    print('{}\\t{}'.format(col, dataset[col][0]))"
      ],
      "execution_count": null,
      "outputs": [
        {
          "output_type": "stream",
          "text": [
            "id\t21456\n",
            "listing_url\thttps://www.airbnb.com/rooms/21456\n",
            "scrape_id\t20181206022948\n",
            "last_scraped\t2018-12-06\n",
            "name\tLight-filled classic Central Park \n",
            "summary\tAn adorable, classic, clean, light-filled one-bedroom apartment with windows in each room that overlook the courtyards of historic row-houses.  A great retreat after a day exploring the city...and one block from lovely Central Park!  \n",
            "space\tAn adorable, classic, clean, light-filled one-bedroom apartment with windows in each room that overlook the courtyards of historic row-houses.  A great retreat after a day exploring the city...and one block from lovely Central Park! There is a livingroom/diningroom with a comfy click-clack futon couch that folds into a queen-size bed, and a separate, light-filled bedroom with a full-size bed.   The apartment has a complete, yet small kitchen and a clean bathroom with a bathtub.  Hot water is plentiful, the toilet well-functioning! It is a 3rd floor walk-up. (no elevator/lift) Free wireless internet.   The neighborhood is diverse, quiet, near transportation. Within walking distance of the Cathedral of St. John the Divine and Columbia University.    Great for people who like to run or amble around Central Park or Riverside Park, both within walking distance! Subway: B,C to 103 Street; or 1 to 103/Broadway Bus: M7, M116, M10 all stop within one block )  10 minutes to Lincoln Center 15 min\n",
            "description\tAn adorable, classic, clean, light-filled one-bedroom apartment with windows in each room that overlook the courtyards of historic row-houses.  A great retreat after a day exploring the city...and one block from lovely Central Park!   An adorable, classic, clean, light-filled one-bedroom apartment with windows in each room that overlook the courtyards of historic row-houses.  A great retreat after a day exploring the city...and one block from lovely Central Park! There is a livingroom/diningroom with a comfy click-clack futon couch that folds into a queen-size bed, and a separate, light-filled bedroom with a full-size bed.   The apartment has a complete, yet small kitchen and a clean bathroom with a bathtub.  Hot water is plentiful, the toilet well-functioning! It is a 3rd floor walk-up. (no elevator/lift) Free wireless internet.   The neighborhood is diverse, quiet, near transportation. Within walking distance of the Cathedral of St. John the Divine and Columbia University.    Great f\n",
            "experiences_offered\tnone\n",
            "neighborhood_overview\tDiverse. Great coffee shops and restaurants, next to Central Park. Good yoga studio...  Near public transportation.  \n",
            "notes\tnan\n",
            "transit\tYes!  B, C, and 1 trains are within 5 minute walk.. buses to LaGuardia Airport, Lincoln Center, the East Side are all within a few blocks.\n",
            "access\tGuests have access to the whole apartment:  wifi, kitchen, bathroom with shower, etc.\n",
            "interaction\tI interact with guests upon arrival & departure, and that's all, unless we decide to meet up again during their stay.\n",
            "house_rules\tSorry, no pets and no smoking, please.   No parties.\n",
            "thumbnail_url\tnan\n",
            "medium_url\tnan\n",
            "picture_url\thttps://a0.muscache.com/im/pictures/111808/a9460803_original.jpg?aki_policy=large\n",
            "xl_picture_url\tnan\n",
            "host_id\t42032\n",
            "host_url\thttps://www.airbnb.com/users/show/42032\n",
            "host_name\tDana\n",
            "host_since\t2009-09-29\n",
            "host_location\tNew York, New York, United States\n",
            "host_about\tI'm an arts consultant, personal trainer and actor/dancer.. live near Columbia University, fellow airbnb host.\n",
            "host_response_time\twithin a day\n",
            "host_response_rate\t80%\n",
            "host_acceptance_rate\tnan\n",
            "host_is_superhost\tf\n",
            "host_thumbnail_url\thttps://a0.muscache.com/im/users/42032/profile_pic/1259122565/original.jpg?aki_policy=profile_small\n",
            "host_picture_url\thttps://a0.muscache.com/im/users/42032/profile_pic/1259122565/original.jpg?aki_policy=profile_x_medium\n",
            "host_neighbourhood\tUpper West Side\n",
            "host_listings_count\t1.0\n",
            "host_total_listings_count\t1.0\n",
            "host_verifications\t['email', 'phone', 'reviews', 'kba']\n",
            "host_has_profile_pic\tt\n",
            "host_identity_verified\tt\n",
            "street\tNew York, NY, United States\n",
            "neighbourhood\tUpper West Side\n",
            "neighbourhood_cleansed\tUpper West Side\n",
            "neighbourhood_group_cleansed\tManhattan\n",
            "city\tNew York\n",
            "state\tNY\n",
            "zipcode\t10025\n",
            "market\tNew York\n",
            "smart_location\tNew York, NY\n",
            "country_code\tUS\n",
            "country\tUnited States\n",
            "latitude\t40.79764221122139\n",
            "longitude\t-73.96177484377306\n",
            "is_location_exact\tt\n",
            "property_type\tApartment\n",
            "room_type\tEntire home/apt\n",
            "accommodates\t2\n",
            "bathrooms\t1.0\n",
            "bedrooms\t1.0\n",
            "beds\t1.0\n",
            "bed_type\tReal Bed\n",
            "amenities\t{TV,Internet,Wifi,\"Air conditioning\",Kitchen,\"Buzzer/wireless intercom\",Heating,\"Smoke detector\",\"Carbon monoxide detector\",Essentials,\"translation missing: en.hosting_amenity_49\",\"translation missing: en.hosting_amenity_50\"}\n",
            "square_feet\tnan\n",
            "price\t$140.00\n",
            "weekly_price\t$900.00\n",
            "monthly_price\tnan\n",
            "security_deposit\tnan\n",
            "cleaning_fee\t$40.00\n",
            "guests_included\t2\n",
            "extra_people\t$28.00\n",
            "minimum_nights\t5\n",
            "maximum_nights\t365\n",
            "calendar_updated\tyesterday\n",
            "has_availability\tt\n",
            "availability_30\t8\n",
            "availability_60\t8\n",
            "availability_90\t13\n",
            "availability_365\t248\n",
            "calendar_last_scraped\t2018-12-06\n",
            "number_of_reviews\t76\n",
            "first_review\t2010-03-16\n",
            "last_review\t2018-10-16\n",
            "review_scores_rating\t94.0\n",
            "review_scores_accuracy\t10.0\n",
            "review_scores_cleanliness\t9.0\n",
            "review_scores_checkin\t10.0\n",
            "review_scores_communication\t10.0\n",
            "review_scores_location\t10.0\n",
            "review_scores_value\t10.0\n",
            "requires_license\tf\n",
            "license\tnan\n",
            "jurisdiction_names\tnan\n",
            "instant_bookable\tf\n",
            "is_business_travel_ready\tf\n",
            "cancellation_policy\tmoderate\n",
            "require_guest_profile_picture\tt\n",
            "require_guest_phone_verification\tt\n",
            "calculated_host_listings_count\t1\n",
            "reviews_per_month\t0.72\n",
            "lat\t40.79764221122139\n",
            "lon\t-73.96177484377306\n",
            "dollar_price\t140.0\n"
          ],
          "name": "stdout"
        }
      ]
    },
    {
      "cell_type": "markdown",
      "metadata": {
        "id": "dEdOkKVdfJXq"
      },
      "source": [
        "For now, we want to **only use the fields that help us build the described visualization**.   \n",
        "\n",
        "Those fields are:\n",
        "- **id**\n",
        "- **latitude (as lat)**\n",
        "- **longitude (as lon)**\n",
        "- **price (in $)**\n",
        "- **review_scores_rating**"
      ]
    },
    {
      "cell_type": "code",
      "metadata": {
        "id": "E4EnfE8ufJXq"
      },
      "source": [
        "# create a subsection of the dataset with the above mentioned columns\n",
        "columns=['id', 'lat', 'lon', 'dollar_price', 'review_scores_rating']\n",
        "sub_data=dataset[columns]"
      ],
      "execution_count": null,
      "outputs": []
    },
    {
      "cell_type": "code",
      "metadata": {
        "id": "2j0oz-R5fJXr",
        "outputId": "8b2667a6-6fd6-4338-8a6d-f6e691d1a527"
      },
      "source": [
        "# print the first 5 rows of the dataset\n",
        "sub_data.head()"
      ],
      "execution_count": null,
      "outputs": [
        {
          "output_type": "execute_result",
          "data": {
            "text/html": [
              "<div>\n",
              "<style scoped>\n",
              "    .dataframe tbody tr th:only-of-type {\n",
              "        vertical-align: middle;\n",
              "    }\n",
              "\n",
              "    .dataframe tbody tr th {\n",
              "        vertical-align: top;\n",
              "    }\n",
              "\n",
              "    .dataframe thead th {\n",
              "        text-align: right;\n",
              "    }\n",
              "</style>\n",
              "<table border=\"1\" class=\"dataframe\">\n",
              "  <thead>\n",
              "    <tr style=\"text-align: right;\">\n",
              "      <th></th>\n",
              "      <th>id</th>\n",
              "      <th>lat</th>\n",
              "      <th>lon</th>\n",
              "      <th>dollar_price</th>\n",
              "      <th>review_scores_rating</th>\n",
              "    </tr>\n",
              "  </thead>\n",
              "  <tbody>\n",
              "    <tr>\n",
              "      <th>0</th>\n",
              "      <td>21456</td>\n",
              "      <td>40.797642</td>\n",
              "      <td>-73.961775</td>\n",
              "      <td>140.0</td>\n",
              "      <td>94.0</td>\n",
              "    </tr>\n",
              "    <tr>\n",
              "      <th>1</th>\n",
              "      <td>2539</td>\n",
              "      <td>40.647486</td>\n",
              "      <td>-73.972370</td>\n",
              "      <td>149.0</td>\n",
              "      <td>98.0</td>\n",
              "    </tr>\n",
              "    <tr>\n",
              "      <th>2</th>\n",
              "      <td>21644</td>\n",
              "      <td>40.828028</td>\n",
              "      <td>-73.947308</td>\n",
              "      <td>89.0</td>\n",
              "      <td>100.0</td>\n",
              "    </tr>\n",
              "    <tr>\n",
              "      <th>3</th>\n",
              "      <td>3330</td>\n",
              "      <td>40.708558</td>\n",
              "      <td>-73.942362</td>\n",
              "      <td>70.0</td>\n",
              "      <td>98.0</td>\n",
              "    </tr>\n",
              "    <tr>\n",
              "      <th>4</th>\n",
              "      <td>21794</td>\n",
              "      <td>40.740085</td>\n",
              "      <td>-74.002706</td>\n",
              "      <td>111.0</td>\n",
              "      <td>99.0</td>\n",
              "    </tr>\n",
              "  </tbody>\n",
              "</table>\n",
              "</div>"
            ],
            "text/plain": [
              "      id        lat        lon  dollar_price  review_scores_rating\n",
              "0  21456  40.797642 -73.961775         140.0                  94.0\n",
              "1   2539  40.647486 -73.972370         149.0                  98.0\n",
              "2  21644  40.828028 -73.947308          89.0                 100.0\n",
              "3   3330  40.708558 -73.942362          70.0                  98.0\n",
              "4  21794  40.740085 -74.002706         111.0                  99.0"
            ]
          },
          "metadata": {
            "tags": []
          },
          "execution_count": 9
        }
      ]
    },
    {
      "cell_type": "markdown",
      "metadata": {
        "id": "Y9uSR_0rfJXr"
      },
      "source": [
        "**We are now left with only 5 of the 96 columns.**"
      ]
    },
    {
      "cell_type": "markdown",
      "metadata": {
        "id": "fyH649cyfJXs"
      },
      "source": [
        "---"
      ]
    },
    {
      "cell_type": "markdown",
      "metadata": {
        "id": "-sHd94nnfJXs"
      },
      "source": [
        "#### Understanding the spatial features of our dataset"
      ]
    },
    {
      "cell_type": "markdown",
      "metadata": {
        "id": "rBbzSB6rfJXs"
      },
      "source": [
        "Even though we know that our data holds airbnb listings for New York city, at the moment we have no feeling about the amount, distribution, and character of our dataset.   \n",
        "The simplest way to get a first glance at the data is to plot every listing with a simple dot map."
      ]
    },
    {
      "cell_type": "code",
      "metadata": {
        "id": "2HCDwZiYfJXt"
      },
      "source": [
        "# import DataAccessObject and create a data object as an instance of that class\n",
        "from geoplotlib.utils import DataAccessObject\n",
        "data = DataAccessObject(sub_data)"
      ],
      "execution_count": null,
      "outputs": []
    },
    {
      "cell_type": "code",
      "metadata": {
        "id": "7Vd2I5LnfJXt"
      },
      "source": [
        "# plotting the whole dataset with dots\n",
        "geoplotlib.dot(data)\n",
        "geoplotlib.show()"
      ],
      "execution_count": null,
      "outputs": []
    },
    {
      "cell_type": "markdown",
      "metadata": {
        "id": "Pe2ivnCifJXu"
      },
      "source": [
        "This gives us a better understanding about the distribution and character of our data."
      ]
    },
    {
      "cell_type": "markdown",
      "metadata": {
        "id": "8DR7EpDjfJXu"
      },
      "source": [
        "---"
      ]
    },
    {
      "cell_type": "markdown",
      "metadata": {
        "id": "L4lc7fP7fJXu"
      },
      "source": [
        "### Writing the custom layer to map the price and rating to a color"
      ]
    },
    {
      "cell_type": "markdown",
      "metadata": {
        "id": "enzMfd5efJXv"
      },
      "source": [
        "The last step is to write the custom layer. Here we want to define a `ValueLayer` that extends the `BaseLayer` of geoplotlib.   \n",
        "For the mentioned interactive feature we need an additional import. `pyglet` provides us with the option to act on key presses.\n",
        "\n",
        "Given the data, we want to plot each point on the map with a color that is defined by the currently selected attribute, either price or rating.   \n",
        "To avoid non-descriptive output, we need to also adjust the scale of our color map. Ratings are between 0 and 100, whereas prices can be much higer. Using a linear (`lin`) scale for the ratings and a logarithmic ('log') scale for the price will give us much better insights into our data.\n",
        "The view (bounding box) of our visualization will be set to New York and a text information with the currently selected attribute will be displayed in the upper right corner."
      ]
    },
    {
      "cell_type": "markdown",
      "metadata": {
        "id": "Ni9wqTEbfJXx"
      },
      "source": [
        "<img src=\"./assets/colorscale.png\" width=500/>   \n",
        "> The jet color map displays low values as cooler tones and higher values as hotter. "
      ]
    },
    {
      "cell_type": "markdown",
      "metadata": {
        "id": "LlMp3bLtfJXx"
      },
      "source": [
        "In order to assign each point a different color, we simply paint each point separately. This is definitely not the most efficient solution, but it wills suite for now.\n",
        "We will need the following instance variables:   \n",
        "- self.data that holds the dataset\n",
        "- self.display that holds the currently selected attribute name\n",
        "- self.painter holds an instance of the BatchPainter class\n",
        "- self.view holds the BoundingBox\n",
        "- self.cmap holds a color map with the `jet` color schmema, alpha of 255 and 100 levels\n",
        "\n",
        "Inside the `invalidate` method that holds the logic of projection the data to points on the map, we have to switch between the `lin` and `log` scales, depending on the attribute that is currently selected.   \n",
        "The color is then determined by \"placing\" the value between 0/1 and the maximum (`max_val`) value which also has to be taken from the dataset based on what attribute currently is display."
      ]
    },
    {
      "cell_type": "code",
      "metadata": {
        "id": "LJvsBVvSfJXx"
      },
      "source": [
        "# custom layer creation\n",
        "import pyglet\n",
        "import geoplotlib\n",
        "from geoplotlib.layers import BaseLayer\n",
        "from geoplotlib.core import BatchPainter\n",
        "from geoplotlib.colors import ColorMap\n",
        "from geoplotlib.utils import BoundingBox\n",
        "\n",
        "class ValueLayer(BaseLayer):\n",
        "\n",
        "    def __init__(self, dataset, bbox=BoundingBox.WORLD):\n",
        "        # initialize instance variables\n",
        "        self.data = dataset\n",
        "        self.display = 'dollar_price'\n",
        "        self.painter = BatchPainter()\n",
        "        self.view = bbox\n",
        "        self.cmap = ColorMap('jet', alpha=255, levels=100)\n",
        "        \n",
        "    def invalidate(self, proj):\n",
        "        # paint every point with a color that represents the currently selected attributes value\n",
        "        self.painter = BatchPainter()\n",
        "        max_val = max(self.data[self.display])\n",
        "        scale = 'log' if self.display == 'dollar_price' else 'lin'\n",
        "        \n",
        "        for index, id in enumerate(self.data['id']):\n",
        "            # log scale can't start at 0, must be 1\n",
        "            min_val = max(self.data[self.display][index], 1)\n",
        "            \n",
        "            color = self.cmap.to_color(min_val, max_val, scale)\n",
        "            self.painter.set_color(color)\n",
        "            lat, lon = self.data['lon'][index], self.data['lat'][index]\n",
        "            x, y = proj.lonlat_to_screen(lat, lon)\n",
        "            self.painter.points(x, y, 5)\n",
        "        \n",
        "    def draw(self, proj, mouse_x, mouse_y, ui_manager):\n",
        "        # display the ui manager info\n",
        "        ui_manager.info('Use left and right to switch between the displaying of price and ratings. Currently displaying: {}'.format(self.display))\n",
        "        self.painter.batch_draw()\n",
        "        \n",
        "    def on_key_release(self, key, modifiers):\n",
        "        # check if left or right keys are pressed to switch to other attribute\n",
        "        if key == pyglet.window.key.LEFT or key == pyglet.window.key.RIGHT:\n",
        "            self.display = 'dollar_price' if self.display != 'dollar_price' else 'review_scores_rating'\n",
        "            return True\n",
        "        return False\n",
        "        \n",
        "    def bbox(self):\n",
        "        # bounding box that gets used when layer is created\n",
        "        return self.view"
      ],
      "execution_count": null,
      "outputs": []
    },
    {
      "cell_type": "markdown",
      "metadata": {
        "id": "5ONjQyhKfJXy"
      },
      "source": [
        "Since our dataset only contains data from New York, we want to set the view to New York in the beginning.   \n",
        "Therefore we need an instance of the `BoundingBox` class with the given parameters.\n",
        "\n",
        "In addition to a custom `BoundingBox`, we will use the `darkmatter` tile provider we have looked at in lesson 5."
      ]
    },
    {
      "cell_type": "code",
      "metadata": {
        "id": "1eZ0YyQ_fJXz"
      },
      "source": [
        "# bounding box for our view on New York\n",
        "from geoplotlib.utils import BoundingBox\n",
        "\n",
        "ny_bbox = BoundingBox(north=40.897994, west=-73.999040, south=40.595581, east=-73.95040)"
      ],
      "execution_count": null,
      "outputs": []
    },
    {
      "cell_type": "code",
      "metadata": {
        "id": "7ssLoYyCfJXz"
      },
      "source": [
        "# displaying our custom layer using add_layer\n",
        "geoplotlib.tiles_provider('darkmatter')\n",
        "geoplotlib.add_layer(ValueLayer(data, bbox=ny_bbox))\n",
        "geoplotlib.show()"
      ],
      "execution_count": null,
      "outputs": []
    }
  ]
}