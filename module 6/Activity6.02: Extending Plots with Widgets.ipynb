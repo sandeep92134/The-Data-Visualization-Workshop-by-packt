{
  "nbformat": 4,
  "nbformat_minor": 0,
  "metadata": {
    "kernelspec": {
      "display_name": "Python 3",
      "language": "python",
      "name": "python3"
    },
    "language_info": {
      "codemirror_mode": {
        "name": "ipython",
        "version": 3
      },
      "file_extension": ".py",
      "mimetype": "text/x-python",
      "name": "python",
      "nbconvert_exporter": "python",
      "pygments_lexer": "ipython3",
      "version": "3.7.2"
    },
    "colab": {
      "name": "Activity6.02.ipynb",
      "provenance": [],
      "include_colab_link": true
    },
    "widgets": {
      "application/vnd.jupyter.widget-state+json": {
        "de1ebf3fa76f43778f46243cda8ec5cd": {
          "model_module": "@jupyter-widgets/controls",
          "model_name": "VBoxModel",
          "state": {
            "_view_name": "VBoxView",
            "_dom_classes": [
              "widget-interact"
            ],
            "_model_name": "VBoxModel",
            "_view_module": "@jupyter-widgets/controls",
            "_model_module_version": "1.5.0",
            "_view_count": null,
            "_view_module_version": "1.5.0",
            "box_style": "",
            "layout": "IPY_MODEL_dbdb1d3cf30a494e96a668935fa23fb5",
            "_model_module": "@jupyter-widgets/controls",
            "children": [
              "IPY_MODEL_0675d7ed810a49d6961eb2263293f163",
              "IPY_MODEL_7b986b2fd1704632ae9dc9d016bcc114",
              "IPY_MODEL_fd03cd0c861a40a1a558dc194c241eda"
            ]
          }
        },
        "dbdb1d3cf30a494e96a668935fa23fb5": {
          "model_module": "@jupyter-widgets/base",
          "model_name": "LayoutModel",
          "state": {
            "_view_name": "LayoutView",
            "grid_template_rows": null,
            "right": null,
            "justify_content": null,
            "_view_module": "@jupyter-widgets/base",
            "overflow": null,
            "_model_module_version": "1.2.0",
            "_view_count": null,
            "flex_flow": null,
            "width": null,
            "min_width": null,
            "border": null,
            "align_items": null,
            "bottom": null,
            "_model_module": "@jupyter-widgets/base",
            "top": null,
            "grid_column": null,
            "overflow_y": null,
            "overflow_x": null,
            "grid_auto_flow": null,
            "grid_area": null,
            "grid_template_columns": null,
            "flex": null,
            "_model_name": "LayoutModel",
            "justify_items": null,
            "grid_row": null,
            "max_height": null,
            "align_content": null,
            "visibility": null,
            "align_self": null,
            "height": null,
            "min_height": null,
            "padding": null,
            "grid_auto_rows": null,
            "grid_gap": null,
            "max_width": null,
            "order": null,
            "_view_module_version": "1.2.0",
            "grid_template_areas": null,
            "object_position": null,
            "object_fit": null,
            "grid_auto_columns": null,
            "margin": null,
            "display": null,
            "left": null
          }
        },
        "0675d7ed810a49d6961eb2263293f163": {
          "model_module": "@jupyter-widgets/controls",
          "model_name": "IntSliderModel",
          "state": {
            "_view_name": "IntSliderView",
            "style": "IPY_MODEL_c1ea6a30f76f403b8cd70288821255fa",
            "_dom_classes": [],
            "description": "Max. Athletes:",
            "step": 1,
            "_model_name": "IntSliderModel",
            "orientation": "vertical",
            "max": 567,
            "_view_module": "@jupyter-widgets/controls",
            "_model_module_version": "1.5.0",
            "value": 567,
            "_view_count": null,
            "disabled": false,
            "_view_module_version": "1.5.0",
            "min": 0,
            "continuous_update": false,
            "readout_format": "d",
            "description_tooltip": null,
            "readout": true,
            "_model_module": "@jupyter-widgets/controls",
            "layout": "IPY_MODEL_729c0453a218463b93b4b4749c686139"
          }
        },
        "7b986b2fd1704632ae9dc9d016bcc114": {
          "model_module": "@jupyter-widgets/controls",
          "model_name": "IntSliderModel",
          "state": {
            "_view_name": "IntSliderView",
            "style": "IPY_MODEL_9853893694154b73a58e257a9cae931d",
            "_dom_classes": [],
            "description": "Max. Medals:",
            "step": 1,
            "_model_name": "IntSliderModel",
            "orientation": "horizontal",
            "max": 264,
            "_view_module": "@jupyter-widgets/controls",
            "_model_module_version": "1.5.0",
            "value": 0,
            "_view_count": null,
            "disabled": false,
            "_view_module_version": "1.5.0",
            "min": 0,
            "continuous_update": false,
            "readout_format": "d",
            "description_tooltip": null,
            "readout": true,
            "_model_module": "@jupyter-widgets/controls",
            "layout": "IPY_MODEL_f73d6408d4cd471f8fad6190f9dc52ab"
          }
        },
        "fd03cd0c861a40a1a558dc194c241eda": {
          "model_module": "@jupyter-widgets/output",
          "model_name": "OutputModel",
          "state": {
            "_view_name": "OutputView",
            "msg_id": "",
            "_dom_classes": [],
            "_model_name": "OutputModel",
            "outputs": [
              {
                "output_type": "display_data",
                "metadata": {
                  "tags": []
                },
                "text/html": "\n\n\n\n\n\n  <div class=\"bk-root\" id=\"1cb9a6af-1409-43fe-8085-b7840fcaa782\" data-root-id=\"2002\"></div>\n"
              },
              {
                "output_type": "display_data",
                "metadata": {
                  "tags": [],
                  "application/vnd.bokehjs_exec.v0+json": {
                    "id": "2002"
                  }
                },
                "application/javascript": "(function(root) {\n  function embed_document(root) {\n    \n  var docs_json = {\"0719559b-c7bf-4861-9af1-fbfec7e2ae80\":{\"roots\":{\"references\":[{\"attributes\":{\"below\":[{\"id\":\"2013\"}],\"center\":[{\"id\":\"2016\"},{\"id\":\"2020\"}],\"left\":[{\"id\":\"2017\"}],\"plot_height\":500,\"plot_width\":800,\"renderers\":[{\"id\":\"2040\"}],\"title\":{\"id\":\"2003\"},\"toolbar\":{\"id\":\"2029\"},\"x_range\":{\"id\":\"2005\"},\"x_scale\":{\"id\":\"2009\"},\"y_range\":{\"id\":\"2007\"},\"y_scale\":{\"id\":\"2011\"}},\"id\":\"2002\",\"subtype\":\"Figure\",\"type\":\"Plot\"},{\"attributes\":{},\"id\":\"2024\",\"type\":\"SaveTool\"},{\"attributes\":{},\"id\":\"2025\",\"type\":\"ResetTool\"},{\"attributes\":{\"text\":\"Rio Olympics 2016 - Medal comparison\"},\"id\":\"2003\",\"type\":\"Title\"},{\"attributes\":{},\"id\":\"2026\",\"type\":\"HelpTool\"},{\"attributes\":{},\"id\":\"2005\",\"type\":\"DataRange1d\"},{\"attributes\":{},\"id\":\"2007\",\"type\":\"DataRange1d\"},{\"attributes\":{},\"id\":\"2009\",\"type\":\"LinearScale\"},{\"attributes\":{},\"id\":\"2011\",\"type\":\"LinearScale\"},{\"attributes\":{\"axis_label\":\"Number of Medals\",\"formatter\":{\"id\":\"2107\"},\"ticker\":{\"id\":\"2014\"}},\"id\":\"2013\",\"type\":\"LinearAxis\"},{\"attributes\":{\"bottom_units\":\"screen\",\"fill_alpha\":0.5,\"fill_color\":\"lightgrey\",\"left_units\":\"screen\",\"level\":\"overlay\",\"line_alpha\":1.0,\"line_color\":\"black\",\"line_dash\":[4,4],\"line_width\":2,\"right_units\":\"screen\",\"top_units\":\"screen\"},\"id\":\"2027\",\"type\":\"BoxAnnotation\"},{\"attributes\":{},\"id\":\"2014\",\"type\":\"BasicTicker\"},{\"attributes\":{\"callback\":null,\"tooltips\":[[\"Country\",\"@countries\"],[\"Num of Athletes\",\"@y\"],[\"Gold\",\"@gold\"],[\"Silver\",\"@silver\"],[\"Bronze\",\"@bronze\"]]},\"id\":\"2028\",\"type\":\"HoverTool\"},{\"attributes\":{\"active_drag\":\"auto\",\"active_inspect\":\"auto\",\"active_multi\":null,\"active_scroll\":\"auto\",\"active_tap\":\"auto\",\"tools\":[{\"id\":\"2021\"},{\"id\":\"2022\"},{\"id\":\"2023\"},{\"id\":\"2024\"},{\"id\":\"2025\"},{\"id\":\"2026\"},{\"id\":\"2028\"}]},\"id\":\"2029\",\"type\":\"Toolbar\"},{\"attributes\":{\"axis\":{\"id\":\"2013\"},\"ticker\":null},\"id\":\"2016\",\"type\":\"Grid\"},{\"attributes\":{\"axis_label\":\"Num of Athletes\",\"formatter\":{\"id\":\"2109\"},\"ticker\":{\"id\":\"2018\"}},\"id\":\"2017\",\"type\":\"LinearAxis\"},{\"attributes\":{\"data_source\":{\"id\":\"2001\"},\"glyph\":{\"id\":\"2038\"},\"hover_glyph\":null,\"muted_glyph\":null,\"nonselection_glyph\":{\"id\":\"2039\"},\"selection_glyph\":null,\"view\":{\"id\":\"2041\"}},\"id\":\"2040\",\"type\":\"GlyphRenderer\"},{\"attributes\":{\"source\":{\"id\":\"2001\"}},\"id\":\"2041\",\"type\":\"CDSView\"},{\"attributes\":{},\"id\":\"2018\",\"type\":\"BasicTicker\"},{\"attributes\":{\"fill_alpha\":{\"value\":0.1},\"fill_color\":{\"field\":\"color\"},\"line_alpha\":{\"value\":0.1},\"line_color\":{\"field\":\"color\"},\"size\":{\"units\":\"screen\",\"value\":20},\"x\":{\"field\":\"x\"},\"y\":{\"field\":\"y\"}},\"id\":\"2039\",\"type\":\"Circle\"},{\"attributes\":{\"axis\":{\"id\":\"2017\"},\"dimension\":1,\"ticker\":null},\"id\":\"2020\",\"type\":\"Grid\"},{\"attributes\":{},\"id\":\"2107\",\"type\":\"BasicTickFormatter\"},{\"attributes\":{\"fill_alpha\":{\"value\":0.5},\"fill_color\":{\"field\":\"color\"},\"line_alpha\":{\"value\":0.5},\"line_color\":{\"field\":\"color\"},\"size\":{\"units\":\"screen\",\"value\":20},\"x\":{\"field\":\"x\"},\"y\":{\"field\":\"y\"}},\"id\":\"2038\",\"type\":\"Circle\"},{\"attributes\":{},\"id\":\"2109\",\"type\":\"BasicTickFormatter\"},{\"attributes\":{},\"id\":\"2111\",\"type\":\"Selection\"},{\"attributes\":{},\"id\":\"2112\",\"type\":\"UnionRenderers\"},{\"attributes\":{\"data\":{\"bronze\":[0,0,0,0,0,0,0,0,0,0,0,0,0,0,0,0,0,0,0,0,0,0,0,0,0,0,0,0,0,0,0,0,0,0,0,0,0,0,0,0,0,0,0,0,0,0,0,0,0,0,0,0,0,0,0,0,0,0,0,0,0,0,0,0,0,0,0,0,0,0,0,0,0,0,0,0,0,0,0,0,0,0,0,0,0,0,0,0,0,0,0,0,0,0,0,0,0,0,0,0,0,0,0,0,0,0,0,0,0,0,0,0,0,0,0,0,0,0,0,0],\"color\":[\"#3d1669\",\"#524924\",\"#5bd830\",\"#200826\",\"#c6ae92\",\"#54c396\",\"#395313\",\"#174008\",\"#502bce\",\"#a1ec01\",\"#ab48e8\",\"#54f2b4\",\"#9092e8\",\"#b73604\",\"#e8206f\",\"#8eadd7\",\"#d21aa8\",\"#38c15a\",\"#06d790\",\"#606b38\",\"#257ac5\",\"#fe4dd3\",\"#77be24\",\"#1e4f22\",\"#5ab04d\",\"#c77dce\",\"#dc56cf\",\"#239151\",\"#c25773\",\"#06c746\",\"#6d8e43\",\"#3f1980\",\"#2ac002\",\"#601488\",\"#4e1b34\",\"#7a7a06\",\"#3e8729\",\"#7b17db\",\"#a87589\",\"#38e921\",\"#b332a6\",\"#2e6367\",\"#d9b250\",\"#240f06\",\"#604fd2\",\"#07cd18\",\"#c2128a\",\"#d1d5b8\",\"#25c9eb\",\"#f629c7\",\"#d9a1a9\",\"#382068\",\"#a0409f\",\"#7031ca\",\"#6643f0\",\"#72574d\",\"#e3f1e5\",\"#144861\",\"#1b0d26\",\"#67e2cf\",\"#0f694b\",\"#39bf12\",\"#ccd019\",\"#33649e\",\"#30f135\",\"#f7e12e\",\"#510ca5\",\"#76b420\",\"#a8113e\",\"#e54cff\",\"#4ab8f8\",\"#74bcc7\",\"#d70e00\",\"#df81ee\",\"#990082\",\"#ed68eb\",\"#8268b4\",\"#dfdbef\",\"#8f8ca2\",\"#dc31be\",\"#ba22d0\",\"#aae241\",\"#53cf59\",\"#4cf9ec\",\"#390885\",\"#107158\",\"#963347\",\"#a02a1a\",\"#38388e\",\"#e9a99d\",\"#a90c49\",\"#2dbe26\",\"#e07a48\",\"#95125b\",\"#749743\",\"#7afb9d\",\"#59215a\",\"#f9f47d\",\"#31d7aa\",\"#dfb01e\",\"#f4ff3a\",\"#b9c170\",\"#6bacd7\",\"#009f81\",\"#90277d\",\"#8e2e7b\",\"#def5f6\",\"#cf6780\",\"#c7140a\",\"#7c396c\",\"#7f0725\",\"#5465be\",\"#a72d87\",\"#ce9494\",\"#f665a5\",\"#607b7b\",\"#3d1fb0\",\"#d8b3d1\",\"#0cb792\",\"#5a52d4\"],\"countries\":[\"SUD\",\"DJI\",\"SEN\",\"CMR\",\"GHA\",\"AFG\",\"KSA\",\"BAN\",\"ERI\",\"SEY\",\"GAM\",\"RWA\",\"TOG\",\"MDV\",\"LAT\",\"LIB\",\"LBA\",\"PLE\",\"IRQ\",\"KGZ\",\"BAR\",\"HON\",\"ANG\",\"URU\",\"MNE\",\"SMR\",\"COK\",\"SAM\",\"ECU\",\"NAM\",\"GUY\",\"SKN\",\"ARU\",\"PAN\",\"PER\",\"TAN\",\"GUI\",\"TKM\",\"BIH\",\"TGA\",\"MAW\",\"GUA\",\"MKD\",\"CYP\",\"CHI\",\"MLT\",\"ZIM\",\"CRC\",\"BOL\",\"BUR\",\"ISL\",\"HAI\",\"ROT\",\"MAD\",\"GAB\",\"SRI\",\"LAO\",\"MRI\",\"PAR\",\"IVB\",\"GBS\",\"TLS\",\"MLI\",\"SYR\",\"BOT\",\"CHA\",\"OMA\",\"COD\",\"GEQ\",\"UGA\",\"GUM\",\"ASA\",\"ZAM\",\"VAN\",\"BIZ\",\"VIN\",\"MON\",\"ALB\",\"STP\",\"SLE\",\"BER\",\"HKG\",\"ISV\",\"CGO\",\"ANT\",\"BEN\",\"LUX\",\"CAF\",\"LIE\",\"MHL\",\"NCA\",\"KIR\",\"CPV\",\"FSM\",\"COM\",\"PLW\",\"MYA\",\"NRU\",\"LBR\",\"ESA\",\"AND\",\"TUV\",\"SUR\",\"CAY\",\"NEP\",\"PAK\",\"SSD\",\"MTN\",\"MOZ\",\"LES\",\"LCA\",\"BRU\",\"SOL\",\"BHU\",\"CAM\",\"SOM\",\"PNG\",\"YEM\",\"SWZ\",\"DMA\"],\"gold\":[0,0,0,0,0,0,0,0,0,0,0,0,0,0,0,0,0,0,0,0,0,0,0,0,0,0,0,0,0,0,0,0,0,0,0,0,0,0,0,0,0,0,0,0,0,0,0,0,0,0,0,0,0,0,0,0,0,0,0,0,0,0,0,0,0,0,0,0,0,0,0,0,0,0,0,0,0,0,0,0,0,0,0,0,0,0,0,0,0,0,0,0,0,0,0,0,0,0,0,0,0,0,0,0,0,0,0,0,0,0,0,0,0,0,0,0,0,0,0,0],\"silver\":[0,0,0,0,0,0,0,0,0,0,0,0,0,0,0,0,0,0,0,0,0,0,0,0,0,0,0,0,0,0,0,0,0,0,0,0,0,0,0,0,0,0,0,0,0,0,0,0,0,0,0,0,0,0,0,0,0,0,0,0,0,0,0,0,0,0,0,0,0,0,0,0,0,0,0,0,0,0,0,0,0,0,0,0,0,0,0,0,0,0,0,0,0,0,0,0,0,0,0,0,0,0,0,0,0,0,0,0,0,0,0,0,0,0,0,0,0,0,0,0],\"x\":[0,0,0,0,0,0,0,0,0,0,0,0,0,0,0,0,0,0,0,0,0,0,0,0,0,0,0,0,0,0,0,0,0,0,0,0,0,0,0,0,0,0,0,0,0,0,0,0,0,0,0,0,0,0,0,0,0,0,0,0,0,0,0,0,0,0,0,0,0,0,0,0,0,0,0,0,0,0,0,0,0,0,0,0,0,0,0,0,0,0,0,0,0,0,0,0,0,0,0,0,0,0,0,0,0,0,0,0,0,0,0,0,0,0,0,0,0,0,0,0],\"y\":[6,7,22,24,16,3,11,7,12,10,4,7,5,4,32,9,7,6,26,19,11,30,26,17,35,5,9,8,38,10,6,7,7,10,29,7,5,9,11,7,5,21,6,16,42,7,35,11,12,5,8,10,10,6,6,9,6,11,11,4,5,3,6,7,12,2,4,4,2,21,5,4,7,4,3,4,3,6,3,4,8,38,7,10,9,6,10,6,3,5,5,3,5,5,4,5,7,2,2,8,5,1,6,5,7,7,3,2,6,8,5,3,3,2,6,2,8,3,2,2]},\"selected\":{\"id\":\"2111\"},\"selection_policy\":{\"id\":\"2112\"}},\"id\":\"2001\",\"type\":\"ColumnDataSource\"},{\"attributes\":{},\"id\":\"2021\",\"type\":\"PanTool\"},{\"attributes\":{},\"id\":\"2022\",\"type\":\"WheelZoomTool\"},{\"attributes\":{\"overlay\":{\"id\":\"2027\"}},\"id\":\"2023\",\"type\":\"BoxZoomTool\"}],\"root_ids\":[\"2002\"]},\"title\":\"Bokeh Application\",\"version\":\"2.1.1\"}};\n  var render_items = [{\"docid\":\"0719559b-c7bf-4861-9af1-fbfec7e2ae80\",\"root_ids\":[\"2002\"],\"roots\":{\"2002\":\"1cb9a6af-1409-43fe-8085-b7840fcaa782\"}}];\n  root.Bokeh.embed.embed_items_notebook(docs_json, render_items);\n\n  }\n  if (root.Bokeh !== undefined) {\n    embed_document(root);\n  } else {\n    var attempts = 0;\n    var timer = setInterval(function(root) {\n      if (root.Bokeh !== undefined) {\n        clearInterval(timer);\n        embed_document(root);\n      } else {\n        attempts++;\n        if (attempts > 100) {\n          clearInterval(timer);\n          console.log(\"Bokeh: ERROR: Unable to run BokehJS code because BokehJS library is missing\");\n        }\n      }\n    }, 10, root)\n  }\n})(window);",
                "application/vnd.bokehjs_exec.v0+json": ""
              }
            ],
            "_view_module": "@jupyter-widgets/output",
            "_model_module_version": "1.0.0",
            "_view_count": null,
            "_view_module_version": "1.0.0",
            "layout": "IPY_MODEL_63d83b1a143443f8b192ed4752c1dd5f",
            "_model_module": "@jupyter-widgets/output"
          }
        },
        "c1ea6a30f76f403b8cd70288821255fa": {
          "model_module": "@jupyter-widgets/controls",
          "model_name": "SliderStyleModel",
          "state": {
            "_view_name": "StyleView",
            "handle_color": null,
            "_model_name": "SliderStyleModel",
            "description_width": "",
            "_view_module": "@jupyter-widgets/base",
            "_model_module_version": "1.5.0",
            "_view_count": null,
            "_view_module_version": "1.2.0",
            "_model_module": "@jupyter-widgets/controls"
          }
        },
        "729c0453a218463b93b4b4749c686139": {
          "model_module": "@jupyter-widgets/base",
          "model_name": "LayoutModel",
          "state": {
            "_view_name": "LayoutView",
            "grid_template_rows": null,
            "right": null,
            "justify_content": null,
            "_view_module": "@jupyter-widgets/base",
            "overflow": null,
            "_model_module_version": "1.2.0",
            "_view_count": null,
            "flex_flow": null,
            "width": "100px",
            "min_width": null,
            "border": null,
            "align_items": null,
            "bottom": null,
            "_model_module": "@jupyter-widgets/base",
            "top": null,
            "grid_column": null,
            "overflow_y": null,
            "overflow_x": null,
            "grid_auto_flow": null,
            "grid_area": null,
            "grid_template_columns": null,
            "flex": null,
            "_model_name": "LayoutModel",
            "justify_items": null,
            "grid_row": null,
            "max_height": null,
            "align_content": null,
            "visibility": null,
            "align_self": null,
            "height": null,
            "min_height": null,
            "padding": null,
            "grid_auto_rows": null,
            "grid_gap": null,
            "max_width": null,
            "order": null,
            "_view_module_version": "1.2.0",
            "grid_template_areas": null,
            "object_position": null,
            "object_fit": null,
            "grid_auto_columns": null,
            "margin": null,
            "display": null,
            "left": null
          }
        },
        "9853893694154b73a58e257a9cae931d": {
          "model_module": "@jupyter-widgets/controls",
          "model_name": "SliderStyleModel",
          "state": {
            "_view_name": "StyleView",
            "handle_color": null,
            "_model_name": "SliderStyleModel",
            "description_width": "",
            "_view_module": "@jupyter-widgets/base",
            "_model_module_version": "1.5.0",
            "_view_count": null,
            "_view_module_version": "1.2.0",
            "_model_module": "@jupyter-widgets/controls"
          }
        },
        "f73d6408d4cd471f8fad6190f9dc52ab": {
          "model_module": "@jupyter-widgets/base",
          "model_name": "LayoutModel",
          "state": {
            "_view_name": "LayoutView",
            "grid_template_rows": null,
            "right": null,
            "justify_content": null,
            "_view_module": "@jupyter-widgets/base",
            "overflow": null,
            "_model_module_version": "1.2.0",
            "_view_count": null,
            "flex_flow": null,
            "width": null,
            "min_width": null,
            "border": null,
            "align_items": null,
            "bottom": null,
            "_model_module": "@jupyter-widgets/base",
            "top": null,
            "grid_column": null,
            "overflow_y": null,
            "overflow_x": null,
            "grid_auto_flow": null,
            "grid_area": null,
            "grid_template_columns": null,
            "flex": null,
            "_model_name": "LayoutModel",
            "justify_items": null,
            "grid_row": null,
            "max_height": null,
            "align_content": null,
            "visibility": null,
            "align_self": null,
            "height": null,
            "min_height": null,
            "padding": null,
            "grid_auto_rows": null,
            "grid_gap": null,
            "max_width": null,
            "order": null,
            "_view_module_version": "1.2.0",
            "grid_template_areas": null,
            "object_position": null,
            "object_fit": null,
            "grid_auto_columns": null,
            "margin": null,
            "display": null,
            "left": null
          }
        },
        "63d83b1a143443f8b192ed4752c1dd5f": {
          "model_module": "@jupyter-widgets/base",
          "model_name": "LayoutModel",
          "state": {
            "_view_name": "LayoutView",
            "grid_template_rows": null,
            "right": null,
            "justify_content": null,
            "_view_module": "@jupyter-widgets/base",
            "overflow": null,
            "_model_module_version": "1.2.0",
            "_view_count": null,
            "flex_flow": null,
            "width": null,
            "min_width": null,
            "border": null,
            "align_items": null,
            "bottom": null,
            "_model_module": "@jupyter-widgets/base",
            "top": null,
            "grid_column": null,
            "overflow_y": null,
            "overflow_x": null,
            "grid_auto_flow": null,
            "grid_area": null,
            "grid_template_columns": null,
            "flex": null,
            "_model_name": "LayoutModel",
            "justify_items": null,
            "grid_row": null,
            "max_height": null,
            "align_content": null,
            "visibility": null,
            "align_self": null,
            "height": null,
            "min_height": null,
            "padding": null,
            "grid_auto_rows": null,
            "grid_gap": null,
            "max_width": null,
            "order": null,
            "_view_module_version": "1.2.0",
            "grid_template_areas": null,
            "object_position": null,
            "object_fit": null,
            "grid_auto_columns": null,
            "margin": null,
            "display": null,
            "left": null
          }
        }
      }
    }
  },
  "cells": [
    {
      "cell_type": "markdown",
      "metadata": {
        "id": "view-in-github",
        "colab_type": "text"
      },
      "source": [
        "<a href=\"https://colab.research.google.com/github/sandeep92134/The-Data-Visualization-Workshop-by-packt/blob/master/module%206/Activity6.02%3A%20Extending%20Plots%20with%20Widgets.ipynb\" target=\"_parent\"><img src=\"https://colab.research.google.com/assets/colab-badge.svg\" alt=\"Open In Colab\"/></a>"
      ]
    },
    {
      "cell_type": "markdown",
      "metadata": {
        "id": "FG40y25xbn6R"
      },
      "source": [
        "## Activity 6.02: Extending Plots with Widgets"
      ]
    },
    {
      "cell_type": "markdown",
      "metadata": {
        "id": "GvL1Auhsbn6V"
      },
      "source": [
        "This activity will combine most of what you have already learned about Bokeh. You will also need the skills you have acquired while working with Pandas for additional dataframe handling.  \n",
        "\n",
        "We will create an interactive visualization that lets us explore the end results of the olympics 2016 in Rio. Our visualization will display each country that participated in a coordinate system where the x-axis represents the number of won medals and the y-axis the number of athletes.\n",
        "\n",
        "Using interactive widgets, we will be able to filter down the displayed countries in both, maximum amount of won medals and maximum amount of athletes."
      ]
    },
    {
      "cell_type": "markdown",
      "metadata": {
        "id": "ywwrtKR6bn6W"
      },
      "source": [
        "#### Loading our dataset"
      ]
    },
    {
      "cell_type": "code",
      "metadata": {
        "id": "322aFLiBbn6W"
      },
      "source": [
        "# importing the necessary dependencies\n",
        "import pandas as pd"
      ],
      "execution_count": 1,
      "outputs": []
    },
    {
      "cell_type": "code",
      "metadata": {
        "id": "BKFE7achbn6W"
      },
      "source": [
        "# make bokeh display figures inside the notebook\n",
        "from bokeh.io import output_notebook\n",
        "\n",
        "output_notebook()"
      ],
      "execution_count": 2,
      "outputs": []
    },
    {
      "cell_type": "code",
      "metadata": {
        "id": "tzSl7gR-bn6X"
      },
      "source": [
        "# loading the Dataset with geoplotlib\n",
        "dataset = pd.read_csv('https://raw.githubusercontent.com/sandeep92134/The-Data-Visualization-Workshop-by-packt/master/module%206/datasets/olympia2016_athletes.csv')"
      ],
      "execution_count": 3,
      "outputs": []
    },
    {
      "cell_type": "code",
      "metadata": {
        "colab": {
          "base_uri": "https://localhost:8080/",
          "height": 204
        },
        "id": "cqDaa3jVbn6Y",
        "outputId": "65863861-a420-4d6a-9a0e-20a431c40720"
      },
      "source": [
        "# looking at the dataset\n",
        "dataset.head()"
      ],
      "execution_count": 4,
      "outputs": [
        {
          "output_type": "execute_result",
          "data": {
            "text/html": [
              "<div>\n",
              "<style scoped>\n",
              "    .dataframe tbody tr th:only-of-type {\n",
              "        vertical-align: middle;\n",
              "    }\n",
              "\n",
              "    .dataframe tbody tr th {\n",
              "        vertical-align: top;\n",
              "    }\n",
              "\n",
              "    .dataframe thead th {\n",
              "        text-align: right;\n",
              "    }\n",
              "</style>\n",
              "<table border=\"1\" class=\"dataframe\">\n",
              "  <thead>\n",
              "    <tr style=\"text-align: right;\">\n",
              "      <th></th>\n",
              "      <th>id</th>\n",
              "      <th>name</th>\n",
              "      <th>nationality</th>\n",
              "      <th>sex</th>\n",
              "      <th>dob</th>\n",
              "      <th>height</th>\n",
              "      <th>weight</th>\n",
              "      <th>sport</th>\n",
              "      <th>gold</th>\n",
              "      <th>silver</th>\n",
              "      <th>bronze</th>\n",
              "    </tr>\n",
              "  </thead>\n",
              "  <tbody>\n",
              "    <tr>\n",
              "      <th>0</th>\n",
              "      <td>736041664</td>\n",
              "      <td>A Jesus Garcia</td>\n",
              "      <td>ESP</td>\n",
              "      <td>male</td>\n",
              "      <td>10/17/69</td>\n",
              "      <td>1.72</td>\n",
              "      <td>64.0</td>\n",
              "      <td>athletics</td>\n",
              "      <td>0</td>\n",
              "      <td>0</td>\n",
              "      <td>0</td>\n",
              "    </tr>\n",
              "    <tr>\n",
              "      <th>1</th>\n",
              "      <td>532037425</td>\n",
              "      <td>A Lam Shin</td>\n",
              "      <td>KOR</td>\n",
              "      <td>female</td>\n",
              "      <td>9/23/86</td>\n",
              "      <td>1.68</td>\n",
              "      <td>56.0</td>\n",
              "      <td>fencing</td>\n",
              "      <td>0</td>\n",
              "      <td>0</td>\n",
              "      <td>0</td>\n",
              "    </tr>\n",
              "    <tr>\n",
              "      <th>2</th>\n",
              "      <td>435962603</td>\n",
              "      <td>Aaron Brown</td>\n",
              "      <td>CAN</td>\n",
              "      <td>male</td>\n",
              "      <td>5/27/92</td>\n",
              "      <td>1.98</td>\n",
              "      <td>79.0</td>\n",
              "      <td>athletics</td>\n",
              "      <td>0</td>\n",
              "      <td>0</td>\n",
              "      <td>1</td>\n",
              "    </tr>\n",
              "    <tr>\n",
              "      <th>3</th>\n",
              "      <td>521041435</td>\n",
              "      <td>Aaron Cook</td>\n",
              "      <td>MDA</td>\n",
              "      <td>male</td>\n",
              "      <td>1/2/91</td>\n",
              "      <td>1.83</td>\n",
              "      <td>80.0</td>\n",
              "      <td>taekwondo</td>\n",
              "      <td>0</td>\n",
              "      <td>0</td>\n",
              "      <td>0</td>\n",
              "    </tr>\n",
              "    <tr>\n",
              "      <th>4</th>\n",
              "      <td>33922579</td>\n",
              "      <td>Aaron Gate</td>\n",
              "      <td>NZL</td>\n",
              "      <td>male</td>\n",
              "      <td>11/26/90</td>\n",
              "      <td>1.81</td>\n",
              "      <td>71.0</td>\n",
              "      <td>cycling</td>\n",
              "      <td>0</td>\n",
              "      <td>0</td>\n",
              "      <td>0</td>\n",
              "    </tr>\n",
              "  </tbody>\n",
              "</table>\n",
              "</div>"
            ],
            "text/plain": [
              "          id            name nationality  ... gold silver  bronze\n",
              "0  736041664  A Jesus Garcia         ESP  ...    0      0       0\n",
              "1  532037425      A Lam Shin         KOR  ...    0      0       0\n",
              "2  435962603     Aaron Brown         CAN  ...    0      0       1\n",
              "3  521041435      Aaron Cook         MDA  ...    0      0       0\n",
              "4   33922579      Aaron Gate         NZL  ...    0      0       0\n",
              "\n",
              "[5 rows x 11 columns]"
            ]
          },
          "metadata": {
            "tags": []
          },
          "execution_count": 4
        }
      ]
    },
    {
      "cell_type": "markdown",
      "metadata": {
        "id": "QboUNXPqbn6Y"
      },
      "source": [
        "Our dataset contains the following columns: \n",
        "\n",
        "- `id`: unique id of the athlete\n",
        "- `name`: name of the athlete\n",
        "- `nationality`: nationality of the athlete\n",
        "- `sex`: male or female\n",
        "- `dob`: date of birth of the athlete\n",
        "- `height`: height of the athlete\n",
        "- `weight`: weight of the athlete\n",
        "- `sport`: categorie the athlete is attending\n",
        "- `gold`: amount of gold medals the athlete won\n",
        "- `silver`: amount of silver medals the athlete won\n",
        "- `bronze`: amount of bronze medals the athlete won\n",
        "\n",
        "We want to use the nationality, gold, silver, and bronze columns to create a custom visualization that let us dig through the olympians."
      ]
    },
    {
      "cell_type": "markdown",
      "metadata": {
        "id": "1_R07BKXbn6Y"
      },
      "source": [
        "---"
      ]
    },
    {
      "cell_type": "markdown",
      "metadata": {
        "id": "zxdZ-ZbEbn6Y"
      },
      "source": [
        "#### Building an interactive visualization"
      ]
    },
    {
      "cell_type": "markdown",
      "metadata": {
        "id": "VXAN8ci7bn6Y"
      },
      "source": [
        "There are many options when it comes to choosing which interactivity to use.   \n",
        "Since the goal of this activity is to give you a better understanding of configuring widgets and adding tooltips, we will focus on having only two widgets.\n",
        "\n",
        "In the end, we will have a visualization that allows us to filter countries for the amount of medals and athletes they placed in the olympics and upon hovering the single data points, gives us more information about each country.   \n",
        "\n",
        "<img src=\"assets/plot.png\" width=\"500\" align=\"left\"/>\n"
      ]
    },
    {
      "cell_type": "code",
      "metadata": {
        "id": "RrBKFSvEbn6Z"
      },
      "source": [
        "# importing the necessary dependencies \n",
        "from bokeh.plotting import figure, show, ColumnDataSource\n",
        "from ipywidgets import interact, widgets"
      ],
      "execution_count": 5,
      "outputs": []
    },
    {
      "cell_type": "markdown",
      "metadata": {
        "id": "2QUUXnqKbn6Z"
      },
      "source": [
        "Like in the previous exercises we need to do some data extraction first.   \n",
        "In this activity we will need:   \n",
        "- a list of unique countries from the dataset\n",
        "- the amount of athletes for each country\n",
        "- the amount of medals won by each country, split in gold, silver, and bronze"
      ]
    },
    {
      "cell_type": "code",
      "metadata": {
        "colab": {
          "base_uri": "https://localhost:8080/"
        },
        "id": "FgYZZohkbn6Z",
        "outputId": "094cd1c0-6b8e-4b71-935c-ec9b4e5559fe"
      },
      "source": [
        "# extract countries and group olympians by country\n",
        "# and the number of medals per country\n",
        "countries = dataset['nationality'].unique()\n",
        "athletes_per_country = dataset.groupby('nationality').size()\n",
        "medals_per_country = dataset.groupby('nationality')['gold', 'silver','bronze'].sum()"
      ],
      "execution_count": 6,
      "outputs": [
        {
          "output_type": "stream",
          "text": [
            "/usr/local/lib/python3.6/dist-packages/ipykernel_launcher.py:5: FutureWarning: Indexing with multiple keys (implicitly converted to a tuple of keys) will be deprecated, use a list instead.\n",
            "  \"\"\"\n"
          ],
          "name": "stderr"
        }
      ]
    },
    {
      "cell_type": "markdown",
      "metadata": {
        "id": "eLcb6-7mbn6Z"
      },
      "source": [
        "Before we go in and implement the plotting for this visualization, we want to set up our widgets and the `@interact` method that will later display the plot upon execution.   \n",
        "\n",
        "Execute this empty `get_plot()` method cell and then move on to the widget creation. We will implement this later.\n",
        "\n",
        "The two arguments we get passed are `max_athletes` and `max_medals`. Both of them are int values.   \n",
        "First we want to filter down our countries dataset that contains all the countries that placed athletes in the olympic games.   \n",
        "We need to check whether they have less or equal medals and athletes than our max values passed as arguments.\n",
        "\n",
        "Once we have a filtered down dataset, we can create our datasource. This datasource will be used, both for the tooltips and the printing of the circle glyphs.\n",
        "\n",
        "> **Note:**   \n",
        "There is extensive documentation on how to use and setup tooltips, try to make use of that: https://bokeh.pydata.org/en/latest/docs/user_guide/tools.html\n",
        "\n",
        "Create a new plot using the `figure` method has the following attributes:   \n",
        "- title of 'Rio Olympics 2016 - Medal comparison'\n",
        "- x_axis_label of 'Number of Medals'\n",
        "- y_axis_label of 'Num of Athletes'"
      ]
    },
    {
      "cell_type": "code",
      "metadata": {
        "id": "etgWd1kLbn6a"
      },
      "source": [
        "# creating the scatter plot\n",
        "def get_plot(max_athletes, max_medals):\n",
        "    filtered_countries=[]\n",
        "    \n",
        "    for country in countries:\n",
        "        if (athletes_per_country[country] <= max_athletes and \n",
        "            medals_per_country.loc[country].sum() <= max_medals):\n",
        "            filtered_countries.append(country)\n",
        "        \n",
        "    data_source=get_datasource(filtered_countries)\n",
        "    TOOLTIPS=[\n",
        "        ('Country', '@countries'),\n",
        "        ('Num of Athletes', '@y'),\n",
        "        ('Gold', '@gold'),\n",
        "        ('Silver', '@silver'),\n",
        "        ('Bronze', '@bronze')\n",
        "    ]\n",
        "    \n",
        "    plot=figure(title='Rio Olympics 2016 - Medal comparison', \n",
        "                x_axis_label='Number of Medals',  \n",
        "                y_axis_label='Num of Athletes',\n",
        "                plot_width=800, \n",
        "                plot_height=500,\n",
        "                tooltips=TOOLTIPS)\n",
        "    \n",
        "    plot.circle('x', 'y', source=data_source, size=20, color='color', alpha=0.5)\n",
        "    \n",
        "    \n",
        "    return plot  "
      ],
      "execution_count": 7,
      "outputs": []
    },
    {
      "cell_type": "markdown",
      "metadata": {
        "id": "4N5vt3Sebn6a"
      },
      "source": [
        "In order to display every country with a different color, we want to randomly create the colors with a six digit hex code.    \n",
        "The method below does exactly this."
      ]
    },
    {
      "cell_type": "code",
      "metadata": {
        "id": "PKvZtL8bbn6a"
      },
      "source": [
        "# get a 6 digit random hex color to differentiate the countries better\n",
        "import random\n",
        "\n",
        "def get_random_color():\n",
        "    return '#%06x' % random.randint(0, 0xFFFFFF)"
      ],
      "execution_count": 8,
      "outputs": []
    },
    {
      "cell_type": "markdown",
      "metadata": {
        "id": "KqysnOVlbn6a"
      },
      "source": [
        "We will use a bokeh ColumnDataSource to handle our data and make it easily accessible for our tooltip and glyphs.   \n",
        "Since we want to display additional information in a tooltip we need our datasource to have:\n",
        "- color field that holds the required amount of random colors\n",
        "- countries field that holds the list of filtered down countries\n",
        "- gold field that holds the number of gold medals for each country\n",
        "- silver field that holds the number of silver medals for each country\n",
        "- bronze field that holds the number of bronze medals for each country\n",
        "- x field that holds the summed number of medals for each country\n",
        "- y field that holds the number of athletes for each country"
      ]
    },
    {
      "cell_type": "code",
      "metadata": {
        "id": "epyLuS7Jbn6a"
      },
      "source": [
        "# build the datasource\n",
        "def get_datasource(filtered_countries):\n",
        "    return ColumnDataSource(data=dict(\n",
        "        color=[get_random_color() for _ in filtered_countries],\n",
        "        countries=filtered_countries,\n",
        "        gold=[medals_per_country.loc[country]['gold'] for country in filtered_countries],\n",
        "        silver=[medals_per_country.loc[country]['silver'] for country in filtered_countries],\n",
        "        bronze=[medals_per_country.loc[country]['bronze'] for country in filtered_countries],\n",
        "        x=[medals_per_country.loc[country].sum() for country in filtered_countries],\n",
        "        y=[athletes_per_country.loc[country].sum() for country in filtered_countries]\n",
        "    ))"
      ],
      "execution_count": 9,
      "outputs": []
    },
    {
      "cell_type": "markdown",
      "metadata": {
        "id": "KwmxKv96bn6b"
      },
      "source": [
        "Before we start to implement the plot with bokeh, we want to set up our widgets.   \n",
        "In this activity we will use two `IntSlider` widgets that will control the max numbers for the amount of athletes or and medals a country is allowed to have in order to be displayed in the visualization.   \n",
        "\n",
        "We need two values in order to set up the widgets:\n",
        "- the maximum amount of medals of all the countries\n",
        "- the maximum amount of athletes of all the countries"
      ]
    },
    {
      "cell_type": "code",
      "metadata": {
        "id": "TUgShJINbn6b"
      },
      "source": [
        "# getting the max amount of medals and athletes of all countries\n",
        "max_medals = medals_per_country.sum(axis=1).max()\n",
        "max_athletes = athletes_per_country.max()"
      ],
      "execution_count": 10,
      "outputs": []
    },
    {
      "cell_type": "markdown",
      "metadata": {
        "id": "1s3exU8mbn6b"
      },
      "source": [
        "Using those maximum numbers as the maximum for both widgets will give us reasonable slider values that are dynamically adjusted if we should increase the amount of atheletes or medals in the dataset.\n",
        "\n",
        "We need two `IntSlider` objects that handle the input for our `max_athletes` and `max_medals`.   \n",
        "To look like our actual visualization, we want to have the `max_athletes_slider` displayed in a vertical orientation and the `max_medals_slider` in a horizontal orientation.   \n",
        "In the visualization, they should be display as \"Max. Athletes\" and \"Max. Medals\"."
      ]
    },
    {
      "cell_type": "code",
      "metadata": {
        "id": "MgI8KjwMbn6c"
      },
      "source": [
        "# setting up the interaction elements\n",
        "max_athletes_slider=widgets.IntSlider(\n",
        "    value=max_athletes,\n",
        "    min=0,\n",
        "    max=max_athletes,\n",
        "    step=1,\n",
        "    description='Max. Athletes:',\n",
        "    continuous_update=False,\n",
        "    orientation='vertical',\n",
        "    layout={'width': '100px'}\n",
        ")\n",
        "\n",
        "max_medals_slider=widgets.IntSlider(\n",
        "    value=max_medals,\n",
        "    min=0,\n",
        "    max=max_medals,\n",
        "    step=1,\n",
        "    description='Max. Medals:',\n",
        "    continuous_update=False,\n",
        "    orientation='horizontal'\n",
        ")"
      ],
      "execution_count": 11,
      "outputs": []
    },
    {
      "cell_type": "markdown",
      "metadata": {
        "id": "gON4TCJWbn6c"
      },
      "source": [
        "After setting up the widgets, we can the method that will be called with each update of the interaction widgets.   \n",
        "As seen in the previous exercise, we will use the `@interact` decorator for this.   \n",
        "\n",
        "Instead of value ranges or lists, we will provide the variable names of our already created widgets in the decorator.   \n",
        "Since we have already set up the empty method that will return a plot above, we can call `show()` with the method call inside to show the result once it is returned from the `get_plot` method.   \n",
        "\n",
        "Once you've build the widgets, upon execution, you will see them being displayed below the cell.   \n",
        "We are now ready to to **scroll up and implement the plotting** with Bokeh."
      ]
    },
    {
      "cell_type": "code",
      "metadata": {
        "colab": {
          "base_uri": "https://localhost:8080/",
          "height": 253,
          "referenced_widgets": [
            "de1ebf3fa76f43778f46243cda8ec5cd",
            "dbdb1d3cf30a494e96a668935fa23fb5",
            "0675d7ed810a49d6961eb2263293f163",
            "7b986b2fd1704632ae9dc9d016bcc114",
            "fd03cd0c861a40a1a558dc194c241eda",
            "c1ea6a30f76f403b8cd70288821255fa",
            "729c0453a218463b93b4b4749c686139",
            "9853893694154b73a58e257a9cae931d",
            "f73d6408d4cd471f8fad6190f9dc52ab",
            "63d83b1a143443f8b192ed4752c1dd5f"
          ]
        },
        "id": "7ibJEYK6bn6c",
        "outputId": "c8a80bfb-70c7-4297-cd33-d451e78e3f51"
      },
      "source": [
        "# creating the interact method \n",
        "@interact(max_athletes=max_athletes_slider, max_medals=max_medals_slider)\n",
        "def get_olympia_stats(max_athletes, max_medals):\n",
        "    show(get_plot(max_athletes, max_medals))"
      ],
      "execution_count": 14,
      "outputs": [
        {
          "output_type": "display_data",
          "data": {
            "application/vnd.jupyter.widget-view+json": {
              "model_id": "de1ebf3fa76f43778f46243cda8ec5cd",
              "version_minor": 0,
              "version_major": 2
            },
            "text/plain": [
              "interactive(children=(IntSlider(value=567, continuous_update=False, description='Max. Athletes:', layout=Layou…"
            ]
          },
          "metadata": {
            "tags": []
          }
        }
      ]
    },
    {
      "cell_type": "markdown",
      "metadata": {
        "id": "aVxDfviKbn6c"
      },
      "source": [
        "This is a nice example that shows us how we can easily add widgets that help us discover our data.   \n",
        "Tooltips are a very useful way to also make visualizations more interactive and espacially more understandable by providing additional information for each data point.\n",
        "\n",
        "**Note:**   \n",
        "Think about what else you could add/change for this visualization. Maybe we also want to display information about how many male vs. female athletes there are for each country.\n"
      ]
    }
  ]
}